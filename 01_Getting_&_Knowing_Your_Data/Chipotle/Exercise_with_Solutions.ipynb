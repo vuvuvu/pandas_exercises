{
  "cells": [
    {
      "cell_type": "markdown",
      "metadata": {
        "id": "view-in-github",
        "colab_type": "text"
      },
      "source": [
        "<a href=\"https://colab.research.google.com/github/vuvuvu/pandas_exercises/blob/master/01_Getting_%26_Knowing_Your_Data/Chipotle/Exercise_with_Solutions.ipynb\" target=\"_parent\"><img src=\"https://colab.research.google.com/assets/colab-badge.svg\" alt=\"Open In Colab\"/></a>"
      ]
    },
    {
      "cell_type": "markdown",
      "metadata": {
        "id": "Tz7YR7TvNKr-"
      },
      "source": [
        "# Ex2 - Getting and Knowing your Data\n",
        "\n",
        "Check out [Chipotle Exercises Video Tutorial](https://www.youtube.com/watch?v=lpuYZ5EUyS8&list=PLgJhDSE2ZLxaY_DigHeiIDC1cD09rXgJv&index=2) to watch a data scientist go through the exercises"
      ]
    },
    {
      "cell_type": "markdown",
      "metadata": {
        "id": "a1MRBK7KNKr_"
      },
      "source": [
        "This time we are going to pull data directly from the internet.\n",
        "Special thanks to: https://github.com/justmarkham for sharing the dataset and materials.\n",
        "\n",
        "### Step 1. Import the necessary libraries"
      ]
    },
    {
      "cell_type": "code",
      "execution_count": 1,
      "metadata": {
        "id": "QXmorLHkNKr_"
      },
      "outputs": [],
      "source": [
        "import pandas as pd\n",
        "import numpy as np"
      ]
    },
    {
      "cell_type": "markdown",
      "metadata": {
        "id": "3CvdVtKlNKsA"
      },
      "source": [
        "### Step 2. Import the dataset from this [address](https://raw.githubusercontent.com/justmarkham/DAT8/master/data/chipotle.tsv)."
      ]
    },
    {
      "cell_type": "markdown",
      "metadata": {
        "id": "-SeE62p4NKsA"
      },
      "source": [
        "### Step 3. Assign it to a variable called chipo."
      ]
    },
    {
      "cell_type": "code",
      "execution_count": 2,
      "metadata": {
        "id": "gxSehvBONKsB"
      },
      "outputs": [],
      "source": [
        "url = 'https://raw.githubusercontent.com/justmarkham/DAT8/master/data/chipotle.tsv'\n",
        "\n",
        "chipo = pd.read_csv(url, sep = '\\t')"
      ]
    },
    {
      "cell_type": "markdown",
      "metadata": {
        "id": "GxNgHbEkNKsB"
      },
      "source": [
        "### Step 4. See the first 10 entries"
      ]
    },
    {
      "cell_type": "code",
      "execution_count": 3,
      "metadata": {
        "scrolled": false,
        "id": "NIVXClQZNKsB",
        "outputId": "21da87de-6749-436b-ed85-4b8d4993288f",
        "colab": {
          "base_uri": "https://localhost:8080/",
          "height": 363
        }
      },
      "outputs": [
        {
          "output_type": "execute_result",
          "data": {
            "text/plain": [
              "   order_id  quantity                              item_name  \\\n",
              "0         1         1           Chips and Fresh Tomato Salsa   \n",
              "1         1         1                                   Izze   \n",
              "2         1         1                       Nantucket Nectar   \n",
              "3         1         1  Chips and Tomatillo-Green Chili Salsa   \n",
              "4         2         2                           Chicken Bowl   \n",
              "5         3         1                           Chicken Bowl   \n",
              "6         3         1                          Side of Chips   \n",
              "7         4         1                          Steak Burrito   \n",
              "8         4         1                       Steak Soft Tacos   \n",
              "9         5         1                          Steak Burrito   \n",
              "\n",
              "                                  choice_description item_price  \n",
              "0                                                NaN     $2.39   \n",
              "1                                       [Clementine]     $3.39   \n",
              "2                                            [Apple]     $3.39   \n",
              "3                                                NaN     $2.39   \n",
              "4  [Tomatillo-Red Chili Salsa (Hot), [Black Beans...    $16.98   \n",
              "5  [Fresh Tomato Salsa (Mild), [Rice, Cheese, Sou...    $10.98   \n",
              "6                                                NaN     $1.69   \n",
              "7  [Tomatillo Red Chili Salsa, [Fajita Vegetables...    $11.75   \n",
              "8  [Tomatillo Green Chili Salsa, [Pinto Beans, Ch...     $9.25   \n",
              "9  [Fresh Tomato Salsa, [Rice, Black Beans, Pinto...     $9.25   "
            ],
            "text/html": [
              "\n",
              "  <div id=\"df-7391a423-fbc9-4702-a9b5-ea6aee87fa09\" class=\"colab-df-container\">\n",
              "    <div>\n",
              "<style scoped>\n",
              "    .dataframe tbody tr th:only-of-type {\n",
              "        vertical-align: middle;\n",
              "    }\n",
              "\n",
              "    .dataframe tbody tr th {\n",
              "        vertical-align: top;\n",
              "    }\n",
              "\n",
              "    .dataframe thead th {\n",
              "        text-align: right;\n",
              "    }\n",
              "</style>\n",
              "<table border=\"1\" class=\"dataframe\">\n",
              "  <thead>\n",
              "    <tr style=\"text-align: right;\">\n",
              "      <th></th>\n",
              "      <th>order_id</th>\n",
              "      <th>quantity</th>\n",
              "      <th>item_name</th>\n",
              "      <th>choice_description</th>\n",
              "      <th>item_price</th>\n",
              "    </tr>\n",
              "  </thead>\n",
              "  <tbody>\n",
              "    <tr>\n",
              "      <th>0</th>\n",
              "      <td>1</td>\n",
              "      <td>1</td>\n",
              "      <td>Chips and Fresh Tomato Salsa</td>\n",
              "      <td>NaN</td>\n",
              "      <td>$2.39</td>\n",
              "    </tr>\n",
              "    <tr>\n",
              "      <th>1</th>\n",
              "      <td>1</td>\n",
              "      <td>1</td>\n",
              "      <td>Izze</td>\n",
              "      <td>[Clementine]</td>\n",
              "      <td>$3.39</td>\n",
              "    </tr>\n",
              "    <tr>\n",
              "      <th>2</th>\n",
              "      <td>1</td>\n",
              "      <td>1</td>\n",
              "      <td>Nantucket Nectar</td>\n",
              "      <td>[Apple]</td>\n",
              "      <td>$3.39</td>\n",
              "    </tr>\n",
              "    <tr>\n",
              "      <th>3</th>\n",
              "      <td>1</td>\n",
              "      <td>1</td>\n",
              "      <td>Chips and Tomatillo-Green Chili Salsa</td>\n",
              "      <td>NaN</td>\n",
              "      <td>$2.39</td>\n",
              "    </tr>\n",
              "    <tr>\n",
              "      <th>4</th>\n",
              "      <td>2</td>\n",
              "      <td>2</td>\n",
              "      <td>Chicken Bowl</td>\n",
              "      <td>[Tomatillo-Red Chili Salsa (Hot), [Black Beans...</td>\n",
              "      <td>$16.98</td>\n",
              "    </tr>\n",
              "    <tr>\n",
              "      <th>5</th>\n",
              "      <td>3</td>\n",
              "      <td>1</td>\n",
              "      <td>Chicken Bowl</td>\n",
              "      <td>[Fresh Tomato Salsa (Mild), [Rice, Cheese, Sou...</td>\n",
              "      <td>$10.98</td>\n",
              "    </tr>\n",
              "    <tr>\n",
              "      <th>6</th>\n",
              "      <td>3</td>\n",
              "      <td>1</td>\n",
              "      <td>Side of Chips</td>\n",
              "      <td>NaN</td>\n",
              "      <td>$1.69</td>\n",
              "    </tr>\n",
              "    <tr>\n",
              "      <th>7</th>\n",
              "      <td>4</td>\n",
              "      <td>1</td>\n",
              "      <td>Steak Burrito</td>\n",
              "      <td>[Tomatillo Red Chili Salsa, [Fajita Vegetables...</td>\n",
              "      <td>$11.75</td>\n",
              "    </tr>\n",
              "    <tr>\n",
              "      <th>8</th>\n",
              "      <td>4</td>\n",
              "      <td>1</td>\n",
              "      <td>Steak Soft Tacos</td>\n",
              "      <td>[Tomatillo Green Chili Salsa, [Pinto Beans, Ch...</td>\n",
              "      <td>$9.25</td>\n",
              "    </tr>\n",
              "    <tr>\n",
              "      <th>9</th>\n",
              "      <td>5</td>\n",
              "      <td>1</td>\n",
              "      <td>Steak Burrito</td>\n",
              "      <td>[Fresh Tomato Salsa, [Rice, Black Beans, Pinto...</td>\n",
              "      <td>$9.25</td>\n",
              "    </tr>\n",
              "  </tbody>\n",
              "</table>\n",
              "</div>\n",
              "    <div class=\"colab-df-buttons\">\n",
              "\n",
              "  <div class=\"colab-df-container\">\n",
              "    <button class=\"colab-df-convert\" onclick=\"convertToInteractive('df-7391a423-fbc9-4702-a9b5-ea6aee87fa09')\"\n",
              "            title=\"Convert this dataframe to an interactive table.\"\n",
              "            style=\"display:none;\">\n",
              "\n",
              "  <svg xmlns=\"http://www.w3.org/2000/svg\" height=\"24px\" viewBox=\"0 -960 960 960\">\n",
              "    <path d=\"M120-120v-720h720v720H120Zm60-500h600v-160H180v160Zm220 220h160v-160H400v160Zm0 220h160v-160H400v160ZM180-400h160v-160H180v160Zm440 0h160v-160H620v160ZM180-180h160v-160H180v160Zm440 0h160v-160H620v160Z\"/>\n",
              "  </svg>\n",
              "    </button>\n",
              "\n",
              "  <style>\n",
              "    .colab-df-container {\n",
              "      display:flex;\n",
              "      gap: 12px;\n",
              "    }\n",
              "\n",
              "    .colab-df-convert {\n",
              "      background-color: #E8F0FE;\n",
              "      border: none;\n",
              "      border-radius: 50%;\n",
              "      cursor: pointer;\n",
              "      display: none;\n",
              "      fill: #1967D2;\n",
              "      height: 32px;\n",
              "      padding: 0 0 0 0;\n",
              "      width: 32px;\n",
              "    }\n",
              "\n",
              "    .colab-df-convert:hover {\n",
              "      background-color: #E2EBFA;\n",
              "      box-shadow: 0px 1px 2px rgba(60, 64, 67, 0.3), 0px 1px 3px 1px rgba(60, 64, 67, 0.15);\n",
              "      fill: #174EA6;\n",
              "    }\n",
              "\n",
              "    .colab-df-buttons div {\n",
              "      margin-bottom: 4px;\n",
              "    }\n",
              "\n",
              "    [theme=dark] .colab-df-convert {\n",
              "      background-color: #3B4455;\n",
              "      fill: #D2E3FC;\n",
              "    }\n",
              "\n",
              "    [theme=dark] .colab-df-convert:hover {\n",
              "      background-color: #434B5C;\n",
              "      box-shadow: 0px 1px 3px 1px rgba(0, 0, 0, 0.15);\n",
              "      filter: drop-shadow(0px 1px 2px rgba(0, 0, 0, 0.3));\n",
              "      fill: #FFFFFF;\n",
              "    }\n",
              "  </style>\n",
              "\n",
              "    <script>\n",
              "      const buttonEl =\n",
              "        document.querySelector('#df-7391a423-fbc9-4702-a9b5-ea6aee87fa09 button.colab-df-convert');\n",
              "      buttonEl.style.display =\n",
              "        google.colab.kernel.accessAllowed ? 'block' : 'none';\n",
              "\n",
              "      async function convertToInteractive(key) {\n",
              "        const element = document.querySelector('#df-7391a423-fbc9-4702-a9b5-ea6aee87fa09');\n",
              "        const dataTable =\n",
              "          await google.colab.kernel.invokeFunction('convertToInteractive',\n",
              "                                                    [key], {});\n",
              "        if (!dataTable) return;\n",
              "\n",
              "        const docLinkHtml = 'Like what you see? Visit the ' +\n",
              "          '<a target=\"_blank\" href=https://colab.research.google.com/notebooks/data_table.ipynb>data table notebook</a>'\n",
              "          + ' to learn more about interactive tables.';\n",
              "        element.innerHTML = '';\n",
              "        dataTable['output_type'] = 'display_data';\n",
              "        await google.colab.output.renderOutput(dataTable, element);\n",
              "        const docLink = document.createElement('div');\n",
              "        docLink.innerHTML = docLinkHtml;\n",
              "        element.appendChild(docLink);\n",
              "      }\n",
              "    </script>\n",
              "  </div>\n",
              "\n",
              "\n",
              "<div id=\"df-4eaefd2f-260a-4e25-a842-c5fbfa0946c7\">\n",
              "  <button class=\"colab-df-quickchart\" onclick=\"quickchart('df-4eaefd2f-260a-4e25-a842-c5fbfa0946c7')\"\n",
              "            title=\"Suggest charts\"\n",
              "            style=\"display:none;\">\n",
              "\n",
              "<svg xmlns=\"http://www.w3.org/2000/svg\" height=\"24px\"viewBox=\"0 0 24 24\"\n",
              "     width=\"24px\">\n",
              "    <g>\n",
              "        <path d=\"M19 3H5c-1.1 0-2 .9-2 2v14c0 1.1.9 2 2 2h14c1.1 0 2-.9 2-2V5c0-1.1-.9-2-2-2zM9 17H7v-7h2v7zm4 0h-2V7h2v10zm4 0h-2v-4h2v4z\"/>\n",
              "    </g>\n",
              "</svg>\n",
              "  </button>\n",
              "\n",
              "<style>\n",
              "  .colab-df-quickchart {\n",
              "      --bg-color: #E8F0FE;\n",
              "      --fill-color: #1967D2;\n",
              "      --hover-bg-color: #E2EBFA;\n",
              "      --hover-fill-color: #174EA6;\n",
              "      --disabled-fill-color: #AAA;\n",
              "      --disabled-bg-color: #DDD;\n",
              "  }\n",
              "\n",
              "  [theme=dark] .colab-df-quickchart {\n",
              "      --bg-color: #3B4455;\n",
              "      --fill-color: #D2E3FC;\n",
              "      --hover-bg-color: #434B5C;\n",
              "      --hover-fill-color: #FFFFFF;\n",
              "      --disabled-bg-color: #3B4455;\n",
              "      --disabled-fill-color: #666;\n",
              "  }\n",
              "\n",
              "  .colab-df-quickchart {\n",
              "    background-color: var(--bg-color);\n",
              "    border: none;\n",
              "    border-radius: 50%;\n",
              "    cursor: pointer;\n",
              "    display: none;\n",
              "    fill: var(--fill-color);\n",
              "    height: 32px;\n",
              "    padding: 0;\n",
              "    width: 32px;\n",
              "  }\n",
              "\n",
              "  .colab-df-quickchart:hover {\n",
              "    background-color: var(--hover-bg-color);\n",
              "    box-shadow: 0 1px 2px rgba(60, 64, 67, 0.3), 0 1px 3px 1px rgba(60, 64, 67, 0.15);\n",
              "    fill: var(--button-hover-fill-color);\n",
              "  }\n",
              "\n",
              "  .colab-df-quickchart-complete:disabled,\n",
              "  .colab-df-quickchart-complete:disabled:hover {\n",
              "    background-color: var(--disabled-bg-color);\n",
              "    fill: var(--disabled-fill-color);\n",
              "    box-shadow: none;\n",
              "  }\n",
              "\n",
              "  .colab-df-spinner {\n",
              "    border: 2px solid var(--fill-color);\n",
              "    border-color: transparent;\n",
              "    border-bottom-color: var(--fill-color);\n",
              "    animation:\n",
              "      spin 1s steps(1) infinite;\n",
              "  }\n",
              "\n",
              "  @keyframes spin {\n",
              "    0% {\n",
              "      border-color: transparent;\n",
              "      border-bottom-color: var(--fill-color);\n",
              "      border-left-color: var(--fill-color);\n",
              "    }\n",
              "    20% {\n",
              "      border-color: transparent;\n",
              "      border-left-color: var(--fill-color);\n",
              "      border-top-color: var(--fill-color);\n",
              "    }\n",
              "    30% {\n",
              "      border-color: transparent;\n",
              "      border-left-color: var(--fill-color);\n",
              "      border-top-color: var(--fill-color);\n",
              "      border-right-color: var(--fill-color);\n",
              "    }\n",
              "    40% {\n",
              "      border-color: transparent;\n",
              "      border-right-color: var(--fill-color);\n",
              "      border-top-color: var(--fill-color);\n",
              "    }\n",
              "    60% {\n",
              "      border-color: transparent;\n",
              "      border-right-color: var(--fill-color);\n",
              "    }\n",
              "    80% {\n",
              "      border-color: transparent;\n",
              "      border-right-color: var(--fill-color);\n",
              "      border-bottom-color: var(--fill-color);\n",
              "    }\n",
              "    90% {\n",
              "      border-color: transparent;\n",
              "      border-bottom-color: var(--fill-color);\n",
              "    }\n",
              "  }\n",
              "</style>\n",
              "\n",
              "  <script>\n",
              "    async function quickchart(key) {\n",
              "      const quickchartButtonEl =\n",
              "        document.querySelector('#' + key + ' button');\n",
              "      quickchartButtonEl.disabled = true;  // To prevent multiple clicks.\n",
              "      quickchartButtonEl.classList.add('colab-df-spinner');\n",
              "      try {\n",
              "        const charts = await google.colab.kernel.invokeFunction(\n",
              "            'suggestCharts', [key], {});\n",
              "      } catch (error) {\n",
              "        console.error('Error during call to suggestCharts:', error);\n",
              "      }\n",
              "      quickchartButtonEl.classList.remove('colab-df-spinner');\n",
              "      quickchartButtonEl.classList.add('colab-df-quickchart-complete');\n",
              "    }\n",
              "    (() => {\n",
              "      let quickchartButtonEl =\n",
              "        document.querySelector('#df-4eaefd2f-260a-4e25-a842-c5fbfa0946c7 button');\n",
              "      quickchartButtonEl.style.display =\n",
              "        google.colab.kernel.accessAllowed ? 'block' : 'none';\n",
              "    })();\n",
              "  </script>\n",
              "</div>\n",
              "\n",
              "    </div>\n",
              "  </div>\n"
            ],
            "application/vnd.google.colaboratory.intrinsic+json": {
              "type": "dataframe",
              "variable_name": "chipo",
              "summary": "{\n  \"name\": \"chipo\",\n  \"rows\": 4622,\n  \"fields\": [\n    {\n      \"column\": \"order_id\",\n      \"properties\": {\n        \"dtype\": \"number\",\n        \"std\": 528,\n        \"min\": 1,\n        \"max\": 1834,\n        \"num_unique_values\": 1834,\n        \"samples\": [\n          644,\n          333,\n          991\n        ],\n        \"semantic_type\": \"\",\n        \"description\": \"\"\n      }\n    },\n    {\n      \"column\": \"quantity\",\n      \"properties\": {\n        \"dtype\": \"number\",\n        \"std\": 0,\n        \"min\": 1,\n        \"max\": 15,\n        \"num_unique_values\": 9,\n        \"samples\": [\n          8,\n          2,\n          15\n        ],\n        \"semantic_type\": \"\",\n        \"description\": \"\"\n      }\n    },\n    {\n      \"column\": \"item_name\",\n      \"properties\": {\n        \"dtype\": \"category\",\n        \"num_unique_values\": 50,\n        \"samples\": [\n          \"Barbacoa Burrito\",\n          \"Crispy Tacos\",\n          \"Chips and Roasted Chili Corn Salsa\"\n        ],\n        \"semantic_type\": \"\",\n        \"description\": \"\"\n      }\n    },\n    {\n      \"column\": \"choice_description\",\n      \"properties\": {\n        \"dtype\": \"category\",\n        \"num_unique_values\": 1043,\n        \"samples\": [\n          \"[Roasted Chili Corn Salsa, [Black Beans, Sour Cream, Cheese, Guacamole]]\",\n          \"[Tomatillo Red Chili Salsa, [Guacamole, Cheese]]\",\n          \"[Fresh Tomato Salsa, [Rice, Cheese, Sour Cream, Guacamole, Lettuce]]\"\n        ],\n        \"semantic_type\": \"\",\n        \"description\": \"\"\n      }\n    },\n    {\n      \"column\": \"item_price\",\n      \"properties\": {\n        \"dtype\": \"category\",\n        \"num_unique_values\": 78,\n        \"samples\": [\n          \"$23.50 \",\n          \"$2.39 \",\n          \"$7.40 \"\n        ],\n        \"semantic_type\": \"\",\n        \"description\": \"\"\n      }\n    }\n  ]\n}"
            }
          },
          "metadata": {},
          "execution_count": 3
        }
      ],
      "source": [
        "chipo.head(10)"
      ]
    },
    {
      "cell_type": "markdown",
      "metadata": {
        "id": "MarxR7LKNKsC"
      },
      "source": [
        "### Step 5. What is the number of observations in the dataset?"
      ]
    },
    {
      "cell_type": "code",
      "execution_count": 4,
      "metadata": {
        "id": "5AFcdi8ANKsC",
        "outputId": "5c23b6f5-fc5e-4ce6-81d5-f9162318e90c",
        "colab": {
          "base_uri": "https://localhost:8080/"
        }
      },
      "outputs": [
        {
          "output_type": "execute_result",
          "data": {
            "text/plain": [
              "4622"
            ]
          },
          "metadata": {},
          "execution_count": 4
        }
      ],
      "source": [
        "# Solution 1\n",
        "\n",
        "chipo.shape[0]  # entries <= 4622 observations"
      ]
    },
    {
      "cell_type": "code",
      "execution_count": 5,
      "metadata": {
        "id": "cLI8jb4aNKsC",
        "outputId": "67763c97-49dc-4c83-88ee-dc008222a640",
        "colab": {
          "base_uri": "https://localhost:8080/"
        }
      },
      "outputs": [
        {
          "output_type": "stream",
          "name": "stdout",
          "text": [
            "<class 'pandas.core.frame.DataFrame'>\n",
            "RangeIndex: 4622 entries, 0 to 4621\n",
            "Data columns (total 5 columns):\n",
            " #   Column              Non-Null Count  Dtype \n",
            "---  ------              --------------  ----- \n",
            " 0   order_id            4622 non-null   int64 \n",
            " 1   quantity            4622 non-null   int64 \n",
            " 2   item_name           4622 non-null   object\n",
            " 3   choice_description  3376 non-null   object\n",
            " 4   item_price          4622 non-null   object\n",
            "dtypes: int64(2), object(3)\n",
            "memory usage: 180.7+ KB\n"
          ]
        }
      ],
      "source": [
        "# Solution 2\n",
        "\n",
        "chipo.info() # entries <= 4622 observations"
      ]
    },
    {
      "cell_type": "markdown",
      "metadata": {
        "id": "4KwclHmKNKsC"
      },
      "source": [
        "### Step 6. What is the number of columns in the dataset?"
      ]
    },
    {
      "cell_type": "code",
      "execution_count": 6,
      "metadata": {
        "id": "lSqtAN9RNKsC",
        "outputId": "bf6965ef-1b00-4dba-c9e5-5dee5321d1c7",
        "colab": {
          "base_uri": "https://localhost:8080/"
        }
      },
      "outputs": [
        {
          "output_type": "execute_result",
          "data": {
            "text/plain": [
              "5"
            ]
          },
          "metadata": {},
          "execution_count": 6
        }
      ],
      "source": [
        "chipo.shape[1]"
      ]
    },
    {
      "cell_type": "markdown",
      "metadata": {
        "id": "GIoie8CzNKsD"
      },
      "source": [
        "### Step 7. Print the name of all the columns."
      ]
    },
    {
      "cell_type": "code",
      "execution_count": 7,
      "metadata": {
        "id": "BlOn1LH5NKsD",
        "outputId": "0f94b637-99c6-4098-cad4-4ceb144ca732",
        "colab": {
          "base_uri": "https://localhost:8080/"
        }
      },
      "outputs": [
        {
          "output_type": "execute_result",
          "data": {
            "text/plain": [
              "Index(['order_id', 'quantity', 'item_name', 'choice_description',\n",
              "       'item_price'],\n",
              "      dtype='object')"
            ]
          },
          "metadata": {},
          "execution_count": 7
        }
      ],
      "source": [
        "chipo.columns"
      ]
    },
    {
      "cell_type": "markdown",
      "metadata": {
        "id": "8kCM8-XiNKsD"
      },
      "source": [
        "### Step 8. How is the dataset indexed?"
      ]
    },
    {
      "cell_type": "code",
      "execution_count": null,
      "metadata": {
        "id": "9Ynzecb7NKsD",
        "outputId": "b5c7be7b-4ebf-4158-e67d-f93e87fd4a19"
      },
      "outputs": [
        {
          "data": {
            "text/plain": [
              "RangeIndex(start=0, stop=4622, step=1)"
            ]
          },
          "execution_count": 8,
          "metadata": {},
          "output_type": "execute_result"
        }
      ],
      "source": [
        "chipo.index"
      ]
    },
    {
      "cell_type": "markdown",
      "metadata": {
        "id": "e9LRLyvlNKsD"
      },
      "source": [
        "### Step 9. Which was the most-ordered item?"
      ]
    },
    {
      "cell_type": "code",
      "execution_count": 8,
      "metadata": {
        "id": "lGtx9kopNKsD",
        "outputId": "e887aba7-4d1d-48b0-c3b3-ae377de1357d",
        "colab": {
          "base_uri": "https://localhost:8080/",
          "height": 129
        }
      },
      "outputs": [
        {
          "output_type": "execute_result",
          "data": {
            "text/plain": [
              "              order_id  quantity  \\\n",
              "item_name                          \n",
              "Chicken Bowl    713926       761   \n",
              "\n",
              "                                             choice_description  \\\n",
              "item_name                                                         \n",
              "Chicken Bowl  [Tomatillo-Red Chili Salsa (Hot), [Black Beans...   \n",
              "\n",
              "                                                     item_price  \n",
              "item_name                                                        \n",
              "Chicken Bowl  $16.98 $10.98 $11.25 $8.75 $8.49 $11.25 $8.75 ...  "
            ],
            "text/html": [
              "\n",
              "  <div id=\"df-8c7a9bed-14aa-4a7e-916a-512113694c86\" class=\"colab-df-container\">\n",
              "    <div>\n",
              "<style scoped>\n",
              "    .dataframe tbody tr th:only-of-type {\n",
              "        vertical-align: middle;\n",
              "    }\n",
              "\n",
              "    .dataframe tbody tr th {\n",
              "        vertical-align: top;\n",
              "    }\n",
              "\n",
              "    .dataframe thead th {\n",
              "        text-align: right;\n",
              "    }\n",
              "</style>\n",
              "<table border=\"1\" class=\"dataframe\">\n",
              "  <thead>\n",
              "    <tr style=\"text-align: right;\">\n",
              "      <th></th>\n",
              "      <th>order_id</th>\n",
              "      <th>quantity</th>\n",
              "      <th>choice_description</th>\n",
              "      <th>item_price</th>\n",
              "    </tr>\n",
              "    <tr>\n",
              "      <th>item_name</th>\n",
              "      <th></th>\n",
              "      <th></th>\n",
              "      <th></th>\n",
              "      <th></th>\n",
              "    </tr>\n",
              "  </thead>\n",
              "  <tbody>\n",
              "    <tr>\n",
              "      <th>Chicken Bowl</th>\n",
              "      <td>713926</td>\n",
              "      <td>761</td>\n",
              "      <td>[Tomatillo-Red Chili Salsa (Hot), [Black Beans...</td>\n",
              "      <td>$16.98 $10.98 $11.25 $8.75 $8.49 $11.25 $8.75 ...</td>\n",
              "    </tr>\n",
              "  </tbody>\n",
              "</table>\n",
              "</div>\n",
              "    <div class=\"colab-df-buttons\">\n",
              "\n",
              "  <div class=\"colab-df-container\">\n",
              "    <button class=\"colab-df-convert\" onclick=\"convertToInteractive('df-8c7a9bed-14aa-4a7e-916a-512113694c86')\"\n",
              "            title=\"Convert this dataframe to an interactive table.\"\n",
              "            style=\"display:none;\">\n",
              "\n",
              "  <svg xmlns=\"http://www.w3.org/2000/svg\" height=\"24px\" viewBox=\"0 -960 960 960\">\n",
              "    <path d=\"M120-120v-720h720v720H120Zm60-500h600v-160H180v160Zm220 220h160v-160H400v160Zm0 220h160v-160H400v160ZM180-400h160v-160H180v160Zm440 0h160v-160H620v160ZM180-180h160v-160H180v160Zm440 0h160v-160H620v160Z\"/>\n",
              "  </svg>\n",
              "    </button>\n",
              "\n",
              "  <style>\n",
              "    .colab-df-container {\n",
              "      display:flex;\n",
              "      gap: 12px;\n",
              "    }\n",
              "\n",
              "    .colab-df-convert {\n",
              "      background-color: #E8F0FE;\n",
              "      border: none;\n",
              "      border-radius: 50%;\n",
              "      cursor: pointer;\n",
              "      display: none;\n",
              "      fill: #1967D2;\n",
              "      height: 32px;\n",
              "      padding: 0 0 0 0;\n",
              "      width: 32px;\n",
              "    }\n",
              "\n",
              "    .colab-df-convert:hover {\n",
              "      background-color: #E2EBFA;\n",
              "      box-shadow: 0px 1px 2px rgba(60, 64, 67, 0.3), 0px 1px 3px 1px rgba(60, 64, 67, 0.15);\n",
              "      fill: #174EA6;\n",
              "    }\n",
              "\n",
              "    .colab-df-buttons div {\n",
              "      margin-bottom: 4px;\n",
              "    }\n",
              "\n",
              "    [theme=dark] .colab-df-convert {\n",
              "      background-color: #3B4455;\n",
              "      fill: #D2E3FC;\n",
              "    }\n",
              "\n",
              "    [theme=dark] .colab-df-convert:hover {\n",
              "      background-color: #434B5C;\n",
              "      box-shadow: 0px 1px 3px 1px rgba(0, 0, 0, 0.15);\n",
              "      filter: drop-shadow(0px 1px 2px rgba(0, 0, 0, 0.3));\n",
              "      fill: #FFFFFF;\n",
              "    }\n",
              "  </style>\n",
              "\n",
              "    <script>\n",
              "      const buttonEl =\n",
              "        document.querySelector('#df-8c7a9bed-14aa-4a7e-916a-512113694c86 button.colab-df-convert');\n",
              "      buttonEl.style.display =\n",
              "        google.colab.kernel.accessAllowed ? 'block' : 'none';\n",
              "\n",
              "      async function convertToInteractive(key) {\n",
              "        const element = document.querySelector('#df-8c7a9bed-14aa-4a7e-916a-512113694c86');\n",
              "        const dataTable =\n",
              "          await google.colab.kernel.invokeFunction('convertToInteractive',\n",
              "                                                    [key], {});\n",
              "        if (!dataTable) return;\n",
              "\n",
              "        const docLinkHtml = 'Like what you see? Visit the ' +\n",
              "          '<a target=\"_blank\" href=https://colab.research.google.com/notebooks/data_table.ipynb>data table notebook</a>'\n",
              "          + ' to learn more about interactive tables.';\n",
              "        element.innerHTML = '';\n",
              "        dataTable['output_type'] = 'display_data';\n",
              "        await google.colab.output.renderOutput(dataTable, element);\n",
              "        const docLink = document.createElement('div');\n",
              "        docLink.innerHTML = docLinkHtml;\n",
              "        element.appendChild(docLink);\n",
              "      }\n",
              "    </script>\n",
              "  </div>\n",
              "\n",
              "\n",
              "    </div>\n",
              "  </div>\n"
            ],
            "application/vnd.google.colaboratory.intrinsic+json": {
              "type": "dataframe",
              "variable_name": "c",
              "summary": "{\n  \"name\": \"c\",\n  \"rows\": 50,\n  \"fields\": [\n    {\n      \"column\": \"item_name\",\n      \"properties\": {\n        \"dtype\": \"string\",\n        \"num_unique_values\": 50,\n        \"samples\": [\n          \"Veggie Burrito\",\n          \"Veggie Soft Tacos\",\n          \"Barbacoa Soft Tacos\"\n        ],\n        \"semantic_type\": \"\",\n        \"description\": \"\"\n      }\n    },\n    {\n      \"column\": \"order_id\",\n      \"properties\": {\n        \"dtype\": \"number\",\n        \"std\": 142559,\n        \"min\": 279,\n        \"max\": 713926,\n        \"num_unique_values\": 50,\n        \"samples\": [\n          80962,\n          5520,\n          18725\n        ],\n        \"semantic_type\": \"\",\n        \"description\": \"\"\n      }\n    },\n    {\n      \"column\": \"quantity\",\n      \"properties\": {\n        \"dtype\": \"number\",\n        \"std\": 159,\n        \"min\": 1,\n        \"max\": 761,\n        \"num_unique_values\": 40,\n        \"samples\": [\n          56,\n          71,\n          87\n        ],\n        \"semantic_type\": \"\",\n        \"description\": \"\"\n      }\n    },\n    {\n      \"column\": \"choice_description\",\n      \"properties\": {\n        \"dtype\": \"string\",\n        \"num_unique_values\": 39,\n        \"samples\": [\n          \"[Braised Carnitas, Pinto Beans, [Sour Cream, Cheese, Cilantro-Lime Rice]][Adobo-Marinated and Grilled Steak, [Sour Cream, Salsa, Cheese, Cilantro-Lime Rice, Guacamole]]\",\n          \"[Adobo-Marinated and Grilled Steak][Adobo-Marinated and Grilled Chicken]\",\n          \"[Coke][Sprite][Coke][Coke][Lemonade][Sprite][Diet Coke][Coke][Coke][Coke][Sprite][Coke][Coke][Coke][Diet Coke][Lemonade][Coke][Diet Coke][Diet Coke][Diet Coke][Diet Coke][Nestea][Diet Coke][Coke][Coke][Lemonade][Coke][Coke][Diet Coke][Diet Coke][Lemonade][Lemonade][Diet Coke][Coke][Sprite][Coke][Sprite][Coke][Sprite][Nestea][Lemonade][Diet Coke][Coke][Sprite][Coke][Diet Coke][Sprite][Diet Coke][Coke][Lemonade][Lemonade][Diet Coke][Coke][Diet Coke][Diet Coke][Coke][Diet Coke][Coke][Coke][Diet Coke][Sprite][Diet Coke][Coke][Diet Coke][Diet Coke][Diet Coke][Diet Coke][Coke][Diet Coke][Diet Coke][Lemonade][Lemonade][Diet Coke][Coke][Diet Coke][Coke][Coke][Diet Coke][Coke][Coke][Lemonade][Coke][Diet Coke][Diet Coke][Diet Coke][Diet Coke][Diet Coke][Diet Coke][Coke][Nestea][Sprite][Diet Coke][Diet Coke][Lemonade][Coke][Sprite][Diet Coke][Coke][Coke][Lemonade][Diet Coke][Sprite][Diet Coke][Diet Coke][Lemonade][Sprite][Lemonade][Diet Coke][Lemonade][Sprite][Diet Coke][Coke][Coke][Coke][Coke][Diet Coke][Diet Coke][Sprite][Coke][Diet Coke][Coke][Lemonade][Diet Coke][Coke][Coke][Sprite][Diet Coke][Sprite][Diet Coke][Coke][Diet Coke][Sprite][Diet Coke][Sprite][Lemonade][Nestea][Diet Coke][Lemonade][Coke][Coke][Sprite][Sprite][Nestea][Nestea][Coke][Sprite][Coke][Coke][Diet Coke][Coke][Diet Coke][Sprite][Diet Coke][Coke][Sprite][Coke][Coke][Coke][Diet Coke][Diet Coke][Diet Coke][Nestea][Lemonade][Sprite][Diet Coke][Nestea][Diet Coke][Coke][Diet Coke][Sprite][Coke][Coke][Coke][Diet Coke][Coke][Diet Coke][Sprite][Diet Coke][Sprite][Coke][Diet Coke][Diet Coke][Coke][Diet Coke][Coke][Diet Coke][Coke][Diet Coke][Diet Coke][Sprite][Diet Coke][Sprite][Sprite][Nestea][Sprite][Sprite][Sprite][Nestea][Diet Coke][Diet Coke][Lemonade][Nestea][Coke][Diet Coke][Coke][Coke][Sprite][Diet Coke][Diet Coke][Coke][Coke][Sprite][Diet Coke][Diet Coke][Sprite][Coke][Diet Coke][Lemonade][Diet Coke][Sprite][Sprite][Diet Coke][Nestea][Coke][Coke][Lemonade][Nestea][Coke][Coke][Nestea][Nestea][Diet Coke][Lemonade][Coke][Coke][Diet Coke][Coke][Diet Coke][Lemonade][Coke][Lemonade][Sprite][Lemonade][Coke][Nestea][Coke][Sprite][Sprite][Diet Coke][Coke][Sprite][Coke][Coke][Coke][Diet Coke][Coke][Diet Coke][Coke][Diet Coke][Sprite][Nestea][Coke][Coke][Sprite][Coke][Coke][Coke][Lemonade][Sprite][Coke][Coke][Sprite][Coke][Diet Coke][Coke][Coke][Lemonade][Lemonade][Diet Coke][Diet Coke][Coke][Sprite][Lemonade][Sprite][Coke][Sprite][Diet Coke][Sprite][Sprite][Coke][Diet Coke][Sprite][Coke][Sprite][Diet Coke][Coke][Diet Coke][Nestea][Diet Coke][Coke][Sprite]\"\n        ],\n        \"semantic_type\": \"\",\n        \"description\": \"\"\n      }\n    },\n    {\n      \"column\": \"item_price\",\n      \"properties\": {\n        \"dtype\": \"string\",\n        \"num_unique_values\": 49,\n        \"samples\": [\n          \"$11.25 $8.49 $11.25 $11.25 $10.98 $8.49 $8.49 $11.25 $8.49 $8.49 $8.75 $8.49 $8.49 $8.49 $8.49 $8.49 $8.49 $8.75 $8.49 $11.25 $8.49 $8.49 $8.49 $11.25 $8.49 $11.25 $8.49 $11.25 $8.49 $8.75 $11.25 $8.49 $8.49 $8.49 $8.75 $10.98 $8.75 $8.49 $8.49 $8.75 $8.49 $11.25 $8.49 $11.25 $10.98 $11.25 $11.25 $11.25 $8.75 $8.75 $8.75 $8.75 $8.75 $11.25 $11.25 $11.25 $10.98 $8.75 $11.25 $8.75 $8.49 $8.49 $11.25 $8.49 $8.75 $11.25 $8.49 $11.25 $8.49 $8.75 $11.25 $8.75 $8.75 $8.49 $11.25 $8.49 $8.49 $11.25 $11.25 $33.75 $8.49 $11.25 $8.49 $8.49 $8.49 $8.49 $8.49 $8.49 $11.25 $11.25 $11.25 $11.25 $8.75 $11.25 $11.25 \",\n          \"$7.40 $7.40 \",\n          \"$8.99 \"\n        ],\n        \"semantic_type\": \"\",\n        \"description\": \"\"\n      }\n    }\n  ]\n}"
            }
          },
          "metadata": {},
          "execution_count": 8
        }
      ],
      "source": [
        "c = chipo.groupby('item_name')\n",
        "c = c.sum()\n",
        "c = c.sort_values(['quantity'], ascending=False)\n",
        "c.head(1)"
      ]
    },
    {
      "cell_type": "markdown",
      "metadata": {
        "id": "Iop1wJesNKsD"
      },
      "source": [
        "### Step 10. For the most-ordered item, how many items were ordered?"
      ]
    },
    {
      "cell_type": "code",
      "execution_count": 9,
      "metadata": {
        "id": "olA6oLKrNKsD",
        "outputId": "07309ce7-db4a-486d-b5b9-153aa170067e",
        "colab": {
          "base_uri": "https://localhost:8080/",
          "height": 129
        }
      },
      "outputs": [
        {
          "output_type": "execute_result",
          "data": {
            "text/plain": [
              "              order_id  quantity  \\\n",
              "item_name                          \n",
              "Chicken Bowl    713926       761   \n",
              "\n",
              "                                             choice_description  \\\n",
              "item_name                                                         \n",
              "Chicken Bowl  [Tomatillo-Red Chili Salsa (Hot), [Black Beans...   \n",
              "\n",
              "                                                     item_price  \n",
              "item_name                                                        \n",
              "Chicken Bowl  $16.98 $10.98 $11.25 $8.75 $8.49 $11.25 $8.75 ...  "
            ],
            "text/html": [
              "\n",
              "  <div id=\"df-a635ef22-0698-4b61-b318-6d267f5f5855\" class=\"colab-df-container\">\n",
              "    <div>\n",
              "<style scoped>\n",
              "    .dataframe tbody tr th:only-of-type {\n",
              "        vertical-align: middle;\n",
              "    }\n",
              "\n",
              "    .dataframe tbody tr th {\n",
              "        vertical-align: top;\n",
              "    }\n",
              "\n",
              "    .dataframe thead th {\n",
              "        text-align: right;\n",
              "    }\n",
              "</style>\n",
              "<table border=\"1\" class=\"dataframe\">\n",
              "  <thead>\n",
              "    <tr style=\"text-align: right;\">\n",
              "      <th></th>\n",
              "      <th>order_id</th>\n",
              "      <th>quantity</th>\n",
              "      <th>choice_description</th>\n",
              "      <th>item_price</th>\n",
              "    </tr>\n",
              "    <tr>\n",
              "      <th>item_name</th>\n",
              "      <th></th>\n",
              "      <th></th>\n",
              "      <th></th>\n",
              "      <th></th>\n",
              "    </tr>\n",
              "  </thead>\n",
              "  <tbody>\n",
              "    <tr>\n",
              "      <th>Chicken Bowl</th>\n",
              "      <td>713926</td>\n",
              "      <td>761</td>\n",
              "      <td>[Tomatillo-Red Chili Salsa (Hot), [Black Beans...</td>\n",
              "      <td>$16.98 $10.98 $11.25 $8.75 $8.49 $11.25 $8.75 ...</td>\n",
              "    </tr>\n",
              "  </tbody>\n",
              "</table>\n",
              "</div>\n",
              "    <div class=\"colab-df-buttons\">\n",
              "\n",
              "  <div class=\"colab-df-container\">\n",
              "    <button class=\"colab-df-convert\" onclick=\"convertToInteractive('df-a635ef22-0698-4b61-b318-6d267f5f5855')\"\n",
              "            title=\"Convert this dataframe to an interactive table.\"\n",
              "            style=\"display:none;\">\n",
              "\n",
              "  <svg xmlns=\"http://www.w3.org/2000/svg\" height=\"24px\" viewBox=\"0 -960 960 960\">\n",
              "    <path d=\"M120-120v-720h720v720H120Zm60-500h600v-160H180v160Zm220 220h160v-160H400v160Zm0 220h160v-160H400v160ZM180-400h160v-160H180v160Zm440 0h160v-160H620v160ZM180-180h160v-160H180v160Zm440 0h160v-160H620v160Z\"/>\n",
              "  </svg>\n",
              "    </button>\n",
              "\n",
              "  <style>\n",
              "    .colab-df-container {\n",
              "      display:flex;\n",
              "      gap: 12px;\n",
              "    }\n",
              "\n",
              "    .colab-df-convert {\n",
              "      background-color: #E8F0FE;\n",
              "      border: none;\n",
              "      border-radius: 50%;\n",
              "      cursor: pointer;\n",
              "      display: none;\n",
              "      fill: #1967D2;\n",
              "      height: 32px;\n",
              "      padding: 0 0 0 0;\n",
              "      width: 32px;\n",
              "    }\n",
              "\n",
              "    .colab-df-convert:hover {\n",
              "      background-color: #E2EBFA;\n",
              "      box-shadow: 0px 1px 2px rgba(60, 64, 67, 0.3), 0px 1px 3px 1px rgba(60, 64, 67, 0.15);\n",
              "      fill: #174EA6;\n",
              "    }\n",
              "\n",
              "    .colab-df-buttons div {\n",
              "      margin-bottom: 4px;\n",
              "    }\n",
              "\n",
              "    [theme=dark] .colab-df-convert {\n",
              "      background-color: #3B4455;\n",
              "      fill: #D2E3FC;\n",
              "    }\n",
              "\n",
              "    [theme=dark] .colab-df-convert:hover {\n",
              "      background-color: #434B5C;\n",
              "      box-shadow: 0px 1px 3px 1px rgba(0, 0, 0, 0.15);\n",
              "      filter: drop-shadow(0px 1px 2px rgba(0, 0, 0, 0.3));\n",
              "      fill: #FFFFFF;\n",
              "    }\n",
              "  </style>\n",
              "\n",
              "    <script>\n",
              "      const buttonEl =\n",
              "        document.querySelector('#df-a635ef22-0698-4b61-b318-6d267f5f5855 button.colab-df-convert');\n",
              "      buttonEl.style.display =\n",
              "        google.colab.kernel.accessAllowed ? 'block' : 'none';\n",
              "\n",
              "      async function convertToInteractive(key) {\n",
              "        const element = document.querySelector('#df-a635ef22-0698-4b61-b318-6d267f5f5855');\n",
              "        const dataTable =\n",
              "          await google.colab.kernel.invokeFunction('convertToInteractive',\n",
              "                                                    [key], {});\n",
              "        if (!dataTable) return;\n",
              "\n",
              "        const docLinkHtml = 'Like what you see? Visit the ' +\n",
              "          '<a target=\"_blank\" href=https://colab.research.google.com/notebooks/data_table.ipynb>data table notebook</a>'\n",
              "          + ' to learn more about interactive tables.';\n",
              "        element.innerHTML = '';\n",
              "        dataTable['output_type'] = 'display_data';\n",
              "        await google.colab.output.renderOutput(dataTable, element);\n",
              "        const docLink = document.createElement('div');\n",
              "        docLink.innerHTML = docLinkHtml;\n",
              "        element.appendChild(docLink);\n",
              "      }\n",
              "    </script>\n",
              "  </div>\n",
              "\n",
              "\n",
              "    </div>\n",
              "  </div>\n"
            ],
            "application/vnd.google.colaboratory.intrinsic+json": {
              "type": "dataframe",
              "variable_name": "c",
              "summary": "{\n  \"name\": \"c\",\n  \"rows\": 50,\n  \"fields\": [\n    {\n      \"column\": \"item_name\",\n      \"properties\": {\n        \"dtype\": \"string\",\n        \"num_unique_values\": 50,\n        \"samples\": [\n          \"Veggie Burrito\",\n          \"Veggie Soft Tacos\",\n          \"Barbacoa Soft Tacos\"\n        ],\n        \"semantic_type\": \"\",\n        \"description\": \"\"\n      }\n    },\n    {\n      \"column\": \"order_id\",\n      \"properties\": {\n        \"dtype\": \"number\",\n        \"std\": 142559,\n        \"min\": 279,\n        \"max\": 713926,\n        \"num_unique_values\": 50,\n        \"samples\": [\n          80962,\n          5520,\n          18725\n        ],\n        \"semantic_type\": \"\",\n        \"description\": \"\"\n      }\n    },\n    {\n      \"column\": \"quantity\",\n      \"properties\": {\n        \"dtype\": \"number\",\n        \"std\": 159,\n        \"min\": 1,\n        \"max\": 761,\n        \"num_unique_values\": 40,\n        \"samples\": [\n          56,\n          71,\n          87\n        ],\n        \"semantic_type\": \"\",\n        \"description\": \"\"\n      }\n    },\n    {\n      \"column\": \"choice_description\",\n      \"properties\": {\n        \"dtype\": \"string\",\n        \"num_unique_values\": 39,\n        \"samples\": [\n          \"[Braised Carnitas, Pinto Beans, [Sour Cream, Cheese, Cilantro-Lime Rice]][Adobo-Marinated and Grilled Steak, [Sour Cream, Salsa, Cheese, Cilantro-Lime Rice, Guacamole]]\",\n          \"[Adobo-Marinated and Grilled Steak][Adobo-Marinated and Grilled Chicken]\",\n          \"[Coke][Sprite][Coke][Coke][Lemonade][Sprite][Diet Coke][Coke][Coke][Coke][Sprite][Coke][Coke][Coke][Diet Coke][Lemonade][Coke][Diet Coke][Diet Coke][Diet Coke][Diet Coke][Nestea][Diet Coke][Coke][Coke][Lemonade][Coke][Coke][Diet Coke][Diet Coke][Lemonade][Lemonade][Diet Coke][Coke][Sprite][Coke][Sprite][Coke][Sprite][Nestea][Lemonade][Diet Coke][Coke][Sprite][Coke][Diet Coke][Sprite][Diet Coke][Coke][Lemonade][Lemonade][Diet Coke][Coke][Diet Coke][Diet Coke][Coke][Diet Coke][Coke][Coke][Diet Coke][Sprite][Diet Coke][Coke][Diet Coke][Diet Coke][Diet Coke][Diet Coke][Coke][Diet Coke][Diet Coke][Lemonade][Lemonade][Diet Coke][Coke][Diet Coke][Coke][Coke][Diet Coke][Coke][Coke][Lemonade][Coke][Diet Coke][Diet Coke][Diet Coke][Diet Coke][Diet Coke][Diet Coke][Coke][Nestea][Sprite][Diet Coke][Diet Coke][Lemonade][Coke][Sprite][Diet Coke][Coke][Coke][Lemonade][Diet Coke][Sprite][Diet Coke][Diet Coke][Lemonade][Sprite][Lemonade][Diet Coke][Lemonade][Sprite][Diet Coke][Coke][Coke][Coke][Coke][Diet Coke][Diet Coke][Sprite][Coke][Diet Coke][Coke][Lemonade][Diet Coke][Coke][Coke][Sprite][Diet Coke][Sprite][Diet Coke][Coke][Diet Coke][Sprite][Diet Coke][Sprite][Lemonade][Nestea][Diet Coke][Lemonade][Coke][Coke][Sprite][Sprite][Nestea][Nestea][Coke][Sprite][Coke][Coke][Diet Coke][Coke][Diet Coke][Sprite][Diet Coke][Coke][Sprite][Coke][Coke][Coke][Diet Coke][Diet Coke][Diet Coke][Nestea][Lemonade][Sprite][Diet Coke][Nestea][Diet Coke][Coke][Diet Coke][Sprite][Coke][Coke][Coke][Diet Coke][Coke][Diet Coke][Sprite][Diet Coke][Sprite][Coke][Diet Coke][Diet Coke][Coke][Diet Coke][Coke][Diet Coke][Coke][Diet Coke][Diet Coke][Sprite][Diet Coke][Sprite][Sprite][Nestea][Sprite][Sprite][Sprite][Nestea][Diet Coke][Diet Coke][Lemonade][Nestea][Coke][Diet Coke][Coke][Coke][Sprite][Diet Coke][Diet Coke][Coke][Coke][Sprite][Diet Coke][Diet Coke][Sprite][Coke][Diet Coke][Lemonade][Diet Coke][Sprite][Sprite][Diet Coke][Nestea][Coke][Coke][Lemonade][Nestea][Coke][Coke][Nestea][Nestea][Diet Coke][Lemonade][Coke][Coke][Diet Coke][Coke][Diet Coke][Lemonade][Coke][Lemonade][Sprite][Lemonade][Coke][Nestea][Coke][Sprite][Sprite][Diet Coke][Coke][Sprite][Coke][Coke][Coke][Diet Coke][Coke][Diet Coke][Coke][Diet Coke][Sprite][Nestea][Coke][Coke][Sprite][Coke][Coke][Coke][Lemonade][Sprite][Coke][Coke][Sprite][Coke][Diet Coke][Coke][Coke][Lemonade][Lemonade][Diet Coke][Diet Coke][Coke][Sprite][Lemonade][Sprite][Coke][Sprite][Diet Coke][Sprite][Sprite][Coke][Diet Coke][Sprite][Coke][Sprite][Diet Coke][Coke][Diet Coke][Nestea][Diet Coke][Coke][Sprite]\"\n        ],\n        \"semantic_type\": \"\",\n        \"description\": \"\"\n      }\n    },\n    {\n      \"column\": \"item_price\",\n      \"properties\": {\n        \"dtype\": \"string\",\n        \"num_unique_values\": 49,\n        \"samples\": [\n          \"$11.25 $8.49 $11.25 $11.25 $10.98 $8.49 $8.49 $11.25 $8.49 $8.49 $8.75 $8.49 $8.49 $8.49 $8.49 $8.49 $8.49 $8.75 $8.49 $11.25 $8.49 $8.49 $8.49 $11.25 $8.49 $11.25 $8.49 $11.25 $8.49 $8.75 $11.25 $8.49 $8.49 $8.49 $8.75 $10.98 $8.75 $8.49 $8.49 $8.75 $8.49 $11.25 $8.49 $11.25 $10.98 $11.25 $11.25 $11.25 $8.75 $8.75 $8.75 $8.75 $8.75 $11.25 $11.25 $11.25 $10.98 $8.75 $11.25 $8.75 $8.49 $8.49 $11.25 $8.49 $8.75 $11.25 $8.49 $11.25 $8.49 $8.75 $11.25 $8.75 $8.75 $8.49 $11.25 $8.49 $8.49 $11.25 $11.25 $33.75 $8.49 $11.25 $8.49 $8.49 $8.49 $8.49 $8.49 $8.49 $11.25 $11.25 $11.25 $11.25 $8.75 $11.25 $11.25 \",\n          \"$7.40 $7.40 \",\n          \"$8.99 \"\n        ],\n        \"semantic_type\": \"\",\n        \"description\": \"\"\n      }\n    }\n  ]\n}"
            }
          },
          "metadata": {},
          "execution_count": 9
        }
      ],
      "source": [
        "c = chipo.groupby('item_name')\n",
        "c = c.sum()\n",
        "c = c.sort_values(['quantity'], ascending=False)\n",
        "c.head(1)"
      ]
    },
    {
      "cell_type": "markdown",
      "metadata": {
        "id": "dRDCuqYpNKsE"
      },
      "source": [
        "### Step 11. What was the most ordered item in the choice_description column?"
      ]
    },
    {
      "cell_type": "code",
      "execution_count": 10,
      "metadata": {
        "id": "99eTKx3lNKsE",
        "outputId": "03f40715-008b-4bf0-9695-5e3dcdc425b6",
        "colab": {
          "base_uri": "https://localhost:8080/",
          "height": 129
        }
      },
      "outputs": [
        {
          "output_type": "execute_result",
          "data": {
            "text/plain": [
              "                    order_id  quantity  \\\n",
              "choice_description                       \n",
              "[Diet Coke]           123455       159   \n",
              "\n",
              "                                                            item_name  \\\n",
              "choice_description                                                      \n",
              "[Diet Coke]         Canned SodaCanned SodaCanned Soda6 Pack Soft D...   \n",
              "\n",
              "                                                           item_price  \n",
              "choice_description                                                     \n",
              "[Diet Coke]         $2.18 $1.09 $1.09 $6.49 $2.18 $1.25 $1.09 $6.4...  "
            ],
            "text/html": [
              "\n",
              "  <div id=\"df-15a5b5e7-fb17-4820-8dcd-9b55914b2657\" class=\"colab-df-container\">\n",
              "    <div>\n",
              "<style scoped>\n",
              "    .dataframe tbody tr th:only-of-type {\n",
              "        vertical-align: middle;\n",
              "    }\n",
              "\n",
              "    .dataframe tbody tr th {\n",
              "        vertical-align: top;\n",
              "    }\n",
              "\n",
              "    .dataframe thead th {\n",
              "        text-align: right;\n",
              "    }\n",
              "</style>\n",
              "<table border=\"1\" class=\"dataframe\">\n",
              "  <thead>\n",
              "    <tr style=\"text-align: right;\">\n",
              "      <th></th>\n",
              "      <th>order_id</th>\n",
              "      <th>quantity</th>\n",
              "      <th>item_name</th>\n",
              "      <th>item_price</th>\n",
              "    </tr>\n",
              "    <tr>\n",
              "      <th>choice_description</th>\n",
              "      <th></th>\n",
              "      <th></th>\n",
              "      <th></th>\n",
              "      <th></th>\n",
              "    </tr>\n",
              "  </thead>\n",
              "  <tbody>\n",
              "    <tr>\n",
              "      <th>[Diet Coke]</th>\n",
              "      <td>123455</td>\n",
              "      <td>159</td>\n",
              "      <td>Canned SodaCanned SodaCanned Soda6 Pack Soft D...</td>\n",
              "      <td>$2.18 $1.09 $1.09 $6.49 $2.18 $1.25 $1.09 $6.4...</td>\n",
              "    </tr>\n",
              "  </tbody>\n",
              "</table>\n",
              "</div>\n",
              "    <div class=\"colab-df-buttons\">\n",
              "\n",
              "  <div class=\"colab-df-container\">\n",
              "    <button class=\"colab-df-convert\" onclick=\"convertToInteractive('df-15a5b5e7-fb17-4820-8dcd-9b55914b2657')\"\n",
              "            title=\"Convert this dataframe to an interactive table.\"\n",
              "            style=\"display:none;\">\n",
              "\n",
              "  <svg xmlns=\"http://www.w3.org/2000/svg\" height=\"24px\" viewBox=\"0 -960 960 960\">\n",
              "    <path d=\"M120-120v-720h720v720H120Zm60-500h600v-160H180v160Zm220 220h160v-160H400v160Zm0 220h160v-160H400v160ZM180-400h160v-160H180v160Zm440 0h160v-160H620v160ZM180-180h160v-160H180v160Zm440 0h160v-160H620v160Z\"/>\n",
              "  </svg>\n",
              "    </button>\n",
              "\n",
              "  <style>\n",
              "    .colab-df-container {\n",
              "      display:flex;\n",
              "      gap: 12px;\n",
              "    }\n",
              "\n",
              "    .colab-df-convert {\n",
              "      background-color: #E8F0FE;\n",
              "      border: none;\n",
              "      border-radius: 50%;\n",
              "      cursor: pointer;\n",
              "      display: none;\n",
              "      fill: #1967D2;\n",
              "      height: 32px;\n",
              "      padding: 0 0 0 0;\n",
              "      width: 32px;\n",
              "    }\n",
              "\n",
              "    .colab-df-convert:hover {\n",
              "      background-color: #E2EBFA;\n",
              "      box-shadow: 0px 1px 2px rgba(60, 64, 67, 0.3), 0px 1px 3px 1px rgba(60, 64, 67, 0.15);\n",
              "      fill: #174EA6;\n",
              "    }\n",
              "\n",
              "    .colab-df-buttons div {\n",
              "      margin-bottom: 4px;\n",
              "    }\n",
              "\n",
              "    [theme=dark] .colab-df-convert {\n",
              "      background-color: #3B4455;\n",
              "      fill: #D2E3FC;\n",
              "    }\n",
              "\n",
              "    [theme=dark] .colab-df-convert:hover {\n",
              "      background-color: #434B5C;\n",
              "      box-shadow: 0px 1px 3px 1px rgba(0, 0, 0, 0.15);\n",
              "      filter: drop-shadow(0px 1px 2px rgba(0, 0, 0, 0.3));\n",
              "      fill: #FFFFFF;\n",
              "    }\n",
              "  </style>\n",
              "\n",
              "    <script>\n",
              "      const buttonEl =\n",
              "        document.querySelector('#df-15a5b5e7-fb17-4820-8dcd-9b55914b2657 button.colab-df-convert');\n",
              "      buttonEl.style.display =\n",
              "        google.colab.kernel.accessAllowed ? 'block' : 'none';\n",
              "\n",
              "      async function convertToInteractive(key) {\n",
              "        const element = document.querySelector('#df-15a5b5e7-fb17-4820-8dcd-9b55914b2657');\n",
              "        const dataTable =\n",
              "          await google.colab.kernel.invokeFunction('convertToInteractive',\n",
              "                                                    [key], {});\n",
              "        if (!dataTable) return;\n",
              "\n",
              "        const docLinkHtml = 'Like what you see? Visit the ' +\n",
              "          '<a target=\"_blank\" href=https://colab.research.google.com/notebooks/data_table.ipynb>data table notebook</a>'\n",
              "          + ' to learn more about interactive tables.';\n",
              "        element.innerHTML = '';\n",
              "        dataTable['output_type'] = 'display_data';\n",
              "        await google.colab.output.renderOutput(dataTable, element);\n",
              "        const docLink = document.createElement('div');\n",
              "        docLink.innerHTML = docLinkHtml;\n",
              "        element.appendChild(docLink);\n",
              "      }\n",
              "    </script>\n",
              "  </div>\n",
              "\n",
              "\n",
              "    </div>\n",
              "  </div>\n"
            ],
            "application/vnd.google.colaboratory.intrinsic+json": {
              "type": "dataframe",
              "summary": "{\n  \"name\": \"# Diet Coke 159\",\n  \"rows\": 1,\n  \"fields\": [\n    {\n      \"column\": \"choice_description\",\n      \"properties\": {\n        \"dtype\": \"string\",\n        \"num_unique_values\": 1,\n        \"samples\": [\n          \"[Diet Coke]\"\n        ],\n        \"semantic_type\": \"\",\n        \"description\": \"\"\n      }\n    },\n    {\n      \"column\": \"order_id\",\n      \"properties\": {\n        \"dtype\": \"number\",\n        \"std\": null,\n        \"min\": 123455,\n        \"max\": 123455,\n        \"num_unique_values\": 1,\n        \"samples\": [\n          123455\n        ],\n        \"semantic_type\": \"\",\n        \"description\": \"\"\n      }\n    },\n    {\n      \"column\": \"quantity\",\n      \"properties\": {\n        \"dtype\": \"number\",\n        \"std\": null,\n        \"min\": 159,\n        \"max\": 159,\n        \"num_unique_values\": 1,\n        \"samples\": [\n          159\n        ],\n        \"semantic_type\": \"\",\n        \"description\": \"\"\n      }\n    },\n    {\n      \"column\": \"item_name\",\n      \"properties\": {\n        \"dtype\": \"string\",\n        \"num_unique_values\": 1,\n        \"samples\": [\n          \"Canned SodaCanned SodaCanned Soda6 Pack Soft DrinkCanned SodaCanned Soft DrinkCanned Soda6 Pack Soft Drink6 Pack Soft DrinkCanned Soft DrinkCanned Soft DrinkCanned Soft Drink6 Pack Soft DrinkCanned Soft DrinkCanned Soft DrinkCanned Soft Drink6 Pack Soft DrinkCanned Soft DrinkCanned Soft DrinkCanned Soft DrinkCanned SodaCanned Soft DrinkCanned Soft DrinkCanned Soft DrinkCanned Soft DrinkCanned Soft DrinkCanned Soft DrinkCanned Soft DrinkCanned Soft DrinkCanned Soft DrinkCanned Soft DrinkCanned Soft DrinkCanned Soft DrinkCanned Soft DrinkCanned SodaCanned Soft DrinkCanned Soft DrinkCanned Soft DrinkCanned Soft DrinkCanned Soft DrinkCanned Soft Drink6 Pack Soft DrinkCanned Soft DrinkCanned Soft DrinkCanned Soft DrinkCanned Soft DrinkCanned Soft DrinkCanned Soft DrinkCanned Soft DrinkCanned Soft DrinkCanned Soft DrinkCanned Soft DrinkCanned Soft DrinkCanned SodaCanned Soft Drink6 Pack Soft DrinkCanned Soft DrinkCanned Soft DrinkCanned Soft Drink6 Pack Soft DrinkCanned Soft Drink6 Pack Soft Drink6 Pack Soft DrinkCanned Soda6 Pack Soft DrinkCanned Soft DrinkCanned Soft DrinkCanned Soft DrinkCanned SodaCanned Soft DrinkCanned Soft DrinkCanned Soft DrinkCanned Soft DrinkCanned Soft DrinkCanned Soft DrinkCanned SodaCanned Soft DrinkCanned Soft DrinkCanned Soft DrinkCanned Soft DrinkCanned Soft Drink6 Pack Soft DrinkCanned SodaCanned Soft Drink6 Pack Soft DrinkCanned Soft DrinkCanned Soft Drink6 Pack Soft DrinkCanned Soft DrinkCanned Soft DrinkCanned Soft Drink6 Pack Soft DrinkCanned Soft DrinkCanned Soft DrinkCanned Soft DrinkCanned Soft DrinkCanned Soft DrinkCanned Soft DrinkCanned Soft Drink6 Pack Soft DrinkCanned Soft DrinkCanned Soft DrinkCanned Soft DrinkCanned Soft DrinkCanned SodaCanned Soft Drink6 Pack Soft DrinkCanned Soft DrinkCanned Soft DrinkCanned Soft Drink6 Pack Soft DrinkCanned Soda6 Pack Soft Drink6 Pack Soft DrinkCanned SodaCanned Soft DrinkCanned Soft DrinkCanned Soft Drink6 Pack Soft DrinkCanned Soft DrinkCanned Soft DrinkCanned Soft DrinkCanned Soft Drink6 Pack Soft DrinkCanned Soft DrinkCanned Soft DrinkCanned Soft DrinkCanned Soft Drink6 Pack Soft Drink6 Pack Soft DrinkCanned Soft DrinkCanned Soft DrinkCanned Soft DrinkCanned Soft Drink\"\n        ],\n        \"semantic_type\": \"\",\n        \"description\": \"\"\n      }\n    },\n    {\n      \"column\": \"item_price\",\n      \"properties\": {\n        \"dtype\": \"string\",\n        \"num_unique_values\": 1,\n        \"samples\": [\n          \"$2.18 $1.09 $1.09 $6.49 $2.18 $1.25 $1.09 $6.49 $6.49 $2.50 $1.25 $1.25 $6.49 $1.25 $1.25 $1.25 $6.49 $3.75 $1.25 $1.25 $1.09 $1.25 $1.25 $1.25 $1.25 $1.25 $1.25 $1.25 $1.25 $1.25 $1.25 $1.25 $1.25 $1.25 $1.09 $1.25 $1.25 $1.25 $1.25 $1.25 $1.25 $6.49 $1.25 $1.25 $2.50 $1.25 $1.25 $1.25 $1.25 $1.25 $1.25 $1.25 $1.25 $1.09 $1.25 $6.49 $2.50 $1.25 $1.25 $6.49 $2.50 $6.49 $6.49 $1.09 $6.49 $1.25 $1.25 $1.25 $2.18 $1.25 $1.25 $1.25 $1.25 $1.25 $1.25 $1.09 $1.25 $1.25 $1.25 $1.25 $2.50 $6.49 $1.09 $1.25 $6.49 $1.25 $1.25 $6.49 $2.50 $3.75 $3.75 $6.49 $2.50 $1.25 $2.50 $1.25 $1.25 $1.25 $1.25 $12.98 $2.50 $1.25 $1.25 $1.25 $2.18 $2.50 $6.49 $2.50 $1.25 $1.25 $6.49 $1.09 $6.49 $6.49 $1.09 $2.50 $1.25 $3.75 $6.49 $1.25 $1.25 $1.25 $1.25 $6.49 $1.25 $1.25 $1.25 $1.25 $6.49 $6.49 $1.25 $1.25 $1.25 $1.25 \"\n        ],\n        \"semantic_type\": \"\",\n        \"description\": \"\"\n      }\n    }\n  ]\n}"
            }
          },
          "metadata": {},
          "execution_count": 10
        }
      ],
      "source": [
        "c = chipo.groupby('choice_description').sum()\n",
        "c = c.sort_values(['quantity'], ascending=False)\n",
        "c.head(1)\n",
        "# Diet Coke 159"
      ]
    },
    {
      "cell_type": "markdown",
      "metadata": {
        "id": "-Oe2dKwgNKsE"
      },
      "source": [
        "### Step 12. How many items were orderd in total?"
      ]
    },
    {
      "cell_type": "code",
      "execution_count": 11,
      "metadata": {
        "id": "KvPUdjCdNKsE",
        "outputId": "9e668845-daaa-47bf-90a4-e92c404ae0c0",
        "colab": {
          "base_uri": "https://localhost:8080/"
        }
      },
      "outputs": [
        {
          "output_type": "execute_result",
          "data": {
            "text/plain": [
              "4972"
            ]
          },
          "metadata": {},
          "execution_count": 11
        }
      ],
      "source": [
        "total_items_orders = chipo.quantity.sum()\n",
        "total_items_orders"
      ]
    },
    {
      "cell_type": "markdown",
      "metadata": {
        "id": "tDm1DJOFNKsE"
      },
      "source": [
        "### Step 13. Turn the item price into a float"
      ]
    },
    {
      "cell_type": "markdown",
      "metadata": {
        "id": "f1Dq15E5NKsE"
      },
      "source": [
        "#### Step 13.a. Check the item price type"
      ]
    },
    {
      "cell_type": "code",
      "execution_count": 12,
      "metadata": {
        "id": "ektfB9G-NKsE",
        "outputId": "769da7a6-c948-4cf0-a229-dff46428d29f",
        "colab": {
          "base_uri": "https://localhost:8080/"
        }
      },
      "outputs": [
        {
          "output_type": "execute_result",
          "data": {
            "text/plain": [
              "dtype('O')"
            ]
          },
          "metadata": {},
          "execution_count": 12
        }
      ],
      "source": [
        "chipo.item_price.dtype"
      ]
    },
    {
      "cell_type": "markdown",
      "metadata": {
        "id": "jSFTkPo2NKsF"
      },
      "source": [
        "#### Step 13.b. Create a lambda function and change the type of item price"
      ]
    },
    {
      "cell_type": "code",
      "execution_count": 13,
      "metadata": {
        "collapsed": true,
        "id": "lrI7th9mNKsF"
      },
      "outputs": [],
      "source": [
        "dollarizer = lambda x: float(x[1:-1])\n",
        "chipo.item_price = chipo.item_price.apply(dollarizer)"
      ]
    },
    {
      "cell_type": "markdown",
      "metadata": {
        "id": "UhzHgCyINKsF"
      },
      "source": [
        "#### Step 13.c. Check the item price type"
      ]
    },
    {
      "cell_type": "code",
      "execution_count": 14,
      "metadata": {
        "id": "EaqBAcQJNKsF",
        "outputId": "4b887bf6-d6dd-4db2-a6b0-d36c421ba02c",
        "colab": {
          "base_uri": "https://localhost:8080/"
        }
      },
      "outputs": [
        {
          "output_type": "execute_result",
          "data": {
            "text/plain": [
              "dtype('float64')"
            ]
          },
          "metadata": {},
          "execution_count": 14
        }
      ],
      "source": [
        "chipo.item_price.dtype"
      ]
    },
    {
      "cell_type": "markdown",
      "metadata": {
        "id": "66XKNUW8NKsF"
      },
      "source": [
        "### Step 14. How much was the revenue for the period in the dataset?"
      ]
    },
    {
      "cell_type": "code",
      "execution_count": 15,
      "metadata": {
        "id": "BEVWq5sDNKsF",
        "outputId": "edef9c4f-cddb-4c93-984b-6aedf98a4f98",
        "colab": {
          "base_uri": "https://localhost:8080/"
        }
      },
      "outputs": [
        {
          "output_type": "stream",
          "name": "stdout",
          "text": [
            "Revenue was: $39237.02\n"
          ]
        }
      ],
      "source": [
        "revenue = (chipo['quantity']* chipo['item_price']).sum()\n",
        "\n",
        "print('Revenue was: $' + str(np.round(revenue,2)))"
      ]
    },
    {
      "cell_type": "markdown",
      "metadata": {
        "id": "eLStSW-FNKsF"
      },
      "source": [
        "### Step 15. How many orders were made in the period?"
      ]
    },
    {
      "cell_type": "code",
      "execution_count": 19,
      "metadata": {
        "id": "0err0lHANKsF",
        "outputId": "aa5b19ae-439e-4529-bcf1-3080f8794f11",
        "colab": {
          "base_uri": "https://localhost:8080/"
        }
      },
      "outputs": [
        {
          "output_type": "execute_result",
          "data": {
            "text/plain": [
              "1834"
            ]
          },
          "metadata": {},
          "execution_count": 19
        }
      ],
      "source": [
        "orders = chipo.order_id.value_counts().count()\n",
        "orders"
      ]
    },
    {
      "cell_type": "markdown",
      "metadata": {
        "id": "Tek3CMFUNKsG"
      },
      "source": [
        "### Step 16. What is the average revenue amount per order?"
      ]
    },
    {
      "cell_type": "code",
      "execution_count": 20,
      "metadata": {
        "id": "VXY7kgiuNKsG",
        "outputId": "b9b675b1-cedb-44d3-a5e5-f9f94c251298",
        "colab": {
          "base_uri": "https://localhost:8080/",
          "height": 561
        }
      },
      "outputs": [
        {
          "output_type": "error",
          "ename": "TypeError",
          "evalue": "Could not convert ['Chips and Fresh Tomato SalsaIzzeNantucket NectarChips and Tomatillo-Green Chili SalsaChicken BowlChicken BowlSide of ChipsSteak BurritoSteak Soft TacosSteak BurritoChips and GuacamoleChicken Crispy TacosChicken Soft TacosChicken BowlChips and GuacamoleChips and Tomatillo-Green Chili SalsaChicken BurritoChicken BurritoCanned SodaChicken BowlChips and GuacamoleBarbacoa BurritoNantucket NectarChicken BurritoIzzeChips and Fresh Tomato SalsaChicken BowlCarnitas BurritoCanned SodaChicken BurritoChips and Tomatillo-Green Chili SalsaSteak BurritoSide of ChipsCarnitas BowlBottled WaterChicken Soft TacosChicken Soft TacosChips and GuacamoleChips and Tomatillo Green Chili SalsaBarbacoa BowlChipsChips and GuacamoleChicken BowlSteak BurritoChicken Salad BowlChicken BurritoSteak BurritoIzzeSteak BurritoChips and GuacamoleSteak BurritoCanned SodaChicken BurritoCanned SodaSteak BowlChips and Fresh Tomato SalsaBarbacoa Soft TacosVeggie BurritoBarbacoa BowlChipsChips and GuacamoleSteak Soft TacosVeggie BowlChicken BurritoSteak BurritoSteak Soft TacosIzzeSteak BurritoChicken BurritoSteak BurritoSide of ChipsSteak BurritoChips and GuacamoleChicken BurritoChips and GuacamoleChicken Soft TacosChicken BowlChipsChicken BowlChicken Soft TacosChipsBarbacoa BurritoChicken BurritoChicken BurritoSteak Soft TacosVeggie BowlSteak BowlBottled WaterCarnitas BurritoChips and Fresh Tomato SalsaSteak BowlSteak BowlSteak Crispy TacosCarnitas BurritoChips and GuacamoleBarbacoa BowlChips and GuacamoleCarnitas BowlChicken BurritoChicken BowlChips and GuacamoleSteak BurritoSteak BowlChips and GuacamoleVeggie BurritoNantucket NectarSteak BurritoCanned SodaSteak BurritoChips and GuacamoleChicken BowlChips and Tomatillo Red Chili SalsaChips and GuacamoleChips and Tomatillo-Green Chili SalsaChicken BurritoBarbacoa BowlChicken BurritoCanned SodaSteak Soft TacosChips and GuacamoleChicken BurritoBarbacoa BurritoChips and GuacamoleChicken BowlChips and GuacamoleSteak BurritoCanned SodaBarbacoa BowlChips and Tomatillo Red Chili SalsaChips and GuacamoleBarbacoa BurritoChips and GuacamoleChicken BurritoChips and Tomatillo-Green Chili SalsaChicken BurritoChicken Salad BowlBarbacoa BowlChips and GuacamoleChicken BowlChips and GuacamoleChicken BowlChips and GuacamoleChicken BowlVeggie BowlBarbacoa BurritoCarnitas BowlChips and GuacamoleSteak BurritoSteak BurritoSide of ChipsChicken BurritoChips and GuacamoleChicken BurritoChips and Tomatillo-Green Chili SalsaChicken BowlChips and GuacamoleChips and GuacamoleVeggie BowlSteak BurritoChicken BurritoChicken BowlChicken BurritoCanned SodaCarnitas BowlVeggie BowlChips and Tomatillo-Green Chili SalsaChips and GuacamoleChicken BurritoBarbacoa Crispy TacosChicken BurritoChicken BurritoCanned SodaChicken BurritoNantucket NectarChicken BurritoSteak Soft TacosChicken BowlSteak BurritoChicken BurritoCanned SodaCanned SodaBarbacoa Soft TacosChicken BowlChips and Fresh Tomato SalsaSteak Soft TacosChips and GuacamoleVeggie Salad BowlSteak BowlChicken BurritoChicken BurritoSteak BurritoChips and Roasted Chili-Corn SalsaVeggie BowlChicken BowlChips and Fresh Tomato SalsaCanned SodaSteak BurritoChicken BurritoChips and Tomatillo-Green Chili SalsaChicken BowlCanned SodaChips and GuacamoleChicken BurritoChicken BurritoChicken BurritoNantucket NectarChicken BowlSteak BowlChipsChicken BowlVeggie BowlChicken BowlChips and GuacamoleChicken Salad BowlChips and GuacamoleSteak BowlChicken BurritoChicken Crispy TacosChicken BowlBarbacoa BowlChicken BowlChipsBarbacoa BurritoChipsChicken BowlVeggie BurritoChipsSteak BurritoCanned SodaSteak BurritoChips and GuacamoleChicken BowlChips and Tomatillo Green Chili SalsaChips and Roasted Chili Corn SalsaSteak BurritoChips and Tomatillo Green Chili SalsaSteak BurritoCarnitas Soft TacosSteak BurritoCarnitas BurritoChips and Fresh Tomato SalsaChicken BurritoChicken BurritoSteak BowlChicken BurritoSteak BurritoCanned SodaCanned SodaCanned SodaBarbacoa BurritoChicken SaladCanned SodaChicken BowlVeggie BowlBarbacoa BowlBarbacoa Crispy TacosChicken Salad BowlChicken BowlSteak BurritoSteak BowlSteak BowlCanned SodaSteak BowlCanned Soft DrinkSteak BurritoChips and Fresh Tomato SalsaSteak Soft TacosChips and Fresh Tomato SalsaBarbacoa Soft TacosChips and GuacamoleChicken BurritoChips and Tomatillo-Green Chili SalsaChicken BurritoChicken BurritoChicken BurritoSide of ChipsChicken BurritoChips and GuacamoleSteak Soft TacosSide of ChipsCanned SodaSteak Salad BowlChicken BowlChipsChicken BowlSteak BowlSteak BowlVeggie BowlChips and GuacamoleChicken BurritoChicken BowlChicken BowlCanned Soft DrinkSteak Soft TacosChips and GuacamoleVeggie Salad BowlSteak BurritoSteak Burrito6 Pack Soft DrinkSteak Soft TacosChips and Tomatillo-Red Chili SalsaChicken BowlChips and Fresh Tomato SalsaChicken BowlChicken BowlChipsSteak BowlSide of ChipsChicken BurritoChicken BurritoChipsChips and GuacamoleChicken BowlChicken Soft TacosSteak BurritoChicken Salad BowlChicken BurritoCanned SodaBottled WaterChicken BowlCanned Soft DrinkChipsSteak BurritoChicken BurritoChicken Soft TacosSteak BurritoChips and Fresh Tomato SalsaChicken BowlChipsBottled WaterChicken BurritoChipsChicken Soft TacosChicken Soft TacosBarbacoa BurritoSteak BurritoSteak BowlCanned Soft DrinkChicken BurritoChicken BurritoChips and Guacamole6 Pack Soft DrinkSteak Soft TacosChips and Fresh Tomato SalsaChicken Soft TacosChips and GuacamoleCanned Soft DrinkCanned Soft DrinkChicken BowlChips and Tomatillo-Red Chili SalsaCanned SodaChicken BurritoCanned SodaSteak BurritoChicken Soft TacosChicken BurritoChips and Tomatillo Red Chili Salsa6 Pack Soft DrinkSteak BurritoIzzeIzzeSteak BurritoChicken BurritoChicken BurritoChipsChicken Crispy TacosChips and Tomatillo Green Chili SalsaChicken BurritoCanned Soft DrinkSteak BurritoCanned SodaChicken BowlChicken BurritoCarnitas BurritoChips and Fresh Tomato SalsaBarbacoa BurritoBottled WaterSteak BurritoCanned SodaChicken BowlCanned Soft DrinkCanned Soft DrinkChicken BurritoSteak BurritoChipsBarbacoa BurritoSide of ChipsSteak Bowl6 Pack Soft DrinkChicken BurritoSteak Soft TacosChicken BurritoChips and GuacamoleCanned Soft DrinkVeggie BurritoChips and GuacamoleChicken BurritoBarbacoa BurritoChicken BurritoCarnitas BowlChicken BurritoCanned Soft DrinkSteak BurritoCanned Soft DrinkSteak BurritoCarnitas Soft TacosChips and GuacamoleChicken BowlChipsChicken BowlCanned Soft DrinkChicken BowlSteak BowlSide of ChipsCanned SodaChicken BowlChips and Guacamole6 Pack Soft DrinkBarbacoa BowlChicken Soft TacosSteak BurritoCarnitas BurritoChicken BowlChicken BurritoChipsChips and Fresh Tomato SalsaChicken Soft TacosChicken Soft TacosSteak BowlBarbacoa Crispy TacosIzzeSteak BurritoSide of ChipsCarnitas BowlCanned SodaVeggie BurritoNantucket NectarSteak Crispy TacosCanned SodaSteak BurritoChicken Soft TacosChicken BurritoChips and GuacamoleChips and Tomatillo Red Chili SalsaSteak BowlBowlChicken BurritoSteak BurritoChicken BurritoChicken BowlBarbacoa BurritoChicken BurritoChicken BurritoCarnitas Soft TacosChicken BowlVeggie Salad BowlChicken BowlChicken BurritoChips and Fresh Tomato SalsaCanned Soft DrinkChicken BowlSide of ChipsCarnitas BurritoChicken BurritoChicken BowlChicken BowlChips and GuacamoleVeggie BurritoChips and GuacamoleVeggie BurritoChips and GuacamoleBarbacoa BowlSide of ChipsCanned SodaChicken Soft TacosBottled WaterChicken BurritoSide of ChipsCarnitas BurritoVeggie BurritoChicken BowlSteak BurritoChicken BurritoChicken BowlChicken BowlBarbacoa Crispy TacosChicken BurritoChicken BurritoChicken BowlChipsChicken BowlSteak BowlCanned Soft DrinkChips and GuacamoleSteak Soft TacosChips and GuacamoleVeggie Salad BowlVeggie BurritoChips and GuacamoleSteak BowlSteak BowlChicken BowlBarbacoa BurritoSteak BurritoChicken Soft TacosCanned Soft DrinkCarnitas BowlCanned Soft DrinkSteak BurritoChicken BowlBurritoBurritoVeggie BowlCanned Soft DrinkChips and GuacamoleVeggie BowlChipsChicken BurritoChips and GuacamoleBurritoCrispy TacosCrispy TacosSteak BurritoChips and GuacamoleSteak BowlSide of ChipsChicken Salad BowlChicken BowlChicken Salad BowlChicken Salad BowlVeggie BowlChicken BurritoChips and Fresh Tomato SalsaChicken BurritoSteak BurritoVeggie BurritoChips and GuacamoleChips and Tomatillo Green Chili SalsaCarnitas BowlSteak BurritoBottled WaterCanned Soft DrinkChicken BowlBarbacoa BurritoChips and GuacamoleChicken BowlChicken BowlChips and GuacamoleChicken BowlSteak BurritoChips and GuacamoleChicken BurritoSteak Burrito6 Pack Soft DrinkCarnitas Crispy TacosVeggie BowlChicken BowlBarbacoa BurritoChipsSteak BowlChips and GuacamoleBarbacoa BurritoChips and Roasted Chili Corn SalsaSteak BurritoChicken BurritoCarnitas Soft TacosCanned Soft DrinkCanned Soft DrinkChicken Salad BowlChicken BurritoSteak Soft TacosChips and GuacamoleSteak BurritoSteak BurritoBarbacoa BurritoBarbacoa BurritoSteak BurritoChicken Soft TacosChips and Tomatillo-Green Chili SalsaIzzeIzzeSteak Crispy TacosSteak BurritoChicken BowlChipsChicken Salad BowlBarbacoa BurritoChips and GuacamoleChicken BurritoChicken BurritoCarnitas Soft TacosChicken Salad BowlBarbacoa BowlChips and Tomatillo Red Chili SalsaBottled WaterSteak BowlChicken BowlSide of ChipsChicken Crispy TacosChicken BurritoChicken Crispy TacosNantucket NectarBarbacoa BurritoChips and GuacamoleChicken BowlChips and GuacamoleSteak Salad BowlSteak Salad BowlChicken BurritoChips and Fresh Tomato SalsaCanned Soft DrinkBarbacoa Soft TacosChicken BurritoSteak Salad BowlChicken BowlBarbacoa BurritoChipsChipsCanned Soft DrinkVeggie BowlChips and GuacamoleChicken BurritoCanned SodaVeggie BurritoChips and GuacamoleChicken BowlCarnitas BurritoChips and Tomatillo Green Chili SalsaChips and GuacamoleSteak BurritoChicken Soft TacosVeggie BurritoChips and GuacamoleChicken Salad BowlChicken BurritoCanned Soft DrinkChicken BurritoChicken BowlSteak Burrito6 Pack Soft DrinkChicken BurritoChicken Soft TacosChips and GuacamoleVeggie BowlChips and GuacamoleSteak BurritoCanned SodaChicken BowlChips and Roasted Chili-Corn SalsaSteak BurritoSide of ChipsCanned Soft DrinkCarnitas BurritoBottled WaterChicken BowlChips and Tomatillo Green Chili SalsaChicken BurritoChips and GuacamoleSteak BurritoChicken BurritoChicken BowlSide of ChipsVeggie BurritoChips and GuacamoleSteak SaladSteak BowlChips and GuacamoleCarnitas Soft TacosChicken BowlChips and GuacamoleCanned Soft DrinkChips and GuacamoleChicken BurritoBowlChips and Mild Fresh Tomato SalsaBurritoChips and GuacamoleVeggie BowlChips and GuacamoleSteak BowlChips and GuacamoleChicken BurritoCanned Soft DrinkSteak BurritoCanned Soft DrinkChicken BurritoChipsChicken BowlChips and GuacamoleCanned Soft DrinkSteak BowlCarnitas BurritoChips and Tomatillo-Red Chili SalsaChicken Salad BowlChips and GuacamoleCanned Soft DrinkSteak BurritoChicken Soft TacosCanned SodaChicken BurritoCanned SodaBottled WaterChicken Salad BowlChips and Tomatillo Green Chili SalsaCanned Soft DrinkBottled WaterChicken BowlSteak BurritoChips and Roasted Chili Corn SalsaCanned Soft DrinkVeggie BurritoChips and GuacamoleSteak BurritoChips and GuacamoleVeggie BurritoChicken BurritoCanned Soft DrinkBarbacoa BurritoSide of ChipsChicken BowlCanned Soft Drink6 Pack Soft DrinkChicken BowlBarbacoa BurritoChicken BurritoChips and Fresh Tomato SalsaChicken BurritoSteak BurritoSteak BurritoSteak Crispy TacosChips and Fresh Tomato SalsaChips and GuacamoleVeggie BurritoChicken BowlChicken BurritoCanned Soft DrinkSteak BurritoVeggie BowlVeggie Soft TacosChicken BurritoCanned Soft DrinkSteak BurritoBarbacoa Burrito6 Pack Soft DrinkChips and GuacamoleVeggie BurritoChicken BurritoChipsChicken BurritoSteak Salad BowlBarbacoa BowlSide of ChipsSteak SaladSteak BowlChips and GuacamoleCarnitas Soft TacosBarbacoa BurritoSteak BowlChipsBurritoBurritoVeggie BurritoChicken Salad BowlBarbacoa Crispy TacosChips and GuacamoleChicken BowlCanned Soft DrinkCarnitas BurritoChicken Crispy TacosCanned Soft DrinkChips and GuacamoleVeggie BurritoChicken BowlChicken BowlSteak Crispy TacosChicken BowlChipsCanned Soft DrinkChicken BurritoCanned SodaBottled WaterVeggie Soft TacosChips and Tomatillo Green Chili SalsaCanned Soft DrinkSteak BowlCanned Soft DrinkChipsChicken BurritoCanned Soft DrinkChips and GuacamoleChicken BurritoCanned Soft DrinkChips and GuacamoleChicken BurritoChicken BowlChicken BowlChicken BurritoVeggie BurritoChicken BowlChips and GuacamoleChicken BurritoChips and GuacamoleSide of ChipsBarbacoa BowlBarbacoa BowlChicken BowlSteak BurritoCanned SodaSteak BurritoChips and Tomatillo Green Chili SalsaChicken BurritoSteak BurritoChips and GuacamoleVeggie BurritoChicken BurritoChicken BowlChicken Salad BowlChicken BowlBottled WaterChips and GuacamoleCarnitas Soft TacosCanned SodaCarnitas BowlChicken BurritoChips and GuacamoleSteak BowlChips and GuacamoleVeggie BurritoChipsBarbacoa Crispy TacosChicken Crispy TacosVeggie BowlVeggie BowlCarnitas BowlChicken BurritoCarnitas BurritoChicken BurritoChicken BowlChips and Tomatillo Red Chili SalsaChips and GuacamoleBarbacoa BowlChips and Roasted Chili Corn SalsaSteak BowlVeggie BowlChicken BowlChips and GuacamoleVeggie BowlVeggie BurritoChips and Fresh Tomato SalsaChicken BowlCanned Soft DrinkCarnitas BowlChips and GuacamoleBarbacoa BurritoBarbacoa BurritoChips and GuacamoleChicken BurritoBarbacoa Soft TacosChicken BurritoBarbacoa BurritoSteak BurritoSteak BurritoSteak BurritoSteak BurritoChicken Salad BowlCarnitas BurritoChicken Crispy TacosCanned Soft DrinkChicken BowlChipsCanned Soft DrinkChicken BowlChicken Soft TacosCanned Soft DrinkVeggie BurritoBottled WaterChicken Soft TacosChicken BowlBarbacoa Burrito6 Pack Soft DrinkChips and GuacamoleChicken BowlChips and GuacamoleChicken Soft TacosCanned Soft DrinkChicken Crispy TacosSteak BurritoVeggie BowlBarbacoa BurritoBottled WaterChicken BowlVeggie BurritoChicken BowlSteak SaladChips and GuacamoleChicken BurritoChips and GuacamoleSteak BurritoSide of ChipsSteak BowlChicken BowlVeggie BowlChips and GuacamoleBarbacoa BurritoCanned Soft DrinkSteak BowlChips and Roasted Chili Corn SalsaSteak BurritoSteak BurritoCanned SodaSteak BowlSteak BurritoChicken BurritoSide of ChipsSteak BurritoChicken BowlChips and Tomatillo Green Chili SalsaCanned Soft DrinkSteak Crispy TacosBarbacoa BowlChicken BowlChipsBottled WaterChicken Soft TacosChicken Soft TacosNantucket NectarSteak BowlChips and GuacamoleChicken BowlChips and GuacamoleChicken BowlVeggie BurritoChipsChicken BowlChicken BowlSide of ChipsVeggie BowlChicken BowlCanned Soft DrinkChicken BurritoSteak BurritoSteak BurritoSteak BurritoBottled WaterChicken BowlChips and GuacamoleChicken Crispy TacosChips and Fresh Tomato SalsaChicken BowlChipsChips and GuacamoleChicken BurritoSteak BowlChips and GuacamoleChicken BurritoSide of ChipsCanned SodaSteak BurritoCanned SodaCarnitas BurritoVeggie Salad BowlSteak Soft TacosChips and Fresh Tomato SalsaCanned Soft DrinkCanned Soft DrinkChicken BurritoChicken Soft TacosSteak BurritoSteak Soft TacosChicken Soft TacosBottled WaterChips and GuacamoleVeggie BurritoVeggie BurritoCarnitas BurritoChicken BowlChicken BowlChicken BowlChips and GuacamoleChicken BowlChicken BowlBarbacoa BurritoChips and Tomatillo-Green Chili SalsaChicken BurritoCarnitas BowlChipsChicken BurritoCanned Soft DrinkBarbacoa Soft TacosCanned Soft DrinkChicken BurritoSteak BurritoCanned Soft DrinkChicken BowlChicken BowlChicken BowlChicken BowlChicken BurritoCanned Soft DrinkChicken Soft TacosChicken BowlChicken BowlBottled WaterBottled WaterChicken BowlChips and GuacamoleChicken Crispy TacosCanned Soft DrinkCarnitas Crispy TacosChicken BurritoChips and Tomatillo-Green Chili SalsaSteak BowlChips and GuacamoleSteak BurritoChicken BowlSteak BurritoSide of ChipsChicken BowlChips and Tomatillo-Green Chili SalsaBarbacoa Crispy TacosSteak Crispy TacosChicken BurritoChips and GuacamoleChicken BowlChips and GuacamoleSteak Burrito6 Pack Soft DrinkChicken Crispy TacosChicken BurritoChicken BurritoCanned SodaSide of ChipsBarbacoa BowlChips and GuacamoleChicken BowlCanned Soft DrinkChips and Fresh Tomato SalsaChips and GuacamoleVeggie BurritoSteak BowlSteak BowlChipsSteak BowlChicken BowlChipsCanned Soft DrinkChicken BurritoChipsCanned Soft DrinkChicken BurritoChicken Burrito6 Pack Soft DrinkSide of ChipsSteak BowlChicken BurritoBarbacoa BurritoChicken BurritoCanned SodaChicken BowlIzzeChicken BowlChipsCanned Soft DrinkCarnitas BurritoChicken BurritoChicken SaladChicken BowlChips and Roasted Chili Corn SalsaBarbacoa BowlSteak BurritoSteak BurritoChips and GuacamoleSteak BurritoChicken BowlVeggie BurritoChips and GuacamoleSide of ChipsSteak BowlChicken BowlChips and GuacamoleBottled WaterSteak BowlChipsSteak BurritoChips and Tomatillo-Green Chili SalsaChicken BurritoChips and Fresh Tomato SalsaCanned Soft DrinkChicken BowlChipsCanned Soft DrinkCanned SodaCanned SodaSteak BurritoChicken Soft TacosChips and Fresh Tomato SalsaSteak BowlCarnitas BurritoCanned Soft DrinkChicken BurritoBarbacoa BurritoChips and Tomatillo-Red Chili SalsaSteak BurritoChips and GuacamoleChicken BowlVeggie BurritoChicken BowlChicken BurritoChicken BowlChicken Salad BowlChicken Salad BowlSteak BowlChicken BowlChips and GuacamoleSteak BurritoCanned Soft DrinkChicken BurritoChicken BurritoChips and Fresh Tomato SalsaBarbacoa BurritoSide of ChipsChicken BurritoChips and GuacamoleChicken Bowl6 Pack Soft DrinkChicken BurritoChips and GuacamoleCarnitas BurritoChips and GuacamoleBarbacoa Soft TacosSteak BurritoChips and GuacamoleCarnitas Salad BowlSteak BowlChicken BowlChips and Fresh Tomato SalsaBottled WaterChips and GuacamoleChicken BurritoSteak BurritoBottled WaterSteak BurritoCanned SodaChips and GuacamoleSteak BurritoVeggie BurritoSteak BurritoChips and GuacamoleSteak BowlBarbacoa Soft TacosChips and Roasted Chili Corn SalsaBarbacoa BurritoChicken BurritoSteak BurritoSteak BurritoChicken BurritoChicken BowlChips and Tomatillo Green Chili SalsaChips and GuacamoleSteak Salad BowlChicken BurritoChicken BurritoSide of ChipsChicken BowlChipsCanned Soft DrinkChicken Burrito6 Pack Soft DrinkSteak Crispy TacosChipsChicken BurritoChips and GuacamoleChicken BowlCanned Soft DrinkBarbacoa BowlBarbacoa BowlSteak BowlBottled WaterChicken BowlBarbacoa BowlChips and Roasted Chili-Corn SalsaChips and Tomatillo-Red Chili SalsaBottled WaterChicken BowlChips and GuacamoleChicken BurritoCarnitas Soft TacosBarbacoa BurritoChicken BowlChicken Salad BowlChips and GuacamoleChips and Tomatillo Red Chili SalsaSteak BowlVeggie BurritoChicken Soft TacosCarnitas Crispy TacosSide of ChipsCarnitas BurritoChicken BowlSteak BurritoCarnitas BowlChicken BurritoBarbacoa BurritoChicken BurritoChicken BowlChicken BowlChicken BowlChicken BowlChicken BurritoChips and GuacamoleChicken BowlChicken BurritoCarnitas BowlIzzeChips and GuacamoleSteak BurritoCanned SodaCanned SodaChips and Tomatillo-Green Chili SalsaChicken BurritoChips and GuacamoleChicken BowlChicken BowlChips and GuacamoleSteak BowlChips and GuacamoleChicken BowlChipsCanned Soft DrinkBarbacoa Salad BowlChips and Fresh Tomato SalsaSteak BurritoCanned Soft DrinkChicken BurritoChips and GuacamoleBarbacoa BowlBarbacoa BowlChips and Fresh Tomato SalsaCarnitas BurritoChicken BurritoBarbacoa Soft TacosChips and Fresh Tomato SalsaVeggie BowlCanned Soft DrinkCarnitas BowlCanned Soft DrinkSteak BowlChips and Fresh Tomato SalsaCanned Soft DrinkChicken Soft TacosCanned Soft DrinkChicken BurritoVeggie BurritoChips and GuacamoleChicken BurritoSteak BurritoVeggie BurritoChips and Fresh Tomato SalsaChips and GuacamoleChips and Tomatillo Green Chili Salsa6 Pack Soft DrinkVeggie BurritoSteak BurritoChips and Tomatillo-Green Chili SalsaBarbacoa BowlChicken BowlChipsChicken Soft TacosChips and GuacamoleChicken BurritoSide of ChipsChicken BurritoSteak BurritoChicken BurritoChips and GuacamoleSteak BurritoSteak BurritoChips and GuacamoleChicken Soft Tacos6 Pack Soft DrinkChicken BurritoChicken BowlSteak BurritoCanned Soft DrinkChips and GuacamoleChicken BurritoSide of ChipsCarnitas BurritoChips and GuacamoleSteak BurritoCanned SodaChicken BowlChips and Roasted Chili Corn SalsaSteak BowlCarnitas BowlChips and GuacamoleChicken BowlVeggie BowlChicken BowlChicken BowlBarbacoa BurritoChipsChicken BowlChicken BowlChips and GuacamoleSide of ChipsSteak BowlChicken BowlSide of ChipsSteak BurritoChicken BurritoSteak Salad BowlSteak BowlChips and Tomatillo Red Chili SalsaSteak BowlChips and Fresh Tomato SalsaVeggie Salad BowlChips and GuacamoleChips and GuacamoleVeggie BowlChicken BurritoSteak BurritoChicken BurritoSteak BurritoChips and GuacamoleSteak BurritoBarbacoa Salad BowlSteak Crispy TacosChicken BurritoChicken BowlSteak BowlChicken BurritoChicken BowlSteak BurritoBarbacoa Soft TacosChips and GuacamoleChicken BurritoCarnitas BurritoCanned Soft DrinkSteak BurritoSide of ChipsCarnitas BowlChipsCanned Soft DrinkCarnitas BowlChicken Crispy TacosChips and GuacamoleBarbacoa BowlChips and Tomatillo Red Chili SalsaVeggie BurritoChicken BurritoChips and GuacamoleChicken Salad BowlSteak Soft TacosSteak BowlSide of ChipsNantucket NectarBarbacoa BowlChips and Roasted Chili Corn SalsaCarnitas BowlSide of ChipsChicken Soft TacosChicken BurritoVeggie BowlChips and Fresh Tomato SalsaSteak Soft TacosSide of ChipsChicken BowlChipsCanned Soft DrinkChicken BowlChips and Roasted Chili Corn SalsaSteak BurritoCanned Soft DrinkVeggie BowlCanned Soft DrinkCarnitas BowlCanned Soft DrinkChicken BowlBottled WaterChicken Soft TacosCanned Soft DrinkChips and Tomatillo Red Chili SalsaBarbacoa BowlSteak BurritoChicken BowlChicken BowlChipsSteak BurritoCanned Soft DrinkCarnitas Soft TacosBarbacoa Soft Tacos6 Pack Soft DrinkCarnitas BowlVeggie BurritoVeggie Soft TacosCanned SodaChicken BowlChicken BurritoCanned Soft DrinkChipsChicken BowlBottled WaterChicken BurritoVeggie BowlChicken BowlChicken BurritoChicken BowlBottled WaterCanned Soft DrinkBottled WaterChicken BowlCanned Soft DrinkChipsSaladSaladChips and GuacamoleBarbacoa BowlBarbacoa Salad BowlBarbacoa BowlBarbacoa BowlBarbacoa Salad BowlChicken Salad BowlChips and GuacamoleChicken BurritoBottled WaterChicken Soft TacosChicken BowlVeggie BowlChicken BowlCarnitas BowlCanned SodaChicken BowlVeggie BowlChicken BurritoChicken BurritoBottled WaterCarnitas Soft TacosChicken Soft TacosChips and GuacamoleVeggie BurritoVeggie BowlChicken BowlChicken BurritoChicken BurritoChicken BurritoSteak BowlBottled WaterChicken BurritoChicken BowlChips and Roasted Chili Corn SalsaSteak Crispy TacosChicken BurritoSteak BurritoVeggie BowlChips and GuacamoleChicken BowlCanned SodaChips and Roasted Chili-Corn SalsaVeggie BurritoChicken Salad BowlSteak BowlCarnitas BurritoChicken BurritoChicken BurritoChips and Fresh Tomato SalsaChicken BurritoChicken Soft TacosChips and GuacamoleSteak BurritoChips and GuacamoleChicken Salad BowlChipsCanned Soft DrinkChicken BowlSteak BowlChicken Soft TacosBottled WaterChicken BowlChipsCanned Soft DrinkChicken BurritoSteak BowlChicken Salad BowlChicken BowlBottled WaterChicken BurritoCanned Soft DrinkChips and GuacamoleChicken Soft TacosChicken BowlChips and Tomatillo Red Chili SalsaCanned Soft DrinkChicken BurritoChips and Fresh Tomato SalsaCanned Soft DrinkChicken Soft TacosVeggie BurritoChips and Fresh Tomato SalsaChicken BowlCanned Soft DrinkChicken BurritoChicken BurritoSteak BowlChicken BowlSteak Salad BowlCanned Soft DrinkChicken BowlChipsCanned Soft DrinkSteak BurritoCanned SodaChicken BowlChips and GuacamoleChicken BowlChicken BowlChips and GuacamoleSteak BurritoChips and Tomatillo Green Chili SalsaChicken BowlChicken BurritoSteak BurritoChicken BurritoChicken BowlChicken Salad BowlChicken BowlChips and GuacamoleCanned Soft DrinkChicken BowlChicken BowlChicken BowlBarbacoa BurritoBarbacoa BurritoChips and Tomatillo-Red Chili SalsaChips and Tomatillo-Red Chili SalsaChips and GuacamoleChicken BowlChips and GuacamoleChipsSteak BowlCanned Soft DrinkChicken BurritoSteak Soft TacosChicken BowlChips and GuacamoleChicken BowlChipsChicken Salad BowlChips and GuacamoleChicken BurritoChicken BurritoCanned Soft DrinkChicken BowlChipsChicken BowlChips and Roasted Chili Corn SalsaSteak BowlCanned Soft DrinkSteak BurritoCanned Soft DrinkChicken Soft TacosCanned Soft DrinkChips and GuacamoleSteak BowlChips and GuacamoleChicken BurritoSteak BowlChicken BurritoChips and Tomatillo Green Chili SalsaChicken BurritoChicken BowlSteak Salad BowlChips and GuacamoleChips and Tomatillo Green Chili SalsaCanned Soft DrinkChicken BowlChips and GuacamoleChips and Tomatillo Green Chili SalsaCanned Soft DrinkChicken BowlChipsCanned Soft DrinkSteak BurritoChips and Tomatillo Green Chili SalsaBarbacoa BurritoNantucket NectarSteak BurritoCarnitas Soft TacosChicken BowlChips and Tomatillo Green Chili SalsaSteak Salad BowlBottled WaterChicken BowlChips and Tomatillo Green Chili SalsaCarnitas BowlChicken BurritoChicken BowlChips and Roasted Chili Corn SalsaChicken BowlBarbacoa BurritoChipsChicken Salad BowlChicken BowlChicken BowlChicken BowlChipsChicken BurritoCanned Soft DrinkChipsChicken BowlChicken BowlIzzeIzzeChicken BurritoChicken Soft TacosChips and Tomatillo-Green Chili SalsaChicken BurritoSteak Soft TacosSteak BowlCanned Soft DrinkChips and Tomatillo Red Chili SalsaChicken Salad BowlVeggie BowlSteak BowlChips and GuacamoleBottled WaterNantucket NectarCarnitas BurritoChips and Roasted Chili-Corn SalsaChicken BowlChipsVeggie BurritoCarnitas Crispy TacosSteak BurritoChips and GuacamoleSteak BurritoChips and GuacamoleSteak BurritoChicken BowlChicken BurritoSteak BurritoChicken BurritoBarbacoa Soft TacosBarbacoa BowlVeggie BowlChicken BowlChips and GuacamoleChips and GuacamoleBarbacoa BurritoChicken BowlBarbacoa BowlChicken BowlVeggie BurritoVeggie Crispy TacosChicken BurritoChipsChicken BurritoChicken Soft TacosChips and Roasted Chili Corn SalsaChicken BurritoChicken BowlChicken BurritoCanned SodaChicken BurritoChipsChips and Tomatillo Red Chili SalsaCanned Soft DrinkChicken BurritoCarnitas Soft TacosBarbacoa Soft TacosBarbacoa BowlChips and Tomatillo Red Chili SalsaChicken BowlChipsCanned Soft DrinkSteak BurritoChips and GuacamoleCarnitas BurritoChipsCarnitas BowlIzzeSteak BurritoChicken Soft TacosChicken BowlChicken BowlChips and GuacamoleChicken BowlChipsCanned Soft DrinkSteak BurritoChips and GuacamoleSteak BurritoChips and Fresh Tomato SalsaChicken BowlVeggie SaladVeggie BurritoChicken Soft TacosChips and GuacamoleChicken BurritoVeggie Soft TacosChicken BurritoChicken BowlChips and GuacamoleChicken BowlSide of ChipsChicken BowlNantucket NectarChicken BurritoChicken Salad BowlSteak BurritoChicken BurritoChicken BowlChicken BurritoSteak BurritoChicken BurritoSteak BurritoChicken BowlSteak BurritoChicken BurritoChicken BowlSide of ChipsSteak Soft TacosSteak BowlChicken BurritoSide of ChipsSteak BowlChipsBottled WaterChicken BurritoBottled WaterChicken BowlChicken BowlChips and Tomatillo Red Chili SalsaChicken BowlSide of ChipsChicken BowlChips and Tomatillo Red Chili SalsaCanned Soft DrinkChicken Salad BowlChipsCarnitas BowlChicken BowlChicken BowlChicken BowlSteak BowlCanned Soft DrinkBarbacoa BowlChicken BurritoChicken BurritoVeggie BowlChips and GuacamoleChicken BurritoBottled WaterSteak BurritoBarbacoa Soft Tacos6 Pack Soft DrinkChicken Salad BowlChips and Guacamole6 Pack Soft DrinkChicken BowlCanned Soft DrinkChipsChicken BowlChips and Tomatillo-Red Chili SalsaChicken BurritoSteak BurritoChips and GuacamoleCarnitas BowlVeggie BurritoSteak BurritoChips and Fresh Tomato SalsaSteak BurritoCarnitas Soft TacosSteak BurritoChicken BurritoChicken BurritoChicken BurritoChicken BowlVeggie BurritoSteak BowlChicken BowlChicken Soft TacosChipsChicken BowlChipsChips and GuacamoleSteak BowlChicken BowlChips and Fresh Tomato SalsaCarnitas Soft TacosCanned Soft DrinkCanned Soft DrinkCanned Soft DrinkCanned Soft DrinkChicken BowlChipsChicken BowlSide of ChipsChicken BowlBottled WaterChicken BurritoChicken Soft TacosChicken BowlChips and GuacamoleBarbacoa BowlCanned SodaChicken Salad BowlCanned Soft DrinkChicken BurritoChips and Fresh Tomato SalsaChicken Soft TacosChicken BowlBarbacoa BurritoChicken Salad BowlChips and GuacamoleChicken Salad BowlSteak Salad BowlSteak BurritoChicken Soft TacosChicken BurritoChips and GuacamoleChicken BurritoSteak BowlSteak BowlChips and GuacamoleBarbacoa Salad BowlChips and Fresh Tomato SalsaChicken BurritoChips and GuacamoleChicken BowlChipsCanned Soft DrinkChicken BowlVeggie BowlSide of ChipsChicken BurritoChips and GuacamoleChicken Soft TacosCarnitas Crispy TacosChicken BowlChips and GuacamoleVeggie BowlChicken BurritoChips and Fresh Tomato SalsaChicken Crispy TacosChicken BurritoBarbacoa BurritoChips and Tomatillo Green Chili SalsaChicken Bowl6 Pack Soft DrinkChipsChicken BowlChicken BowlChipsBottled WaterChicken BowlChicken BowlChips and Tomatillo-Red Chili SalsaSteak BurritoChips and Guacamole6 Pack Soft DrinkSteak BurritoChips and GuacamoleVeggie BowlSide of ChipsCarnitas Salad BowlBarbacoa Crispy TacosSteak BowlChips and Fresh Tomato SalsaChicken BurritoChipsCanned Soft DrinkChicken BowlCarnitas BowlChicken Soft TacosVeggie BowlChicken BowlChicken BowlCanned Soft DrinkCanned Soft DrinkBottled WaterChips and GuacamoleChips and Fresh Tomato SalsaChicken Salad BowlVeggie Salad BowlChicken BurritoChicken BurritoChicken BowlChipsBottled WaterSteak BowlCanned Soft DrinkBottled WaterChipsCanned Soft DrinkChicken BowlChips and Tomatillo Red Chili SalsaChicken Soft TacosChips and GuacamoleChicken Salad BowlChipsSteak BowlChipsBarbacoa Crispy TacosChicken BowlChips and Fresh Tomato SalsaChicken BowlChips and GuacamoleCarnitas BowlCarnitas BurritoChips and GuacamoleSteak BurritoSteak Soft TacosBottled WaterChicken BowlChips and Tomatillo Red Chili Salsa6 Pack Soft DrinkCarnitas BowlChicken BurritoSteak BurritoChicken BowlChips and Guacamole6 Pack Soft DrinkChicken Salad BowlSteak BowlChips and Roasted Chili Corn SalsaChicken BowlSide of ChipsChicken BowlChicken BowlChips and GuacamoleChicken BowlChips and Tomatillo Red Chili SalsaSteak BowlChicken BowlChips and Tomatillo-Green Chili SalsaSteak Burrito6 Pack Soft DrinkChicken Soft TacosSteak BurritoChips and Fresh Tomato SalsaSteak BowlSide of ChipsSteak BowlCanned SodaCanned SodaSteak BurritoCarnitas BurritoCanned SodaSteak BurritoSteak BurritoChicken Soft TacosChicken BowlCanned SodaSteak BurritoSteak BowlChicken Salad BowlChicken BurritoChipsVeggie BurritoChicken Soft TacosChips and GuacamoleChips and Roasted Chili Corn SalsaCarnitas Soft TacosBottled WaterSteak BurritoChicken BowlChips and Tomatillo-Green Chili SalsaChicken BurritoChipsBarbacoa BowlBottled WaterChicken BowlChipsChips and GuacamoleSteak Bowl6 Pack Soft DrinkChicken Salad BowlChips and GuacamoleSteak Soft TacosChips and GuacamoleChicken BurritoVeggie BurritoCanned Soft DrinkChicken BowlBarbacoa Soft TacosChips and GuacamoleCanned Soft DrinkBottled WaterChicken BowlChips and GuacamoleChips and GuacamoleChips and Tomatillo Red Chili SalsaSteak BurritoChicken BowlChipsChicken BowlChicken BowlChips and GuacamoleChips and Tomatillo Red Chili SalsaCarnitas Soft TacosChicken BowlCanned Soft DrinkChicken BowlChips and Tomatillo Red Chili SalsaCanned Soft DrinkChicken BowlChips and GuacamoleSteak BurritoSteak BurritoChicken BowlChips and Tomatillo-Red Chili SalsaChicken BowlBarbacoa BowlChipsBottled WaterChipsChicken BowlChicken BowlChips and GuacamoleChicken BowlChicken BowlCanned Soft DrinkChips and GuacamoleSteak BurritoSteak Crispy TacosChicken BurritoCarnitas BowlVeggie BowlChicken BurritoSteak BowlChicken Salad BowlCarnitas BurritoCarnitas BowlVeggie BowlChicken BowlChips and GuacamoleChips and Fresh Tomato SalsaChicken BowlVeggie BowlChicken BurritoChicken BurritoSteak BowlSteak BowlSteak BurritoChicken BurritoSteak BowlChips and GuacamoleChicken Soft TacosChicken BowlSide of ChipsChicken BurritoSteak BurritoChips and Roasted Chili-Corn SalsaSteak BurritoChips and Fresh Tomato SalsaCanned Soft DrinkChicken BowlChips and Tomatillo Red Chili SalsaSteak BurritoChicken Soft TacosChicken BurritoChicken BowlVeggie BowlChips and Fresh Tomato SalsaChicken BowlBottled WaterVeggie BurritoBottled WaterCanned Soft DrinkChicken BowlChips and GuacamoleSteak BowlBarbacoa BowlChips and GuacamoleChicken BowlChicken Soft TacosChips and GuacamoleChicken Soft TacosChicken Soft TacosCarnitas Soft TacosSteak BurritoChips and Fresh Tomato SalsaBarbacoa Soft TacosVeggie BurritoChicken BurritoChicken Soft TacosChips and GuacamoleIzzeSteak BowlBottled WaterChips and GuacamoleCarnitas BurritoChicken BurritoCanned Soft DrinkSteak BowlVeggie BurritoBottled WaterChicken BurritoChicken BowlChipsBottled WaterChicken BurritoChips and Tomatillo Red Chili SalsaChicken BowlChicken BurritoChicken BowlChicken Burrito6 Pack Soft DrinkChips and GuacamoleChicken BurritoChicken Salad BowlChipsChicken Salad BowlChicken BowlChips and GuacamoleSteak BurritoChips and Fresh Tomato SalsaSteak BurritoCarnitas Soft TacosSteak BurritoChips and GuacamoleSteak BurritoVeggie BowlChips and Fresh Tomato SalsaChipsChicken BurritoChicken BurritoChicken BowlChipsBottled WaterBarbacoa BurritoChips and GuacamoleChicken BurritoSteak BurritoCanned SodaChicken BurritoChips and GuacamoleCanned Soft DrinkSteak Soft TacosChips and Roasted Chili-Corn SalsaChips and GuacamoleChicken BurritoChicken BurritoSteak Soft TacosBottled WaterChicken BowlSteak BowlChicken BowlChips and GuacamoleSteak BurritoChicken Soft TacosChips and GuacamoleChicken BurritoChicken BurritoSteak BurritoVeggie Salad BowlChicken BowlChicken BurritoChicken BurritoChicken BurritoChips and Tomatillo-Green Chili SalsaNantucket NectarChicken BowlCanned Soft DrinkChips and Fresh Tomato SalsaSteak BowlBottled WaterChicken BowlSide of ChipsChips and GuacamoleChicken BurritoChicken BowlChicken BowlChicken BowlChips and GuacamoleSteak BurritoVeggie BurritoChicken BowlChicken BowlChips and GuacamoleSteak BowlChicken BurritoChicken BowlChicken BurritoChicken BurritoChips and GuacamoleChicken BowlChips and GuacamoleCanned Soft DrinkChicken BowlChicken BowlBottled WaterChipsCarnitas BowlSteak BurritoSteak BowlSteak BowlSteak BowlBottled WaterChicken BurritoCarnitas Soft TacosCanned Soft DrinkChicken BurritoChipsSteak BurritoCanned SodaChips and GuacamoleChicken BurritoSteak BowlChipsChicken BowlChicken BurritoCanned Soft DrinkSteak BowlChipsSteak BurritoChicken BurritoVeggie BurritoVeggie BurritoChips and GuacamoleChicken BurritoSide of ChipsVeggie Salad BowlChicken Salad BowlSteak BurritoChicken Soft TacosSteak Crispy TacosChicken BowlChips and Tomatillo Red Chili SalsaChips and GuacamoleSteak Crispy Tacos6 Pack Soft DrinkCarnitas BowlSteak BowlCanned SodaSteak BurritoSteak BurritoChicken BurritoCarnitas BurritoChicken BowlChipsBottled WaterBarbacoa BurritoSide of ChipsChicken BowlCanned Soft DrinkCarnitas Soft TacosBarbacoa Soft TacosChicken Soft TacosSteak Soft TacosChips and GuacamoleChipsBarbacoa BowlChicken BurritoChicken BurritoChicken BowlBarbacoa BurritoChipsBarbacoa Soft TacosChicken BowlChicken BurritoChipsCanned Soft DrinkChicken BowlCanned Soft DrinkChicken BowlChips and Fresh Tomato SalsaCarnitas BowlVeggie Salad BowlCarnitas BurritoChips and GuacamoleSteak BowlSteak BowlCanned Soft DrinkSteak BowlChipsSteak BowlBottled WaterCanned Soft DrinkVeggie BurritoChips and Tomatillo Red Chili SalsaChicken BowlChicken Soft TacosChicken Soft TacosChicken BurritoChicken BurritoChicken Soft TacosChicken BurritoChipsCanned Soft DrinkChicken BurritoChicken BowlChipsBottled WaterChicken BowlChips and Tomatillo Green Chili SalsaCanned Soft DrinkCarnitas Soft TacosCarnitas Soft TacosChicken BurritoChips and Roasted Chili-Corn SalsaChicken BurritoChips and GuacamoleSteak BurritoChicken BowlChicken BowlChicken BowlSteak BowlChicken BowlSteak BurritoChicken BurritoChicken BowlChicken BowlChicken Salad BowlSteak BowlChicken BurritoSteak BowlChicken BowlSteak BowlChicken BurritoChicken BowlChicken BowlBarbacoa BurritoChicken BurritoSteak BowlVeggie BowlSteak BurritoSteak BurritoChicken BowlChips and Tomatillo Red Chili SalsaCanned Soft DrinkSteak BowlBottled WaterChicken BowlChicken BowlChicken BowlBottled WaterChipsChicken BowlSteak BowlBottled WaterChicken BowlChipsBottled WaterChicken BurritoChips and Roasted Chili Corn SalsaCanned Soft DrinkCanned Soft DrinkSteak BurritoChips and GuacamoleChicken BowlChicken BurritoChips and GuacamoleChicken BowlChipsCanned Soft DrinkChicken BowlSide of ChipsChicken BurritoCanned Soft DrinkChicken BowlCanned Soft DrinkChicken BowlChicken BurritoChicken BowlChicken BurritoSide of ChipsCarnitas BowlSteak BurritoChicken BowlChips and Roasted Chili-Corn SalsaBarbacoa BowlChips and Roasted Chili Corn Salsa6 Pack Soft DrinkChicken Crispy TacosVeggie BowlSteak BurritoChicken BowlNantucket NectarSteak BurritoNantucket NectarCarnitas BurritoChicken BowlVeggie Soft TacosChips and GuacamoleSteak BowlSteak BowlChicken Burrito6 Pack Soft DrinkSteak BurritoChips and Fresh Tomato SalsaVeggie BowlChicken BurritoSteak BurritoChips and GuacamoleChicken BowlChipsBarbacoa BurritoBarbacoa BowlBarbacoa BurritoSteak Salad BowlSteak BowlChicken Salad BowlCarnitas BowlSteak BurritoChicken BowlChicken BowlChicken BowlSide of ChipsBottled WaterChicken BowlBottled WaterChicken BurritoChicken BurritoSteak BowlBottled WaterChicken BurritoSteak Crispy TacosChicken Salad BowlChicken BurritoChipsChicken Crispy TacosChicken Salad BowlChipsVeggie BurritoChips and Tomatillo Red Chili SalsaChips and GuacamoleChicken BowlChicken BowlNantucket NectarChips and Fresh Tomato SalsaSteak BowlChipsBarbacoa Soft TacosSteak BurritoChips and Fresh Tomato SalsaChicken BowlSteak BurritoSteak Salad BowlCanned Soft DrinkBottled WaterBarbacoa Salad BowlCanned SodaVeggie BowlChips and Fresh Tomato SalsaChicken BowlChicken BurritoChicken BowlChicken BowlSteak Soft TacosChicken BowlChicken BowlChips and GuacamoleCarnitas BurritoChicken Soft TacosChicken BurritoSteak BowlBottled WaterBottled WaterChicken BowlSteak Crispy TacosBarbacoa BurritoChicken BurritoChips and GuacamoleChicken Soft TacosChipsSteak BurritoChicken BurritoChips and GuacamoleSide of ChipsVeggie BowlSteak BowlSteak BowlSteak BurritoChips and GuacamoleChicken BowlChips and GuacamoleChicken BowlCanned Soft DrinkSteak BurritoChips and GuacamoleVeggie BurritoChicken BowlChicken BowlSteak BurritoChicken BurritoChicken BowlCarnitas BowlChips and GuacamoleCanned Soft DrinkChicken BurritoSteak BurritoCanned SodaChips and Fresh Tomato SalsaChicken BowlChipsChicken BowlChips and GuacamoleChicken BurritoSide of ChipsChicken BurritoSide of ChipsSteak BurritoChips and GuacamoleChicken BowlChicken Soft TacosChicken Crispy TacosSteak BurritoChicken Soft TacosChicken BowlChicken BowlChips and Fresh Tomato SalsaCanned Soft DrinkChicken Soft TacosChicken Crispy TacosSteak BurritoBarbacoa BowlChicken BowlSteak BurritoCanned SodaBarbacoa BurritoSide of ChipsCarnitas BurritoCanned Soft DrinkChicken BowlChicken BurritoChipsCanned Soft DrinkChicken Soft TacosVeggie BowlSteak BowlChicken BurritoChicken BowlChicken BurritoChicken BurritoChipsCarnitas BowlCanned SodaSide of ChipsChicken BowlChipsCanned Soft DrinkChicken BowlCanned SodaBottled WaterSide of ChipsCarnitas BowlChicken BowlChicken Crispy TacosChips and Tomatillo-Red Chili SalsaCarnitas Soft TacosCanned Soft DrinkCanned Soft DrinkCanned Soft DrinkChicken BowlChicken Crispy TacosCarnitas BowlChips and GuacamoleChicken BowlChips and GuacamoleSteak BurritoCanned SodaChicken Salad BowlChipsVeggie BowlSteak BowlCarnitas BowlVeggie BowlChicken BowlSteak BowlChips and Fresh Tomato SalsaChicken BurritoChips and GuacamoleChicken BowlChips and Tomatillo Red Chili SalsaChips and Tomatillo Red Chili SalsaChicken BowlBottled WaterChicken BurritoChicken BowlCarnitas BurritoChicken BowlChips and GuacamoleCanned SodaBarbacoa BurritoCarnitas BurritoChicken BurritoChips and GuacamoleChicken BurritoChicken BowlChips and GuacamoleChicken BowlCanned Soft DrinkChips and GuacamoleSteak BurritoChicken BurritoChicken BowlChicken BurritoChips and GuacamoleSteak Salad BowlCanned Soft DrinkChips and Roasted Chili Corn SalsaChicken BowlChicken Crispy TacosVeggie BurritoChicken BowlChipsChips and GuacamoleChicken BowlCarnitas Salad BowlChicken BowlChicken BurritoChips and GuacamoleChicken BowlChicken Salad BowlChicken BowlChicken BurritoChicken BurritoIzzeBarbacoa BowlChicken BowlChips and Tomatillo Red Chili SalsaBottled WaterSteak Salad BowlSteak BurritoChips and Fresh Tomato SalsaBottled WaterChicken BowlSteak Crispy TacosChicken BowlChipsBottled WaterChicken BurritoIzzeSteak BowlCanned Soft DrinkChicken BurritoVeggie BurritoCanned Soft DrinkChicken BurritoChips and Tomatillo Green Chili SalsaCanned Soft DrinkChicken BurritoSteak BowlChips and GuacamoleChicken BowlCarnitas BowlChicken BurritoChicken BurritoChips and GuacamoleChicken Crispy TacosChicken BurritoNantucket NectarSteak Soft TacosChips and Tomatillo Green Chili SalsaChips and Tomatillo-Green Chili SalsaChips and Fresh Tomato SalsaChips and GuacamoleSteak BurritoBarbacoa BurritoChicken Soft TacosChicken Soft TacosChicken BowlChicken BowlChips and Tomatillo Red Chili SalsaChips and GuacamoleBarbacoa BowlChicken Crispy TacosChips and GuacamoleChicken BurritoChicken Soft TacosChicken BowlVeggie BowlChips and GuacamoleSteak BurritoChicken BurritoSteak BowlChips and GuacamoleBottled WaterCanned Soft DrinkChicken BurritoChicken BurritoVeggie Salad BowlChicken BowlVeggie BurritoCarnitas BurritoChicken BurritoChips and Fresh Tomato SalsaCanned Soft DrinkChicken BurritoBottled WaterChicken BurritoChips and GuacamoleSteak BurritoChicken Soft TacosChicken BurritoCarnitas BurritoChicken BurritoChips and GuacamoleBottled WaterChicken BowlChicken BowlChicken BurritoSide of ChipsChicken BowlChipsBarbacoa BurritoChipsBottled WaterChicken BowlSteak BowlChips6 Pack Soft DrinkSteak BurritoCarnitas Soft TacosChicken BowlChicken BowlBarbacoa BurritoCarnitas BowlSteak BurritoChicken BurritoChicken BurritoChipsCanned Soft DrinkCarnitas BowlSteak BowlChicken BurritoChicken Salad BowlChips and Fresh Tomato SalsaChicken BurritoChips and GuacamoleSteak Soft TacosCarnitas BowlChips and GuacamoleChicken BurritoChips and GuacamoleChicken BurritoChicken BowlChipsSteak Salad BowlChicken BowlChicken BowlChips and Tomatillo Red Chili SalsaBottled WaterChicken BurritoChipsChicken BowlChicken BowlBarbacoa BowlSteak BowlChipsChicken BurritoSteak BowlBottled WaterVeggie BurritoVeggie SaladChicken BurritoIzzeSteak BurritoChicken BowlChips and GuacamoleBarbacoa BowlChipsChicken Soft TacosChips and GuacamoleCanned Soft DrinkSteak BurritoCanned SodaChicken BurritoChicken BurritoChicken BowlChips and GuacamoleVeggie BowlCanned SodaChicken BurritoChips and Fresh Tomato SalsaChicken BowlChicken BurritoChips and Fresh Tomato SalsaBarbacoa Soft TacosChicken BowlChipsSteak BurritoChips and GuacamoleChips and GuacamoleBarbacoa BurritoBarbacoa Crispy TacosSteak BowlChipsCarnitas BurritoChicken BurritoChicken Burrito6 Pack Soft DrinkChicken BowlVeggie BowlChips and Fresh Tomato SalsaChicken BurritoChips and GuacamoleBottled WaterBarbacoa BowlChipsChicken Soft TacosVeggie BowlSteak Salad BowlChips and GuacamoleBottled WaterCanned Soft DrinkChicken BowlChicken BowlChips and GuacamoleChicken BowlSteak Crispy TacosChicken BowlCanned SodaBottled WaterSide of ChipsSteak BurritoNantucket NectarSteak BurritoSide of ChipsChicken BurritoSteak BurritoBottled WaterSteak BurritoSteak BurritoCanned SodaChicken BowlSide of ChipsChips and GuacamoleChicken Soft TacosCanned SodaChicken BurritoChicken BurritoSteak BurritoChicken BurritoSteak BurritoChicken BowlNantucket NectarSteak BurritoSteak Soft TacosChips and Fresh Tomato SalsaSteak Crispy TacosChicken BowlSteak Soft TacosSteak BurritoSteak BurritoChips and GuacamoleChips and Tomatillo-Green Chili SalsaVeggie BurritoCanned SodaVeggie Soft TacosSteak BurritoNantucket NectarChicken Soft TacosCanned Soft DrinkSteak BowlChips and GuacamoleChicken Salad BowlChips and Guacamole6 Pack Soft DrinkChicken BurritoSteak Crispy TacosChicken Salad BowlChicken BowlChicken BurritoCanned Soft DrinkChicken BowlSteak BowlChips and GuacamoleCanned Soft DrinkChicken BurritoCanned Soft DrinkChipsSteak Crispy TacosSteak BurritoChicken BowlChips and Tomatillo Red Chili SalsaCanned Soft DrinkSteak Soft TacosBottled WaterBottled WaterChicken BurritoChicken Salad BowlCarnitas BurritoSteak BurritoSide of ChipsCarnitas BowlSide of ChipsChicken BurritoChips and GuacamoleIzzeSteak BowlChipsSteak BurritoChips and Fresh Tomato SalsaChicken BowlChicken Salad BowlCarnitas Soft TacosChicken BowlSteak BurritoChicken BurritoChips and GuacamoleVeggie BowlCanned Soft DrinkCanned SodaCanned SodaChips and Roasted Chili-Corn SalsaChicken Crispy TacosSteak BurritoChips and Fresh Tomato SalsaVeggie BurritoChicken Crispy TacosCarnitas BowlCarnitas BowlChicken BowlChips and GuacamoleChipsChicken BowlChicken BowlChips and GuacamoleSteak BowlBottled WaterSteak BowlChicken BurritoBottled WaterCarnitas BowlChips and GuacamoleChips and GuacamoleSteak BowlChipsChicken BowlChicken Soft TacosChips and GuacamoleChicken BurritoBarbacoa BurritoChipsChicken BowlChicken Salad BowlVeggie BowlChicken BowlSteak BowlChicken BowlSteak BurritoSide of ChipsChicken BowlSteak BurritoChicken BurritoChips and GuacamoleNantucket NectarChicken BurritoCarnitas BurritoChicken BowlChicken BurritoSteak BurritoChicken BowlChicken BowlSteak Salad BowlChicken BowlChicken BowlSide of ChipsCanned SodaBarbacoa BurritoSteak Crispy TacosSteak BurritoChicken Crispy TacosBarbacoa BurritoChips and Roasted Chili Corn SalsaChicken SaladChips and GuacamoleSteak BowlChicken BowlChips and Tomatillo-Red Chili SalsaChicken BowlSteak BowlChicken BurritoSteak BowlSteak BowlChicken BurritoCanned Soft DrinkCarnitas BowlBottled WaterChicken BowlChips and GuacamoleChicken BowlChipsBarbacoa BurritoChicken BowlChicken Salad BowlChicken Salad BowlChicken BurritoChips and GuacamoleCanned Soft DrinkSteak BurritoSteak BurritoCanned Soft DrinkVeggie SaladSteak BurritoBottled WaterChicken BowlChips and GuacamoleChicken Salad BowlSteak BowlChicken BowlCarnitas BowlSide of ChipsCanned SodaSteak BowlBarbacoa BurritoChicken Bowl6 Pack Soft DrinkChicken BowlChicken BowlChips and GuacamoleSteak BurritoSide of ChipsSteak BowlBarbacoa BowlCanned Soft DrinkChicken BowlCanned SodaBottled WaterSide of ChipsChicken BowlChips and Roasted Chili-Corn SalsaBarbacoa BowlCanned Soft DrinkChicken BurritoSide of ChipsVeggie BurritoSide of ChipsBarbacoa BurritoChips and GuacamoleChicken Salad BowlChicken BowlChips and GuacamoleVeggie BurritoVeggie BurritoChicken BowlChicken BowlChips and GuacamoleChicken Crispy TacosBottled WaterChicken Soft TacosChips and GuacamoleChicken SaladChips and GuacamoleSteak BowlChips and GuacamoleChicken BurritoChips and GuacamoleChicken BowlChips and Tomatillo-Red Chili SalsaChicken BowlChips and Roasted Chili-Corn SalsaChips and GuacamoleVeggie BurritoCanned Soft DrinkChicken BowlChips and GuacamoleBarbacoa BurritoChips and GuacamoleCanned SodaSteak BurritoChips and GuacamoleChicken BowlChips and GuacamoleCarnitas Soft TacosChicken BowlChicken Salad BowlChicken BowlChicken Soft TacosChicken Crispy TacosChicken BowlChicken BowlSteak Crispy TacosChicken BowlChicken Crispy TacosChicken Crispy TacosChips and GuacamoleChicken BowlSteak BowlVeggie BowlSteak BowlChips and GuacamoleSteak Crispy TacosChips and Fresh Tomato SalsaChicken BowlSide of ChipsCanned Soft DrinkChips and GuacamoleSteak BowlBottled WaterChicken BowlSteak BurritoVeggie BowlChipsChicken BurritoSteak Salad BowlChicken Crispy TacosChips and GuacamoleChicken BowlChips and Fresh Tomato SalsaCarnitas BowlSide of ChipsSteak Soft TacosChips and GuacamoleChicken BowlSide of ChipsSteak BurritoChips and Fresh Tomato SalsaChicken BurritoSide of ChipsVeggie BurritoChips and GuacamoleCarnitas Salad BowlSteak BurritoChicken Salad BowlChicken BurritoChips and GuacamoleSteak Salad BowlChips and GuacamoleChips and GuacamoleChicken BurritoChicken BowlChicken BurritoChipsChicken BurritoCanned Soft DrinkSteak BurritoChicken BurritoChips and Guacamole6 Pack Soft DrinkChicken BowlSteak BurritoCanned Soft DrinkChips and Tomatillo Red Chili SalsaChips and GuacamoleChicken BurritoChicken BurritoSteak Burrito6 Pack Soft DrinkSteak BowlChips and Tomatillo-Green Chili SalsaSteak BowlCanned SodaVeggie BowlChips and GuacamoleVeggie BowlBarbacoa BurritoSide of ChipsChicken BowlCanned SodaSteak BurritoSteak BowlChips and Fresh Tomato SalsaBarbacoa BurritoSide of ChipsChips and GuacamoleCanned Soft DrinkChicken Soft TacosSteak BurritoCanned SodaVeggie SaladVeggie BurritoVeggie BowlChips and GuacamoleChicken Salad BowlChicken BurritoSteak BurritoChicken BurritoChips and Tomatillo-Red Chili SalsaChicken BowlChips and GuacamoleChicken BowlChicken Salad BowlSteak BurritoChicken BowlChicken BowlChicken BowlChicken BowlSteak BurritoChicken BowlChips and GuacamoleBarbacoa Soft TacosChicken BowlCanned Soft DrinkChipsSteak BurritoChips and GuacamoleSteak BowlChipsChicken Crispy TacosSteak BurritoChips and Roasted Chili-Corn SalsaBarbacoa BowlSteak BowlSteak BurritoChips and Fresh Tomato SalsaSteak BurritoBottled WaterSteak BowlChips and GuacamoleBottled WaterSteak BurritoSteak Soft TacosChips and Roasted Chili-Corn SalsaChicken BowlBarbacoa Salad BowlChipsCanned Soft DrinkBarbacoa Soft TacosChips and GuacamoleChicken BowlChicken BowlChicken BowlChips and GuacamoleChicken BowlChipsChips and GuacamoleChicken BowlCanned SodaChips and GuacamoleVeggie Salad BowlChicken BowlChicken BowlChips and Fresh Tomato SalsaSteak BurritoChips and Fresh Tomato SalsaChicken BowlChipsChicken BurritoChips and Fresh Tomato SalsaCanned Soft DrinkVeggie BurritoVeggie BurritoChicken BurritoSteak BurritoSteak BowlChicken BowlChicken Crispy TacosChips and GuacamoleCanned Soft DrinkChicken Soft TacosCarnitas BowlBarbacoa BowlSide of ChipsSteak BurritoSide of ChipsChicken BowlCanned Soft DrinkSteak BurritoCarnitas BurritoBarbacoa BowlCanned SodaChicken BurritoChicken BurritoChips and Tomatillo Green Chili SalsaCanned Soft DrinkChicken Salad BowlCanned Soft DrinkChicken Salad BowlChicken BowlChipsCanned Soft DrinkChicken BowlChips and GuacamoleChicken BurritoChips and Roasted Chili-Corn SalsaChicken BowlChips and Tomatillo-Red Chili SalsaChicken BurritoChips and GuacamoleSteak BurritoVeggie BurritoVeggie BowlBarbacoa BurritoChicken BowlSteak BowlChicken Soft TacosChips and GuacamoleBottled WaterChicken BowlChicken BowlChicken BowlChicken BowlChips and GuacamoleSteak BowlChips and GuacamoleChicken BurritoChicken Soft TacosChipsChips and Tomatillo Red Chili SalsaVeggie Salad BowlBottled WaterSteak BurritoChicken BurritoChips and GuacamoleChicken BowlChicken BowlChicken BurritoBarbacoa BurritoChicken BowlChipsCanned Soft DrinkChicken BowlChipsCanned Soft DrinkCarnitas Soft TacosChicken Crispy TacosChicken Salad BowlChicken BowlCanned Soft DrinkSteak BurritoBottled WaterChicken Salad BowlChicken BurritoChips and GuacamoleNantucket NectarChicken BurritoChips and Tomatillo-Green Chili SalsaBarbacoa Crispy TacosBottled WaterChicken BowlChicken Crispy TacosChicken BowlChicken BowlChipsChicken BowlChipsCanned Soft DrinkChicken BurritoChicken BurritoSide of ChipsSteak BowlSteak BowlBottled WaterSteak BowlCarnitas BowlSteak BurritoCarnitas Soft TacosCarnitas Soft TacosChicken BurritoChicken BowlChicken BurritoBarbacoa BurritoChicken BowlChicken BurritoChipsCanned Soft DrinkSteak Salad BowlVeggie BurritoSteak BurritoChips and GuacamoleSteak BowlSteak BowlBarbacoa Salad BowlChicken BowlChips and Tomatillo-Red Chili SalsaChicken BowlSide of ChipsBottled WaterSteak BurritoChicken SaladCanned SodaChicken BowlCanned Soft DrinkVeggie BurritoNantucket NectarChicken BurritoChips and GuacamoleChicken BurritoChicken Crispy TacosChicken BurritoSide of ChipsChicken BurritoBarbacoa BowlSteak BurritoSteak BurritoCanned Soft DrinkChicken Salad BowlChicken Salad BowlChicken BurritoChicken BowlChicken BowlCanned Soft DrinkCanned Soft DrinkCanned Soft DrinkChicken Burrito6 Pack Soft DrinkSteak BurritoBarbacoa BurritoChips and GuacamoleChicken BowlBarbacoa BowlChicken BowlChicken BowlVeggie BowlChips and Roasted Chili-Corn SalsaSteak BurritoChicken BurritoChicken BurritoChips and Tomatillo Green Chili SalsaBottled WaterVeggie BurritoChips and Fresh Tomato SalsaSteak Crispy TacosChips and Fresh Tomato SalsaSteak BowlChicken BowlChicken Salad BowlChicken Salad BowlVeggie BowlChips and GuacamoleChicken BurritoCanned Soft DrinkChicken BurritoChips and Fresh Tomato SalsaCanned Soft DrinkSteak BurritoBarbacoa BurritoCarnitas Burrito6 Pack Soft DrinkChicken BowlChicken BowlSide of ChipsChicken BurritoChips and GuacamoleChicken BowlChips and Tomatillo Red Chili SalsaChips and Tomatillo Red Chili SalsaChicken BurritoSteak BowlSteak BurritoCanned SodaChicken BurritoChips and GuacamoleCanned Soft DrinkChicken BowlSteak Crispy TacosChicken BowlCarnitas BurritoChicken Salad BowlBottled WaterChicken BowlChipsChicken BurritoChicken BurritoSteak BowlChips and Roasted Chili Corn SalsaChicken BurritoChicken BowlSteak Soft TacosChicken BurritoSteak BurritoChicken Soft TacosChicken BowlChicken BowlCanned Soft DrinkChicken BowlBottled WaterChipsChicken BurritoChicken BurritoChicken BowlChicken BurritoChicken BurritoChicken BowlChips and GuacamoleVeggie BurritoVeggie BurritoVeggie SaladChicken Crispy TacosSteak Soft TacosSide of ChipsChips and Fresh Tomato SalsaCanned SodaCanned SodaVeggie BurritoChips and Tomatillo Green Chili SalsaCarnitas BowlChicken BowlChips and Tomatillo Red Chili SalsaCanned Soft DrinkChicken BowlChipsSteak BowlChips and GuacamoleChicken BurritoChicken BowlChicken BurritoChips and GuacamoleCanned Soft DrinkSteak Salad BowlChicken BowlChipsCanned Soft DrinkChicken BowlCanned SodaBottled WaterSide of ChipsSteak BurritoSteak SaladSteak Crispy TacosChips and Fresh Tomato SalsaChicken BowlChips and Fresh Tomato SalsaChicken Salad BowlChicken BowlChicken BowlChicken BowlSide of ChipsBarbacoa BurritoChips and Tomatillo Green Chili SalsaChicken BowlChicken BowlChicken BurritoSteak BurritoChicken Soft TacosChicken BurritoChicken BurritoChicken BurritoChips and Tomatillo Green Chili SalsaBottled WaterCanned Soft DrinkCarnitas BowlChips and GuacamoleSteak BurritoChicken BurritoCarnitas BurritoSteak BurritoChips and GuacamoleSteak BurritoSide of ChipsChips and GuacamoleSteak BurritoChicken BowlChips and GuacamoleChipsChicken BurritoSteak BurritoChips and GuacamoleVeggie BurritoCanned Soft DrinkChicken BurritoChicken BowlBarbacoa Salad BowlBarbacoa BowlBarbacoa Soft TacosBarbacoa BowlChicken BowlChipsBottled WaterSteak BurritoChips and GuacamoleChips and GuacamoleSteak BurritoChicken BurritoChips and Tomatillo-Red Chili SalsaCanned Soft DrinkChips and Tomatillo Green Chili SalsaChicken BowlChips and Tomatillo Green Chili SalsaSteak BurritoSteak BurritoSteak BurritoChicken BurritoChipsSteak BurritoSteak Soft TacosNantucket NectarChicken BurritoChicken Soft TacosChips and Tomatillo-Green Chili SalsaChicken BurritoCanned SodaCanned SodaChicken BurritoChicken Salad BowlCanned Soft DrinkSteak BowlBottled WaterChicken BowlChipsBottled WaterChips and GuacamoleChicken BowlChicken BowlChipsBottled WaterChicken BurritoChicken BowlCanned SodaChicken Crispy TacosChipsBottled WaterChips and GuacamoleSteak Soft TacosChips and Fresh Tomato SalsaBottled Water6 Pack Soft DrinkVeggie BurritoChicken BurritoSteak BurritoBottled WaterChicken BowlSteak Crispy TacosChicken BowlChips and Fresh Tomato SalsaCanned Soft DrinkChicken Soft TacosChips and GuacamoleChicken BowlChicken Burrito6 Pack Soft DrinkChicken BurritoSteak BurritoVeggie BowlChicken BowlCarnitas BurritoCarnitas Soft TacosChicken Soft TacosSteak BurritoChicken Salad BowlChips and Tomatillo Green Chili SalsaSteak Soft TacosChips and Tomatillo-Green Chili SalsaSteak BurritoChips and Roasted Chili-Corn SalsaChicken BurritoChips and GuacamoleChicken Crispy TacosBarbacoa Burrito6 Pack Soft DrinkChicken BurritoChicken Soft TacosChicken BurritoChicken Soft TacosChicken Crispy TacosChicken BowlChicken Salad BowlChipsCanned Soft DrinkSteak BurritoChicken BurritoChipsBottled WaterChicken BowlChipsSteak BurritoChips and Tomatillo-Red Chili SalsaChicken BowlChicken BowlChipsChicken BowlChicken BowlChicken Salad BowlChips and Tomatillo-Green Chili SalsaChicken Soft TacosVeggie BowlChips and Tomatillo-Red Chili SalsaSteak BurritoChips and Fresh Tomato SalsaChicken BowlChicken BowlChips and GuacamoleSteak BowlBottled WaterSteak BurritoIzzeSteak BurritoChips and GuacamoleChicken BowlChicken BowlChicken BurritoChicken BowlCanned Soft DrinkVeggie BowlSteak BurritoChips and GuacamoleChicken BowlChicken Salad BowlSteak BurritoCanned SodaChicken BowlChicken BowlSide of ChipsChicken Salad BowlCarnitas Soft TacosChicken BurritoChicken BowlChips and GuacamoleChicken Burrito6 Pack Soft DrinkSteak Crispy TacosCarnitas Soft TacosBarbacoa BurritoChicken BurritoChips and GuacamoleCanned Soft DrinkChicken BowlSteak BowlChicken BurritoSteak BowlSteak BurritoSteak Soft TacosChicken Salad BowlSteak BowlChicken BowlChicken BowlSteak Soft TacosCarnitas BowlChicken Salad BowlSteak BowlChicken BurritoCanned SodaCanned SodaChicken BowlCanned SodaSide of ChipsChicken BowlCanned Soft DrinkChicken BowlChipsBottled WaterChicken BowlSide of ChipsCanned Soft DrinkChicken BowlChips and Tomatillo Red Chili SalsaChicken SaladChips and GuacamoleChicken BurritoChicken SaladChicken BurritoVeggie BowlChipsBottled WaterSteak BowlSteak BurritoCanned SodaChicken BowlChicken BowlChicken BowlCanned Soft DrinkVeggie BowlChips and GuacamoleChips and GuacamoleCanned Soft DrinkCarnitas Salad BowlCarnitas SaladSteak BurritoChicken BurritoChips and GuacamoleSteak BowlVeggie BurritoChips and GuacamoleCarnitas BurritoChips and GuacamoleChips and GuacamoleSteak BurritoChicken BurritoChips and GuacamoleChicken BurritoChicken BurritoSteak Burrito6 Pack Soft DrinkChicken BurritoChips and GuacamoleChicken BurritoChips and Fresh Tomato SalsaBottled WaterChicken BurritoChicken BowlChicken BurritoChips and GuacamoleVeggie BurritoChicken BowlSteak Crispy TacosChicken BurritoChips and Roasted Chili Corn SalsaChicken BowlChips and GuacamoleBottled WaterCanned Soft DrinkChips and Fresh Tomato SalsaBarbacoa BurritoSteak BowlChips and Tomatillo-Green Chili Salsa6 Pack Soft DrinkChicken Salad BowlChips and GuacamoleCarnitas BowlCanned SodaChicken BurritoBarbacoa BurritoSteak Soft TacosChicken Salad BowlChicken Salad BowlSteak BurritoChicken Salad BowlChicken BowlCanned Soft DrinkCarnitas BurritoChips and GuacamoleSteak Burrito6 Pack Soft DrinkSteak BurritoSteak BowlBarbacoa BurritoChips and Tomatillo-Green Chili SalsaChicken BowlChicken BowlBarbacoa BurritoCarnitas Soft TacosCanned Soft DrinkChicken Crispy TacosChips and Tomatillo Green Chili SalsaSteak BurritoChipsVeggie BowlVeggie BurritoBarbacoa BowlChicken BurritoChicken BurritoChips and GuacamoleChips and Fresh Tomato SalsaBarbacoa BurritoChicken BurritoChicken BurritoChicken BowlChips and GuacamoleChicken BurritoChicken Soft TacosSteak BurritoChicken Burrito6 Pack Soft DrinkChips and Fresh Tomato SalsaChicken BowlChicken BowlChipsSteak BurritoSteak BurritoChicken BowlChicken BurritoNantucket NectarSide of ChipsVeggie BurritoChicken BowlChips and GuacamoleChicken BowlChips and GuacamoleChicken BurritoChicken BowlChicken BurritoChipsSteak BowlChips and GuacamoleChicken BurritoSteak BurritoChicken Soft TacosSteak BurritoBottled WaterChicken BowlChipsSteak BowlCanned SodaChips and GuacamoleChicken BowlBottled WaterSteak Soft TacosChips and Tomatillo-Green Chili SalsaSteak BurritoBottled WaterChicken Bowl6 Pack Soft DrinkChips and GuacamoleVeggie BowlChicken BurritoChips and GuacamoleCanned Soft DrinkChicken BurritoCarnitas BurritoChips and GuacamoleSteak BurritoChicken Bowl6 Pack Soft DrinkSide of ChipsChicken Soft TacosVeggie Soft TacosCarnitas Crispy TacosChicken Crispy TacosChicken BowlChicken BowlChicken BowlChicken BowlChicken BurritoCanned SodaSide of ChipsCanned Soft DrinkSteak Soft TacosChips and Tomatillo Green Chili SalsaBarbacoa BurritoChicken BurritoChicken BurritoChips and Roasted Chili-Corn SalsaChicken BurritoChips and Fresh Tomato SalsaChicken BowlSteak BurritoSteak Soft TacosSide of ChipsVeggie BurritoChicken BowlChicken BurritoChicken BowlChips and GuacamoleChips and GuacamoleChicken BurritoChicken BurritoChips and GuacamoleChicken BowlChipsBottled WaterBottled WaterSteak BowlCanned SodaChicken BowlChips and GuacamoleChicken BowlChicken BowlChicken BowlChipsChicken BowlSide of ChipsBottled WaterCanned SodaChicken BowlChipsBottled WaterCarnitas Soft TacosChicken BurritoChips and GuacamoleChicken BowlChipsCanned Soft DrinkSteak Crispy TacosChips and Fresh Tomato SalsaChicken BurritoChips and GuacamoleSteak Crispy TacosChips and Fresh Tomato SalsaChips and GuacamoleSteak BurritoVeggie BurritoChicken BurritoChicken BurritoChicken BurritoSteak BurritoChicken BurritoChips and GuacamoleChicken BurritoCanned Soft DrinkSteak BurritoChicken BurritoChips and GuacamoleChips and Fresh Tomato SalsaChicken BurritoChicken BowlChicken BurritoSteak BurritoSteak BowlSteak BurritoCanned Soft DrinkChicken Salad BowlChips and Tomatillo Green Chili SalsaChicken BowlChicken BowlChips and Fresh Tomato SalsaChicken BowlChipsBottled WaterChicken SaladChips and Fresh Tomato SalsaSteak BowlChipsCanned Soft DrinkChicken BurritoSteak BurritoChicken SaladChicken BurritoChicken BurritoChips and Tomatillo Green Chili SalsaCanned Soft DrinkSteak Crispy TacosChips and Tomatillo Green Chili SalsaChicken BowlChicken Salad BowlChicken BowlChicken BowlSteak BurritoBottled WaterBarbacoa BurritoSteak BurritoChips and GuacamoleChicken BowlChips and GuacamoleChips and Tomatillo-Green Chili SalsaCanned SodaSteak BurritoChicken BowlChicken BowlChicken Salad BowlChicken BowlSteak Crispy TacosChips and GuacamoleCanned Soft DrinkChicken Soft TacosVeggie BurritoNantucket NectarChicken BurritoSteak BowlChips and GuacamoleCanned Soft DrinkChicken BowlChipsChips and GuacamoleCanned Soft DrinkSteak BowlChips and GuacamoleChicken Soft TacosChipsSteak BowlSteak BurritoCanned Soft DrinkChicken Salad BowlSteak Salad BowlChicken BurritoSteak Soft TacosBarbacoa BurritoChips and Tomatillo Red Chili SalsaCarnitas BurritoChips and GuacamoleCanned Soft DrinkCarnitas BowlChicken BowlBarbacoa BowlBottled WaterChicken BowlChips and GuacamoleSteak BowlCanned SodaSteak Soft TacosChips and Fresh Tomato SalsaSteak BowlSide of ChipsBarbacoa BowlSide of ChipsChicken BowlChips and GuacamoleChicken BowlChicken BurritoChips and GuacamoleChicken BowlChicken Salad BowlChips and Fresh Tomato SalsaBottled WaterChicken BurritoSteak BurritoBottled WaterSide of ChipsChicken BowlChicken BurritoChips and Fresh Tomato SalsaCanned Soft DrinkChicken BowlChips and GuacamoleChicken BowlNantucket NectarChicken Salad BowlVeggie BowlChipsSteak BowlVeggie BurritoVeggie SaladChicken Salad BowlBottled WaterChicken BowlChips and Tomatillo-Red Chili SalsaSteak BurritoChips and Fresh Tomato SalsaSteak BurritoChips and GuacamoleChicken BurritoSteak BurritoCarnitas Soft TacosChicken BowlChips and GuacamoleCanned Soft DrinkChicken BowlChips and GuacamoleSteak BurritoChips and Fresh Tomato SalsaCanned Soft DrinkChips and GuacamoleChicken BowlCanned Soft DrinkBottled WaterSteak BurritoVeggie Salad BowlChicken BowlChicken BowlChicken BowlSteak BurritoChicken BurritoChips and GuacamoleChicken Crispy TacosSteak BurritoChicken Soft TacosChicken Soft TacosChips and GuacamoleChicken BowlCanned Soft DrinkChipsChicken BowlChicken BurritoChipsChicken BowlCanned Soft DrinkChips and Tomatillo Green Chili SalsaSteak Soft TacosChips and Tomatillo Red Chili SalsaChips and GuacamoleChicken BowlVeggie BurritoBarbacoa BowlCarnitas Soft TacosBottled WaterSteak BurritoCanned Soft DrinkBarbacoa BowlCarnitas BurritoCanned Soft DrinkCanned Soft DrinkSteak BowlChips and GuacamoleChicken BurritoCarnitas Soft TacosChicken BurritoChipsCanned Soft DrinkChicken BowlBottled WaterVeggie BowlChips and GuacamoleChips and GuacamoleChips and Tomatillo Red Chili SalsaChicken BowlChipsCanned Soft DrinkBottled WaterChicken BurritoChicken Soft TacosChips and Fresh Tomato SalsaChicken BurritoCanned Soft DrinkChipsChicken BowlCarnitas Bowl6 Pack Soft DrinkCanned Soft DrinkChicken BurritoChipsChicken Bowl6 Pack Soft DrinkChicken BurritoBottled WaterVeggie BowlChips and GuacamoleChicken BurritoChips and GuacamoleSteak Soft TacosBarbacoa Soft TacosCanned Soft DrinkCanned Soft DrinkChicken BowlBottled WaterChicken BowlCanned Soft DrinkBottled WaterSteak BowlChipsChicken BowlChips and GuacamoleChicken BowlChips and GuacamoleChicken BowlChips and GuacamoleSteak BurritoChips and GuacamoleCanned Soft DrinkVeggie Salad BowlChips and GuacamoleChicken BowlChips and GuacamoleChicken Salad BowlChipsChicken Salad BowlChips and GuacamoleChicken BowlSteak BowlBottled WaterChicken BurritoChips and GuacamoleChicken BowlChipsBottled WaterChicken BowlChips and GuacamoleChicken BurritoSteak BowlChicken BowlChicken BurritoChicken Salad BowlVeggie BowlBottled WaterChicken BowlChipsSteak BowlChipsSteak Soft TacosChips and Fresh Tomato SalsaSteak BowlCanned Soft DrinkChips and GuacamoleChicken BowlChicken BowlChips and GuacamoleChicken Salad BowlCarnitas Salad BowlCanned Soft DrinkSteak Salad BowlChips and GuacamoleChicken BowlChipsBottled WaterSteak BurritoChicken Soft TacosSteak BurritoCarnitas BurritoChips and GuacamoleCanned Soft DrinkChicken BurritoSteak BowlChips and Tomatillo Green Chili SalsaChicken BowlChicken BurritoChipsChicken BurritoChicken BowlChicken BowlVeggie Salad BowlSteak BurritoChicken BurritoChipsVeggie BowlChipsSteak BowlSteak BurritoChicken BurritoSteak BurritoBarbacoa Soft TacosChicken BurritoChicken BowlChips and GuacamoleChicken BurritoCanned Soft DrinkChips and GuacamoleVeggie BurritoCanned Soft DrinkChicken BurritoChicken BurritoVeggie BowlChicken BowlCanned Soft DrinkCanned Soft DrinkCanned Soft DrinkSteak Soft TacosBarbacoa BurritoChipsChicken Soft TacosChips and GuacamoleChicken BowlChips and GuacamoleChicken BowlSteak BowlChicken BurritoSteak Soft TacosChips and GuacamoleSteak BurritoChips and GuacamoleCanned Soft DrinkChips and GuacamoleSteak BowlSteak BowlChicken BowlChipsSteak BowlSteak BowlChipsSteak BurritoChicken Soft TacosChips and Tomatillo Red Chili SalsaSteak Salad BowlChips and GuacamoleVeggie BowlChips and GuacamoleSteak BurritoChips and Fresh Tomato SalsaVeggie BurritoChips and Tomatillo Red Chili SalsaChicken BurritoChicken Crispy TacosChicken BowlChips and Fresh Tomato SalsaSteak BurritoCarnitas Soft TacosSteak BurritoChips and Tomatillo Green Chili SalsaChicken BowlChipsSteak BurritoChips and GuacamoleChicken Salad BowlChicken BurritoChicken Salad BowlVeggie BowlChicken BowlChipsCanned Soft DrinkChicken BowlCanned Soft DrinkChicken BowlChips and GuacamoleCanned Soft DrinkChicken BowlChicken Crispy TacosBarbacoa BurritoCanned Soft DrinkChicken Salad BowlChicken BurritoChicken BowlChicken Salad BowlChicken BurritoSteak Soft TacosBarbacoa BurritoCanned Soft DrinkChips and GuacamoleBarbacoa Burrito6 Pack Soft DrinkChips and GuacamoleChicken BurritoChicken Bowl6 Pack Soft DrinkSteak BowlChicken BurritoSteak BowlChicken BowlChipsChicken BowlChips and GuacamoleChicken Crispy TacosChips and GuacamoleChicken BurritoCarnitas BowlChips and GuacamoleCanned Soft DrinkCanned Soft DrinkChicken BowlChicken BurritoBarbacoa BowlChipsSteak BurritoChips and GuacamoleSteak BurritoCanned Soft DrinkCarnitas BurritoSteak BowlChicken Salad BowlChipsBarbacoa Salad BowlSteak Salad BowlChicken BowlCanned Soft DrinkSteak BurritoChips and GuacamoleChicken BowlCanned Soft DrinkChicken BowlCanned Soft DrinkChips and Tomatillo Green Chili SalsaChicken BowlChips and GuacamoleChicken BurritoBottled WaterChips and GuacamoleChips and GuacamoleSteak BurritoChicken BowlChips and Tomatillo Red Chili SalsaCanned Soft DrinkChicken BowlChips and Tomatillo Red Chili SalsaChicken BowlChicken BurritoChicken BurritoChicken BurritoChipsSteak BurritoSteak Salad BowlChips and GuacamoleCarnitas BurritoCanned Soft DrinkChicken BowlChips and GuacamoleChips and Fresh Tomato SalsaChipsSteak BowlCarnitas BowlChipsCanned Soft DrinkSteak BurritoChips and GuacamoleChicken BowlSteak BurritoChicken BowlChicken BowlCarnitas BurritoChicken Soft TacosChicken Salad BowlChips and GuacamoleBarbacoa BowlBottled WaterChicken BowlChicken BowlSteak BurritoSteak BurritoChicken BurritoChips and GuacamoleSteak BowlCarnitas Crispy TacosChips and GuacamoleVeggie BowlChicken Crispy TacosChicken BurritoChipsBottled WaterChicken BurritoChips and GuacamoleSteak BowlChicken BurritoBottled WaterCanned Soft DrinkCanned Soft DrinkCanned Soft DrinkChicken BowlChips and Tomatillo Red Chili SalsaChicken Salad BowlVeggie BowlBottled WaterSteak BowlVeggie BurritoChipsSteak BurritoChicken Soft TacosCarnitas BowlChips and Tomatillo Green Chili SalsaBottled WaterChicken BurritoBottled WaterCanned Soft DrinkChicken BowlCarnitas BurritoChicken BowlChicken BowlBarbacoa BowlChicken BowlCarnitas BurritoChicken BowlChips and GuacamoleCanned Soft DrinkCanned Soft DrinkChicken BurritoChips and Tomatillo Green Chili SalsaCanned Soft DrinkChicken BowlCanned Soft DrinkChipsChicken BowlCanned Soft DrinkCarnitas BowlCanned Soft DrinkChicken Soft TacosChips and Fresh Tomato SalsaCarnitas BowlChipsChicken BowlBottled WaterSteak BurritoChipsBarbacoa BowlChicken BowlChips and GuacamoleCanned Soft DrinkChicken Soft TacosChips and GuacamoleCanned Soft DrinkBottled WaterSteak BowlVeggie BurritoChicken Salad BowlChicken Burrito6 Pack Soft DrinkSteak Crispy TacosChicken BurritoChipsCanned Soft Drink6 Pack Soft DrinkChicken BurritoChips and GuacamoleChicken BurritoChips and GuacamoleChicken BowlChicken BurritoChips and Guacamole6 Pack Soft DrinkSteak BurritoChicken BowlCanned Soft DrinkChips and GuacamoleChicken BowlVeggie Salad BowlBottled WaterChicken BurritoBottled WaterCanned Soft DrinkSteak BurritoSteak Salad BowlChips and GuacamoleSteak Soft TacosChicken Soft TacosChips and GuacamoleCanned Soft DrinkChicken BowlSteak Crispy TacosChicken BowlChicken BurritoCarnitas Soft TacosChicken BurritoChicken BurritoCanned Soft DrinkChicken Salad BowlCarnitas BowlChips and GuacamoleChicken BowlCanned Soft DrinkChicken BurritoChips and GuacamoleBottled WaterChicken BurritoBottled WaterCanned Soft DrinkSteak Salad BowlVeggie Salad BowlChicken BowlChips and GuacamoleChicken BowlCanned Soft DrinkCarnitas BurritoChips and GuacamoleChicken Salad BowlChicken BowlBottled WaterChicken BowlChipsCanned Soft DrinkChicken BowlChicken BowlChips and GuacamoleChicken BowlChicken BowlChicken BowlBarbacoa BurritoCarnitas BowlBarbacoa BowlChicken BowlChips and GuacamoleCanned Soft DrinkBottled WaterChicken BowlChips and GuacamoleCanned Soft DrinkBarbacoa BurritoBarbacoa BurritoChicken BowlChips and GuacamoleCanned Soft DrinkSteak BurritoVeggie BurritoCanned Soft DrinkSteak BurritoVeggie BurritoCarnitas BowlChipsBottled WaterChicken Soft TacosChips and GuacamoleSteak BurritoSteak BurritoChicken Salad BowlChicken Salad BowlChicken Salad Bowl'] to numeric",
          "traceback": [
            "\u001b[0;31m---------------------------------------------------------------------------\u001b[0m",
            "\u001b[0;31mTypeError\u001b[0m                                 Traceback (most recent call last)",
            "\u001b[0;32m<ipython-input-20-97b06e1100fc>\u001b[0m in \u001b[0;36m<cell line: 0>\u001b[0;34m()\u001b[0m\n\u001b[1;32m      3\u001b[0m \u001b[0mchipo\u001b[0m\u001b[0;34m[\u001b[0m\u001b[0;34m'revenue'\u001b[0m\u001b[0;34m]\u001b[0m \u001b[0;34m=\u001b[0m \u001b[0mchipo\u001b[0m\u001b[0;34m[\u001b[0m\u001b[0;34m'quantity'\u001b[0m\u001b[0;34m]\u001b[0m \u001b[0;34m*\u001b[0m \u001b[0mchipo\u001b[0m\u001b[0;34m[\u001b[0m\u001b[0;34m'item_price'\u001b[0m\u001b[0;34m]\u001b[0m\u001b[0;34m\u001b[0m\u001b[0;34m\u001b[0m\u001b[0m\n\u001b[1;32m      4\u001b[0m \u001b[0morder_grouped\u001b[0m \u001b[0;34m=\u001b[0m \u001b[0mchipo\u001b[0m\u001b[0;34m.\u001b[0m\u001b[0mgroupby\u001b[0m\u001b[0;34m(\u001b[0m\u001b[0mby\u001b[0m\u001b[0;34m=\u001b[0m\u001b[0;34m[\u001b[0m\u001b[0;34m'order_id'\u001b[0m\u001b[0;34m]\u001b[0m\u001b[0;34m)\u001b[0m\u001b[0;34m.\u001b[0m\u001b[0msum\u001b[0m\u001b[0;34m(\u001b[0m\u001b[0;34m)\u001b[0m\u001b[0;34m\u001b[0m\u001b[0;34m\u001b[0m\u001b[0m\n\u001b[0;32m----> 5\u001b[0;31m \u001b[0morder_grouped\u001b[0m\u001b[0;34m.\u001b[0m\u001b[0mmean\u001b[0m\u001b[0;34m(\u001b[0m\u001b[0;34m)\u001b[0m\u001b[0;34m[\u001b[0m\u001b[0;34m'revenue'\u001b[0m\u001b[0;34m]\u001b[0m\u001b[0;34m\u001b[0m\u001b[0;34m\u001b[0m\u001b[0m\n\u001b[0m",
            "\u001b[0;32m/usr/local/lib/python3.11/dist-packages/pandas/core/frame.py\u001b[0m in \u001b[0;36mmean\u001b[0;34m(self, axis, skipna, numeric_only, **kwargs)\u001b[0m\n\u001b[1;32m  11691\u001b[0m         \u001b[0;34m**\u001b[0m\u001b[0mkwargs\u001b[0m\u001b[0;34m,\u001b[0m\u001b[0;34m\u001b[0m\u001b[0;34m\u001b[0m\u001b[0m\n\u001b[1;32m  11692\u001b[0m     ):\n\u001b[0;32m> 11693\u001b[0;31m         \u001b[0mresult\u001b[0m \u001b[0;34m=\u001b[0m \u001b[0msuper\u001b[0m\u001b[0;34m(\u001b[0m\u001b[0;34m)\u001b[0m\u001b[0;34m.\u001b[0m\u001b[0mmean\u001b[0m\u001b[0;34m(\u001b[0m\u001b[0maxis\u001b[0m\u001b[0;34m,\u001b[0m \u001b[0mskipna\u001b[0m\u001b[0;34m,\u001b[0m \u001b[0mnumeric_only\u001b[0m\u001b[0;34m,\u001b[0m \u001b[0;34m**\u001b[0m\u001b[0mkwargs\u001b[0m\u001b[0;34m)\u001b[0m\u001b[0;34m\u001b[0m\u001b[0;34m\u001b[0m\u001b[0m\n\u001b[0m\u001b[1;32m  11694\u001b[0m         \u001b[0;32mif\u001b[0m \u001b[0misinstance\u001b[0m\u001b[0;34m(\u001b[0m\u001b[0mresult\u001b[0m\u001b[0;34m,\u001b[0m \u001b[0mSeries\u001b[0m\u001b[0;34m)\u001b[0m\u001b[0;34m:\u001b[0m\u001b[0;34m\u001b[0m\u001b[0;34m\u001b[0m\u001b[0m\n\u001b[1;32m  11695\u001b[0m             \u001b[0mresult\u001b[0m \u001b[0;34m=\u001b[0m \u001b[0mresult\u001b[0m\u001b[0;34m.\u001b[0m\u001b[0m__finalize__\u001b[0m\u001b[0;34m(\u001b[0m\u001b[0mself\u001b[0m\u001b[0;34m,\u001b[0m \u001b[0mmethod\u001b[0m\u001b[0;34m=\u001b[0m\u001b[0;34m\"mean\"\u001b[0m\u001b[0;34m)\u001b[0m\u001b[0;34m\u001b[0m\u001b[0;34m\u001b[0m\u001b[0m\n",
            "\u001b[0;32m/usr/local/lib/python3.11/dist-packages/pandas/core/generic.py\u001b[0m in \u001b[0;36mmean\u001b[0;34m(self, axis, skipna, numeric_only, **kwargs)\u001b[0m\n\u001b[1;32m  12418\u001b[0m         \u001b[0;34m**\u001b[0m\u001b[0mkwargs\u001b[0m\u001b[0;34m,\u001b[0m\u001b[0;34m\u001b[0m\u001b[0;34m\u001b[0m\u001b[0m\n\u001b[1;32m  12419\u001b[0m     ) -> Series | float:\n\u001b[0;32m> 12420\u001b[0;31m         return self._stat_function(\n\u001b[0m\u001b[1;32m  12421\u001b[0m             \u001b[0;34m\"mean\"\u001b[0m\u001b[0;34m,\u001b[0m \u001b[0mnanops\u001b[0m\u001b[0;34m.\u001b[0m\u001b[0mnanmean\u001b[0m\u001b[0;34m,\u001b[0m \u001b[0maxis\u001b[0m\u001b[0;34m,\u001b[0m \u001b[0mskipna\u001b[0m\u001b[0;34m,\u001b[0m \u001b[0mnumeric_only\u001b[0m\u001b[0;34m,\u001b[0m \u001b[0;34m**\u001b[0m\u001b[0mkwargs\u001b[0m\u001b[0;34m\u001b[0m\u001b[0;34m\u001b[0m\u001b[0m\n\u001b[1;32m  12422\u001b[0m         )\n",
            "\u001b[0;32m/usr/local/lib/python3.11/dist-packages/pandas/core/generic.py\u001b[0m in \u001b[0;36m_stat_function\u001b[0;34m(self, name, func, axis, skipna, numeric_only, **kwargs)\u001b[0m\n\u001b[1;32m  12375\u001b[0m         \u001b[0mvalidate_bool_kwarg\u001b[0m\u001b[0;34m(\u001b[0m\u001b[0mskipna\u001b[0m\u001b[0;34m,\u001b[0m \u001b[0;34m\"skipna\"\u001b[0m\u001b[0;34m,\u001b[0m \u001b[0mnone_allowed\u001b[0m\u001b[0;34m=\u001b[0m\u001b[0;32mFalse\u001b[0m\u001b[0;34m)\u001b[0m\u001b[0;34m\u001b[0m\u001b[0;34m\u001b[0m\u001b[0m\n\u001b[1;32m  12376\u001b[0m \u001b[0;34m\u001b[0m\u001b[0m\n\u001b[0;32m> 12377\u001b[0;31m         return self._reduce(\n\u001b[0m\u001b[1;32m  12378\u001b[0m             \u001b[0mfunc\u001b[0m\u001b[0;34m,\u001b[0m \u001b[0mname\u001b[0m\u001b[0;34m=\u001b[0m\u001b[0mname\u001b[0m\u001b[0;34m,\u001b[0m \u001b[0maxis\u001b[0m\u001b[0;34m=\u001b[0m\u001b[0maxis\u001b[0m\u001b[0;34m,\u001b[0m \u001b[0mskipna\u001b[0m\u001b[0;34m=\u001b[0m\u001b[0mskipna\u001b[0m\u001b[0;34m,\u001b[0m \u001b[0mnumeric_only\u001b[0m\u001b[0;34m=\u001b[0m\u001b[0mnumeric_only\u001b[0m\u001b[0;34m\u001b[0m\u001b[0;34m\u001b[0m\u001b[0m\n\u001b[1;32m  12379\u001b[0m         )\n",
            "\u001b[0;32m/usr/local/lib/python3.11/dist-packages/pandas/core/frame.py\u001b[0m in \u001b[0;36m_reduce\u001b[0;34m(self, op, name, axis, skipna, numeric_only, filter_type, **kwds)\u001b[0m\n\u001b[1;32m  11560\u001b[0m         \u001b[0;31m# After possibly _get_data and transposing, we are now in the\u001b[0m\u001b[0;34m\u001b[0m\u001b[0;34m\u001b[0m\u001b[0m\n\u001b[1;32m  11561\u001b[0m         \u001b[0;31m#  simple case where we can use BlockManager.reduce\u001b[0m\u001b[0;34m\u001b[0m\u001b[0;34m\u001b[0m\u001b[0m\n\u001b[0;32m> 11562\u001b[0;31m         \u001b[0mres\u001b[0m \u001b[0;34m=\u001b[0m \u001b[0mdf\u001b[0m\u001b[0;34m.\u001b[0m\u001b[0m_mgr\u001b[0m\u001b[0;34m.\u001b[0m\u001b[0mreduce\u001b[0m\u001b[0;34m(\u001b[0m\u001b[0mblk_func\u001b[0m\u001b[0;34m)\u001b[0m\u001b[0;34m\u001b[0m\u001b[0;34m\u001b[0m\u001b[0m\n\u001b[0m\u001b[1;32m  11563\u001b[0m         \u001b[0mout\u001b[0m \u001b[0;34m=\u001b[0m \u001b[0mdf\u001b[0m\u001b[0;34m.\u001b[0m\u001b[0m_constructor_from_mgr\u001b[0m\u001b[0;34m(\u001b[0m\u001b[0mres\u001b[0m\u001b[0;34m,\u001b[0m \u001b[0maxes\u001b[0m\u001b[0;34m=\u001b[0m\u001b[0mres\u001b[0m\u001b[0;34m.\u001b[0m\u001b[0maxes\u001b[0m\u001b[0;34m)\u001b[0m\u001b[0;34m.\u001b[0m\u001b[0miloc\u001b[0m\u001b[0;34m[\u001b[0m\u001b[0;36m0\u001b[0m\u001b[0;34m]\u001b[0m\u001b[0;34m\u001b[0m\u001b[0;34m\u001b[0m\u001b[0m\n\u001b[1;32m  11564\u001b[0m         \u001b[0;32mif\u001b[0m \u001b[0mout_dtype\u001b[0m \u001b[0;32mis\u001b[0m \u001b[0;32mnot\u001b[0m \u001b[0;32mNone\u001b[0m \u001b[0;32mand\u001b[0m \u001b[0mout\u001b[0m\u001b[0;34m.\u001b[0m\u001b[0mdtype\u001b[0m \u001b[0;34m!=\u001b[0m \u001b[0;34m\"boolean\"\u001b[0m\u001b[0;34m:\u001b[0m\u001b[0;34m\u001b[0m\u001b[0;34m\u001b[0m\u001b[0m\n",
            "\u001b[0;32m/usr/local/lib/python3.11/dist-packages/pandas/core/internals/managers.py\u001b[0m in \u001b[0;36mreduce\u001b[0;34m(self, func)\u001b[0m\n\u001b[1;32m   1498\u001b[0m         \u001b[0mres_blocks\u001b[0m\u001b[0;34m:\u001b[0m \u001b[0mlist\u001b[0m\u001b[0;34m[\u001b[0m\u001b[0mBlock\u001b[0m\u001b[0;34m]\u001b[0m \u001b[0;34m=\u001b[0m \u001b[0;34m[\u001b[0m\u001b[0;34m]\u001b[0m\u001b[0;34m\u001b[0m\u001b[0;34m\u001b[0m\u001b[0m\n\u001b[1;32m   1499\u001b[0m         \u001b[0;32mfor\u001b[0m \u001b[0mblk\u001b[0m \u001b[0;32min\u001b[0m \u001b[0mself\u001b[0m\u001b[0;34m.\u001b[0m\u001b[0mblocks\u001b[0m\u001b[0;34m:\u001b[0m\u001b[0;34m\u001b[0m\u001b[0;34m\u001b[0m\u001b[0m\n\u001b[0;32m-> 1500\u001b[0;31m             \u001b[0mnbs\u001b[0m \u001b[0;34m=\u001b[0m \u001b[0mblk\u001b[0m\u001b[0;34m.\u001b[0m\u001b[0mreduce\u001b[0m\u001b[0;34m(\u001b[0m\u001b[0mfunc\u001b[0m\u001b[0;34m)\u001b[0m\u001b[0;34m\u001b[0m\u001b[0;34m\u001b[0m\u001b[0m\n\u001b[0m\u001b[1;32m   1501\u001b[0m             \u001b[0mres_blocks\u001b[0m\u001b[0;34m.\u001b[0m\u001b[0mextend\u001b[0m\u001b[0;34m(\u001b[0m\u001b[0mnbs\u001b[0m\u001b[0;34m)\u001b[0m\u001b[0;34m\u001b[0m\u001b[0;34m\u001b[0m\u001b[0m\n\u001b[1;32m   1502\u001b[0m \u001b[0;34m\u001b[0m\u001b[0m\n",
            "\u001b[0;32m/usr/local/lib/python3.11/dist-packages/pandas/core/internals/blocks.py\u001b[0m in \u001b[0;36mreduce\u001b[0;34m(self, func)\u001b[0m\n\u001b[1;32m    402\u001b[0m         \u001b[0;32massert\u001b[0m \u001b[0mself\u001b[0m\u001b[0;34m.\u001b[0m\u001b[0mndim\u001b[0m \u001b[0;34m==\u001b[0m \u001b[0;36m2\u001b[0m\u001b[0;34m\u001b[0m\u001b[0;34m\u001b[0m\u001b[0m\n\u001b[1;32m    403\u001b[0m \u001b[0;34m\u001b[0m\u001b[0m\n\u001b[0;32m--> 404\u001b[0;31m         \u001b[0mresult\u001b[0m \u001b[0;34m=\u001b[0m \u001b[0mfunc\u001b[0m\u001b[0;34m(\u001b[0m\u001b[0mself\u001b[0m\u001b[0;34m.\u001b[0m\u001b[0mvalues\u001b[0m\u001b[0;34m)\u001b[0m\u001b[0;34m\u001b[0m\u001b[0;34m\u001b[0m\u001b[0m\n\u001b[0m\u001b[1;32m    405\u001b[0m \u001b[0;34m\u001b[0m\u001b[0m\n\u001b[1;32m    406\u001b[0m         \u001b[0;32mif\u001b[0m \u001b[0mself\u001b[0m\u001b[0;34m.\u001b[0m\u001b[0mvalues\u001b[0m\u001b[0;34m.\u001b[0m\u001b[0mndim\u001b[0m \u001b[0;34m==\u001b[0m \u001b[0;36m1\u001b[0m\u001b[0;34m:\u001b[0m\u001b[0;34m\u001b[0m\u001b[0;34m\u001b[0m\u001b[0m\n",
            "\u001b[0;32m/usr/local/lib/python3.11/dist-packages/pandas/core/frame.py\u001b[0m in \u001b[0;36mblk_func\u001b[0;34m(values, axis)\u001b[0m\n\u001b[1;32m  11479\u001b[0m                     \u001b[0;32mreturn\u001b[0m \u001b[0mnp\u001b[0m\u001b[0;34m.\u001b[0m\u001b[0marray\u001b[0m\u001b[0;34m(\u001b[0m\u001b[0;34m[\u001b[0m\u001b[0mresult\u001b[0m\u001b[0;34m]\u001b[0m\u001b[0;34m)\u001b[0m\u001b[0;34m\u001b[0m\u001b[0;34m\u001b[0m\u001b[0m\n\u001b[1;32m  11480\u001b[0m             \u001b[0;32melse\u001b[0m\u001b[0;34m:\u001b[0m\u001b[0;34m\u001b[0m\u001b[0;34m\u001b[0m\u001b[0m\n\u001b[0;32m> 11481\u001b[0;31m                 \u001b[0;32mreturn\u001b[0m \u001b[0mop\u001b[0m\u001b[0;34m(\u001b[0m\u001b[0mvalues\u001b[0m\u001b[0;34m,\u001b[0m \u001b[0maxis\u001b[0m\u001b[0;34m=\u001b[0m\u001b[0maxis\u001b[0m\u001b[0;34m,\u001b[0m \u001b[0mskipna\u001b[0m\u001b[0;34m=\u001b[0m\u001b[0mskipna\u001b[0m\u001b[0;34m,\u001b[0m \u001b[0;34m**\u001b[0m\u001b[0mkwds\u001b[0m\u001b[0;34m)\u001b[0m\u001b[0;34m\u001b[0m\u001b[0;34m\u001b[0m\u001b[0m\n\u001b[0m\u001b[1;32m  11482\u001b[0m \u001b[0;34m\u001b[0m\u001b[0m\n\u001b[1;32m  11483\u001b[0m         \u001b[0;32mdef\u001b[0m \u001b[0m_get_data\u001b[0m\u001b[0;34m(\u001b[0m\u001b[0;34m)\u001b[0m \u001b[0;34m->\u001b[0m \u001b[0mDataFrame\u001b[0m\u001b[0;34m:\u001b[0m\u001b[0;34m\u001b[0m\u001b[0;34m\u001b[0m\u001b[0m\n",
            "\u001b[0;32m/usr/local/lib/python3.11/dist-packages/pandas/core/nanops.py\u001b[0m in \u001b[0;36mf\u001b[0;34m(values, axis, skipna, **kwds)\u001b[0m\n\u001b[1;32m    145\u001b[0m                     \u001b[0mresult\u001b[0m \u001b[0;34m=\u001b[0m \u001b[0malt\u001b[0m\u001b[0;34m(\u001b[0m\u001b[0mvalues\u001b[0m\u001b[0;34m,\u001b[0m \u001b[0maxis\u001b[0m\u001b[0;34m=\u001b[0m\u001b[0maxis\u001b[0m\u001b[0;34m,\u001b[0m \u001b[0mskipna\u001b[0m\u001b[0;34m=\u001b[0m\u001b[0mskipna\u001b[0m\u001b[0;34m,\u001b[0m \u001b[0;34m**\u001b[0m\u001b[0mkwds\u001b[0m\u001b[0;34m)\u001b[0m\u001b[0;34m\u001b[0m\u001b[0;34m\u001b[0m\u001b[0m\n\u001b[1;32m    146\u001b[0m             \u001b[0;32melse\u001b[0m\u001b[0;34m:\u001b[0m\u001b[0;34m\u001b[0m\u001b[0;34m\u001b[0m\u001b[0m\n\u001b[0;32m--> 147\u001b[0;31m                 \u001b[0mresult\u001b[0m \u001b[0;34m=\u001b[0m \u001b[0malt\u001b[0m\u001b[0;34m(\u001b[0m\u001b[0mvalues\u001b[0m\u001b[0;34m,\u001b[0m \u001b[0maxis\u001b[0m\u001b[0;34m=\u001b[0m\u001b[0maxis\u001b[0m\u001b[0;34m,\u001b[0m \u001b[0mskipna\u001b[0m\u001b[0;34m=\u001b[0m\u001b[0mskipna\u001b[0m\u001b[0;34m,\u001b[0m \u001b[0;34m**\u001b[0m\u001b[0mkwds\u001b[0m\u001b[0;34m)\u001b[0m\u001b[0;34m\u001b[0m\u001b[0;34m\u001b[0m\u001b[0m\n\u001b[0m\u001b[1;32m    148\u001b[0m \u001b[0;34m\u001b[0m\u001b[0m\n\u001b[1;32m    149\u001b[0m             \u001b[0;32mreturn\u001b[0m \u001b[0mresult\u001b[0m\u001b[0;34m\u001b[0m\u001b[0;34m\u001b[0m\u001b[0m\n",
            "\u001b[0;32m/usr/local/lib/python3.11/dist-packages/pandas/core/nanops.py\u001b[0m in \u001b[0;36mnew_func\u001b[0;34m(values, axis, skipna, mask, **kwargs)\u001b[0m\n\u001b[1;32m    402\u001b[0m             \u001b[0mmask\u001b[0m \u001b[0;34m=\u001b[0m \u001b[0misna\u001b[0m\u001b[0;34m(\u001b[0m\u001b[0mvalues\u001b[0m\u001b[0;34m)\u001b[0m\u001b[0;34m\u001b[0m\u001b[0;34m\u001b[0m\u001b[0m\n\u001b[1;32m    403\u001b[0m \u001b[0;34m\u001b[0m\u001b[0m\n\u001b[0;32m--> 404\u001b[0;31m         \u001b[0mresult\u001b[0m \u001b[0;34m=\u001b[0m \u001b[0mfunc\u001b[0m\u001b[0;34m(\u001b[0m\u001b[0mvalues\u001b[0m\u001b[0;34m,\u001b[0m \u001b[0maxis\u001b[0m\u001b[0;34m=\u001b[0m\u001b[0maxis\u001b[0m\u001b[0;34m,\u001b[0m \u001b[0mskipna\u001b[0m\u001b[0;34m=\u001b[0m\u001b[0mskipna\u001b[0m\u001b[0;34m,\u001b[0m \u001b[0mmask\u001b[0m\u001b[0;34m=\u001b[0m\u001b[0mmask\u001b[0m\u001b[0;34m,\u001b[0m \u001b[0;34m**\u001b[0m\u001b[0mkwargs\u001b[0m\u001b[0;34m)\u001b[0m\u001b[0;34m\u001b[0m\u001b[0;34m\u001b[0m\u001b[0m\n\u001b[0m\u001b[1;32m    405\u001b[0m \u001b[0;34m\u001b[0m\u001b[0m\n\u001b[1;32m    406\u001b[0m         \u001b[0;32mif\u001b[0m \u001b[0mdatetimelike\u001b[0m\u001b[0;34m:\u001b[0m\u001b[0;34m\u001b[0m\u001b[0;34m\u001b[0m\u001b[0m\n",
            "\u001b[0;32m/usr/local/lib/python3.11/dist-packages/pandas/core/nanops.py\u001b[0m in \u001b[0;36mnanmean\u001b[0;34m(values, axis, skipna, mask)\u001b[0m\n\u001b[1;32m    718\u001b[0m     \u001b[0mcount\u001b[0m \u001b[0;34m=\u001b[0m \u001b[0m_get_counts\u001b[0m\u001b[0;34m(\u001b[0m\u001b[0mvalues\u001b[0m\u001b[0;34m.\u001b[0m\u001b[0mshape\u001b[0m\u001b[0;34m,\u001b[0m \u001b[0mmask\u001b[0m\u001b[0;34m,\u001b[0m \u001b[0maxis\u001b[0m\u001b[0;34m,\u001b[0m \u001b[0mdtype\u001b[0m\u001b[0;34m=\u001b[0m\u001b[0mdtype_count\u001b[0m\u001b[0;34m)\u001b[0m\u001b[0;34m\u001b[0m\u001b[0;34m\u001b[0m\u001b[0m\n\u001b[1;32m    719\u001b[0m     \u001b[0mthe_sum\u001b[0m \u001b[0;34m=\u001b[0m \u001b[0mvalues\u001b[0m\u001b[0;34m.\u001b[0m\u001b[0msum\u001b[0m\u001b[0;34m(\u001b[0m\u001b[0maxis\u001b[0m\u001b[0;34m,\u001b[0m \u001b[0mdtype\u001b[0m\u001b[0;34m=\u001b[0m\u001b[0mdtype_sum\u001b[0m\u001b[0;34m)\u001b[0m\u001b[0;34m\u001b[0m\u001b[0;34m\u001b[0m\u001b[0m\n\u001b[0;32m--> 720\u001b[0;31m     \u001b[0mthe_sum\u001b[0m \u001b[0;34m=\u001b[0m \u001b[0m_ensure_numeric\u001b[0m\u001b[0;34m(\u001b[0m\u001b[0mthe_sum\u001b[0m\u001b[0;34m)\u001b[0m\u001b[0;34m\u001b[0m\u001b[0;34m\u001b[0m\u001b[0m\n\u001b[0m\u001b[1;32m    721\u001b[0m \u001b[0;34m\u001b[0m\u001b[0m\n\u001b[1;32m    722\u001b[0m     \u001b[0;32mif\u001b[0m \u001b[0maxis\u001b[0m \u001b[0;32mis\u001b[0m \u001b[0;32mnot\u001b[0m \u001b[0;32mNone\u001b[0m \u001b[0;32mand\u001b[0m \u001b[0mgetattr\u001b[0m\u001b[0;34m(\u001b[0m\u001b[0mthe_sum\u001b[0m\u001b[0;34m,\u001b[0m \u001b[0;34m\"ndim\"\u001b[0m\u001b[0;34m,\u001b[0m \u001b[0;32mFalse\u001b[0m\u001b[0;34m)\u001b[0m\u001b[0;34m:\u001b[0m\u001b[0;34m\u001b[0m\u001b[0;34m\u001b[0m\u001b[0m\n",
            "\u001b[0;32m/usr/local/lib/python3.11/dist-packages/pandas/core/nanops.py\u001b[0m in \u001b[0;36m_ensure_numeric\u001b[0;34m(x)\u001b[0m\n\u001b[1;32m   1684\u001b[0m             \u001b[0;32mif\u001b[0m \u001b[0minferred\u001b[0m \u001b[0;32min\u001b[0m \u001b[0;34m[\u001b[0m\u001b[0;34m\"string\"\u001b[0m\u001b[0;34m,\u001b[0m \u001b[0;34m\"mixed\"\u001b[0m\u001b[0;34m]\u001b[0m\u001b[0;34m:\u001b[0m\u001b[0;34m\u001b[0m\u001b[0;34m\u001b[0m\u001b[0m\n\u001b[1;32m   1685\u001b[0m                 \u001b[0;31m# GH#44008, GH#36703 avoid casting e.g. strings to numeric\u001b[0m\u001b[0;34m\u001b[0m\u001b[0;34m\u001b[0m\u001b[0m\n\u001b[0;32m-> 1686\u001b[0;31m                 \u001b[0;32mraise\u001b[0m \u001b[0mTypeError\u001b[0m\u001b[0;34m(\u001b[0m\u001b[0;34mf\"Could not convert {x} to numeric\"\u001b[0m\u001b[0;34m)\u001b[0m\u001b[0;34m\u001b[0m\u001b[0;34m\u001b[0m\u001b[0m\n\u001b[0m\u001b[1;32m   1687\u001b[0m             \u001b[0;32mtry\u001b[0m\u001b[0;34m:\u001b[0m\u001b[0;34m\u001b[0m\u001b[0;34m\u001b[0m\u001b[0m\n\u001b[1;32m   1688\u001b[0m                 \u001b[0mx\u001b[0m \u001b[0;34m=\u001b[0m \u001b[0mx\u001b[0m\u001b[0;34m.\u001b[0m\u001b[0mastype\u001b[0m\u001b[0;34m(\u001b[0m\u001b[0mnp\u001b[0m\u001b[0;34m.\u001b[0m\u001b[0mcomplex128\u001b[0m\u001b[0;34m)\u001b[0m\u001b[0;34m\u001b[0m\u001b[0;34m\u001b[0m\u001b[0m\n",
            "\u001b[0;31mTypeError\u001b[0m: Could not convert ['Chips and Fresh Tomato SalsaIzzeNantucket NectarChips and Tomatillo-Green Chili SalsaChicken BowlChicken BowlSide of ChipsSteak BurritoSteak Soft TacosSteak BurritoChips and GuacamoleChicken Crispy TacosChicken Soft TacosChicken BowlChips and GuacamoleChips and Tomatillo-Green Chili SalsaChicken BurritoChicken BurritoCanned SodaChicken BowlChips and GuacamoleBarbacoa BurritoNantucket NectarChicken BurritoIzzeChips and Fresh Tomato SalsaChicken BowlCarnitas BurritoCanned SodaChicken BurritoChips and Tomatillo-Green Chili SalsaSteak BurritoSide of ChipsCarnitas BowlBottled WaterChicken Soft TacosChicken Soft TacosChips and GuacamoleChips and Tomatillo Green Chili SalsaBarbacoa BowlChipsChips and GuacamoleChicken BowlSteak BurritoChicken Salad BowlChicken BurritoSteak BurritoIzzeSteak BurritoChips and GuacamoleSteak BurritoCanned SodaChicken BurritoCanned SodaSteak BowlChips and Fresh Tomato SalsaBarbacoa Soft TacosVeggie BurritoBarbacoa BowlChipsChips and GuacamoleSteak Soft TacosVeggie BowlChicken BurritoSteak BurritoSteak Soft TacosIzzeSteak BurritoChicken BurritoSteak BurritoSide of ChipsSteak BurritoChips and GuacamoleChicken BurritoChips and GuacamoleChicken Soft TacosChicken BowlChipsChicken BowlChicken Soft TacosChipsBarbacoa BurritoChicken BurritoChicken BurritoSteak Soft TacosVeggie BowlSteak BowlBottled WaterCarnitas BurritoChips and Fresh Tomato SalsaSteak BowlSteak BowlSteak Crispy TacosCarnitas BurritoChips and Guacamole..."
          ]
        }
      ],
      "source": [
        "# Solution 1\n",
        "\n",
        "chipo['revenue'] = chipo['quantity'] * chipo['item_price']\n",
        "order_grouped = chipo.groupby(by=['order_id']).sum()\n",
        "order_grouped.mean()['revenue']"
      ]
    },
    {
      "source": [
        "# Solution 1\n",
        "\n",
        "chipo['revenue'] = chipo['quantity'] * chipo['item_price']\n",
        "order_grouped = chipo.groupby(by=['order_id'])['revenue'].sum() #Only include the revenue column when grouping\n",
        "order_grouped.mean()"
      ],
      "cell_type": "code",
      "metadata": {
        "id": "mzQm3iwoNxm1",
        "outputId": "f4df5f1b-c680-4283-e185-a662bc572b51",
        "colab": {
          "base_uri": "https://localhost:8080/"
        }
      },
      "execution_count": 21,
      "outputs": [
        {
          "output_type": "execute_result",
          "data": {
            "text/plain": [
              "21.39423118865867"
            ]
          },
          "metadata": {},
          "execution_count": 21
        }
      ]
    },
    {
      "cell_type": "code",
      "execution_count": 24,
      "metadata": {
        "colab": {
          "base_uri": "https://localhost:8080/",
          "height": 561
        },
        "id": "uL-zyqwlNKsG",
        "outputId": "3de715cf-4994-4d13-b46c-6bd0db77390c"
      },
      "outputs": [
        {
          "output_type": "error",
          "ename": "TypeError",
          "evalue": "Could not convert ['Chips and Fresh Tomato SalsaIzzeNantucket NectarChips and Tomatillo-Green Chili SalsaChicken BowlChicken BowlSide of ChipsSteak BurritoSteak Soft TacosSteak BurritoChips and GuacamoleChicken Crispy TacosChicken Soft TacosChicken BowlChips and GuacamoleChips and Tomatillo-Green Chili SalsaChicken BurritoChicken BurritoCanned SodaChicken BowlChips and GuacamoleBarbacoa BurritoNantucket NectarChicken BurritoIzzeChips and Fresh Tomato SalsaChicken BowlCarnitas BurritoCanned SodaChicken BurritoChips and Tomatillo-Green Chili SalsaSteak BurritoSide of ChipsCarnitas BowlBottled WaterChicken Soft TacosChicken Soft TacosChips and GuacamoleChips and Tomatillo Green Chili SalsaBarbacoa BowlChipsChips and GuacamoleChicken BowlSteak BurritoChicken Salad BowlChicken BurritoSteak BurritoIzzeSteak BurritoChips and GuacamoleSteak BurritoCanned SodaChicken BurritoCanned SodaSteak BowlChips and Fresh Tomato SalsaBarbacoa Soft TacosVeggie BurritoBarbacoa BowlChipsChips and GuacamoleSteak Soft TacosVeggie BowlChicken BurritoSteak BurritoSteak Soft TacosIzzeSteak BurritoChicken BurritoSteak BurritoSide of ChipsSteak BurritoChips and GuacamoleChicken BurritoChips and GuacamoleChicken Soft TacosChicken BowlChipsChicken BowlChicken Soft TacosChipsBarbacoa BurritoChicken BurritoChicken BurritoSteak Soft TacosVeggie BowlSteak BowlBottled WaterCarnitas BurritoChips and Fresh Tomato SalsaSteak BowlSteak BowlSteak Crispy TacosCarnitas BurritoChips and GuacamoleBarbacoa BowlChips and GuacamoleCarnitas BowlChicken BurritoChicken BowlChips and GuacamoleSteak BurritoSteak BowlChips and GuacamoleVeggie BurritoNantucket NectarSteak BurritoCanned SodaSteak BurritoChips and GuacamoleChicken BowlChips and Tomatillo Red Chili SalsaChips and GuacamoleChips and Tomatillo-Green Chili SalsaChicken BurritoBarbacoa BowlChicken BurritoCanned SodaSteak Soft TacosChips and GuacamoleChicken BurritoBarbacoa BurritoChips and GuacamoleChicken BowlChips and GuacamoleSteak BurritoCanned SodaBarbacoa BowlChips and Tomatillo Red Chili SalsaChips and GuacamoleBarbacoa BurritoChips and GuacamoleChicken BurritoChips and Tomatillo-Green Chili SalsaChicken BurritoChicken Salad BowlBarbacoa BowlChips and GuacamoleChicken BowlChips and GuacamoleChicken BowlChips and GuacamoleChicken BowlVeggie BowlBarbacoa BurritoCarnitas BowlChips and GuacamoleSteak BurritoSteak BurritoSide of ChipsChicken BurritoChips and GuacamoleChicken BurritoChips and Tomatillo-Green Chili SalsaChicken BowlChips and GuacamoleChips and GuacamoleVeggie BowlSteak BurritoChicken BurritoChicken BowlChicken BurritoCanned SodaCarnitas BowlVeggie BowlChips and Tomatillo-Green Chili SalsaChips and GuacamoleChicken BurritoBarbacoa Crispy TacosChicken BurritoChicken BurritoCanned SodaChicken BurritoNantucket NectarChicken BurritoSteak Soft TacosChicken BowlSteak BurritoChicken BurritoCanned SodaCanned SodaBarbacoa Soft TacosChicken BowlChips and Fresh Tomato SalsaSteak Soft TacosChips and GuacamoleVeggie Salad BowlSteak BowlChicken BurritoChicken BurritoSteak BurritoChips and Roasted Chili-Corn SalsaVeggie BowlChicken BowlChips and Fresh Tomato SalsaCanned SodaSteak BurritoChicken BurritoChips and Tomatillo-Green Chili SalsaChicken BowlCanned SodaChips and GuacamoleChicken BurritoChicken BurritoChicken BurritoNantucket NectarChicken BowlSteak BowlChipsChicken BowlVeggie BowlChicken BowlChips and GuacamoleChicken Salad BowlChips and GuacamoleSteak BowlChicken BurritoChicken Crispy TacosChicken BowlBarbacoa BowlChicken BowlChipsBarbacoa BurritoChipsChicken BowlVeggie BurritoChipsSteak BurritoCanned SodaSteak BurritoChips and GuacamoleChicken BowlChips and Tomatillo Green Chili SalsaChips and Roasted Chili Corn SalsaSteak BurritoChips and Tomatillo Green Chili SalsaSteak BurritoCarnitas Soft TacosSteak BurritoCarnitas BurritoChips and Fresh Tomato SalsaChicken BurritoChicken BurritoSteak BowlChicken BurritoSteak BurritoCanned SodaCanned SodaCanned SodaBarbacoa BurritoChicken SaladCanned SodaChicken BowlVeggie BowlBarbacoa BowlBarbacoa Crispy TacosChicken Salad BowlChicken BowlSteak BurritoSteak BowlSteak BowlCanned SodaSteak BowlCanned Soft DrinkSteak BurritoChips and Fresh Tomato SalsaSteak Soft TacosChips and Fresh Tomato SalsaBarbacoa Soft TacosChips and GuacamoleChicken BurritoChips and Tomatillo-Green Chili SalsaChicken BurritoChicken BurritoChicken BurritoSide of ChipsChicken BurritoChips and GuacamoleSteak Soft TacosSide of ChipsCanned SodaSteak Salad BowlChicken BowlChipsChicken BowlSteak BowlSteak BowlVeggie BowlChips and GuacamoleChicken BurritoChicken BowlChicken BowlCanned Soft DrinkSteak Soft TacosChips and GuacamoleVeggie Salad BowlSteak BurritoSteak Burrito6 Pack Soft DrinkSteak Soft TacosChips and Tomatillo-Red Chili SalsaChicken BowlChips and Fresh Tomato SalsaChicken BowlChicken BowlChipsSteak BowlSide of ChipsChicken BurritoChicken BurritoChipsChips and GuacamoleChicken BowlChicken Soft TacosSteak BurritoChicken Salad BowlChicken BurritoCanned SodaBottled WaterChicken BowlCanned Soft DrinkChipsSteak BurritoChicken BurritoChicken Soft TacosSteak BurritoChips and Fresh Tomato SalsaChicken BowlChipsBottled WaterChicken BurritoChipsChicken Soft TacosChicken Soft TacosBarbacoa BurritoSteak BurritoSteak BowlCanned Soft DrinkChicken BurritoChicken BurritoChips and Guacamole6 Pack Soft DrinkSteak Soft TacosChips and Fresh Tomato SalsaChicken Soft TacosChips and GuacamoleCanned Soft DrinkCanned Soft DrinkChicken BowlChips and Tomatillo-Red Chili SalsaCanned SodaChicken BurritoCanned SodaSteak BurritoChicken Soft TacosChicken BurritoChips and Tomatillo Red Chili Salsa6 Pack Soft DrinkSteak BurritoIzzeIzzeSteak BurritoChicken BurritoChicken BurritoChipsChicken Crispy TacosChips and Tomatillo Green Chili SalsaChicken BurritoCanned Soft DrinkSteak BurritoCanned SodaChicken BowlChicken BurritoCarnitas BurritoChips and Fresh Tomato SalsaBarbacoa BurritoBottled WaterSteak BurritoCanned SodaChicken BowlCanned Soft DrinkCanned Soft DrinkChicken BurritoSteak BurritoChipsBarbacoa BurritoSide of ChipsSteak Bowl6 Pack Soft DrinkChicken BurritoSteak Soft TacosChicken BurritoChips and GuacamoleCanned Soft DrinkVeggie BurritoChips and GuacamoleChicken BurritoBarbacoa BurritoChicken BurritoCarnitas BowlChicken BurritoCanned Soft DrinkSteak BurritoCanned Soft DrinkSteak BurritoCarnitas Soft TacosChips and GuacamoleChicken BowlChipsChicken BowlCanned Soft DrinkChicken BowlSteak BowlSide of ChipsCanned SodaChicken BowlChips and Guacamole6 Pack Soft DrinkBarbacoa BowlChicken Soft TacosSteak BurritoCarnitas BurritoChicken BowlChicken BurritoChipsChips and Fresh Tomato SalsaChicken Soft TacosChicken Soft TacosSteak BowlBarbacoa Crispy TacosIzzeSteak BurritoSide of ChipsCarnitas BowlCanned SodaVeggie BurritoNantucket NectarSteak Crispy TacosCanned SodaSteak BurritoChicken Soft TacosChicken BurritoChips and GuacamoleChips and Tomatillo Red Chili SalsaSteak BowlBowlChicken BurritoSteak BurritoChicken BurritoChicken BowlBarbacoa BurritoChicken BurritoChicken BurritoCarnitas Soft TacosChicken BowlVeggie Salad BowlChicken BowlChicken BurritoChips and Fresh Tomato SalsaCanned Soft DrinkChicken BowlSide of ChipsCarnitas BurritoChicken BurritoChicken BowlChicken BowlChips and GuacamoleVeggie BurritoChips and GuacamoleVeggie BurritoChips and GuacamoleBarbacoa BowlSide of ChipsCanned SodaChicken Soft TacosBottled WaterChicken BurritoSide of ChipsCarnitas BurritoVeggie BurritoChicken BowlSteak BurritoChicken BurritoChicken BowlChicken BowlBarbacoa Crispy TacosChicken BurritoChicken BurritoChicken BowlChipsChicken BowlSteak BowlCanned Soft DrinkChips and GuacamoleSteak Soft TacosChips and GuacamoleVeggie Salad BowlVeggie BurritoChips and GuacamoleSteak BowlSteak BowlChicken BowlBarbacoa BurritoSteak BurritoChicken Soft TacosCanned Soft DrinkCarnitas BowlCanned Soft DrinkSteak BurritoChicken BowlBurritoBurritoVeggie BowlCanned Soft DrinkChips and GuacamoleVeggie BowlChipsChicken BurritoChips and GuacamoleBurritoCrispy TacosCrispy TacosSteak BurritoChips and GuacamoleSteak BowlSide of ChipsChicken Salad BowlChicken BowlChicken Salad BowlChicken Salad BowlVeggie BowlChicken BurritoChips and Fresh Tomato SalsaChicken BurritoSteak BurritoVeggie BurritoChips and GuacamoleChips and Tomatillo Green Chili SalsaCarnitas BowlSteak BurritoBottled WaterCanned Soft DrinkChicken BowlBarbacoa BurritoChips and GuacamoleChicken BowlChicken BowlChips and GuacamoleChicken BowlSteak BurritoChips and GuacamoleChicken BurritoSteak Burrito6 Pack Soft DrinkCarnitas Crispy TacosVeggie BowlChicken BowlBarbacoa BurritoChipsSteak BowlChips and GuacamoleBarbacoa BurritoChips and Roasted Chili Corn SalsaSteak BurritoChicken BurritoCarnitas Soft TacosCanned Soft DrinkCanned Soft DrinkChicken Salad BowlChicken BurritoSteak Soft TacosChips and GuacamoleSteak BurritoSteak BurritoBarbacoa BurritoBarbacoa BurritoSteak BurritoChicken Soft TacosChips and Tomatillo-Green Chili SalsaIzzeIzzeSteak Crispy TacosSteak BurritoChicken BowlChipsChicken Salad BowlBarbacoa BurritoChips and GuacamoleChicken BurritoChicken BurritoCarnitas Soft TacosChicken Salad BowlBarbacoa BowlChips and Tomatillo Red Chili SalsaBottled WaterSteak BowlChicken BowlSide of ChipsChicken Crispy TacosChicken BurritoChicken Crispy TacosNantucket NectarBarbacoa BurritoChips and GuacamoleChicken BowlChips and GuacamoleSteak Salad BowlSteak Salad BowlChicken BurritoChips and Fresh Tomato SalsaCanned Soft DrinkBarbacoa Soft TacosChicken BurritoSteak Salad BowlChicken BowlBarbacoa BurritoChipsChipsCanned Soft DrinkVeggie BowlChips and GuacamoleChicken BurritoCanned SodaVeggie BurritoChips and GuacamoleChicken BowlCarnitas BurritoChips and Tomatillo Green Chili SalsaChips and GuacamoleSteak BurritoChicken Soft TacosVeggie BurritoChips and GuacamoleChicken Salad BowlChicken BurritoCanned Soft DrinkChicken BurritoChicken BowlSteak Burrito6 Pack Soft DrinkChicken BurritoChicken Soft TacosChips and GuacamoleVeggie BowlChips and GuacamoleSteak BurritoCanned SodaChicken BowlChips and Roasted Chili-Corn SalsaSteak BurritoSide of ChipsCanned Soft DrinkCarnitas BurritoBottled WaterChicken BowlChips and Tomatillo Green Chili SalsaChicken BurritoChips and GuacamoleSteak BurritoChicken BurritoChicken BowlSide of ChipsVeggie BurritoChips and GuacamoleSteak SaladSteak BowlChips and GuacamoleCarnitas Soft TacosChicken BowlChips and GuacamoleCanned Soft DrinkChips and GuacamoleChicken BurritoBowlChips and Mild Fresh Tomato SalsaBurritoChips and GuacamoleVeggie BowlChips and GuacamoleSteak BowlChips and GuacamoleChicken BurritoCanned Soft DrinkSteak BurritoCanned Soft DrinkChicken BurritoChipsChicken BowlChips and GuacamoleCanned Soft DrinkSteak BowlCarnitas BurritoChips and Tomatillo-Red Chili SalsaChicken Salad BowlChips and GuacamoleCanned Soft DrinkSteak BurritoChicken Soft TacosCanned SodaChicken BurritoCanned SodaBottled WaterChicken Salad BowlChips and Tomatillo Green Chili SalsaCanned Soft DrinkBottled WaterChicken BowlSteak BurritoChips and Roasted Chili Corn SalsaCanned Soft DrinkVeggie BurritoChips and GuacamoleSteak BurritoChips and GuacamoleVeggie BurritoChicken BurritoCanned Soft DrinkBarbacoa BurritoSide of ChipsChicken BowlCanned Soft Drink6 Pack Soft DrinkChicken BowlBarbacoa BurritoChicken BurritoChips and Fresh Tomato SalsaChicken BurritoSteak BurritoSteak BurritoSteak Crispy TacosChips and Fresh Tomato SalsaChips and GuacamoleVeggie BurritoChicken BowlChicken BurritoCanned Soft DrinkSteak BurritoVeggie BowlVeggie Soft TacosChicken BurritoCanned Soft DrinkSteak BurritoBarbacoa Burrito6 Pack Soft DrinkChips and GuacamoleVeggie BurritoChicken BurritoChipsChicken BurritoSteak Salad BowlBarbacoa BowlSide of ChipsSteak SaladSteak BowlChips and GuacamoleCarnitas Soft TacosBarbacoa BurritoSteak BowlChipsBurritoBurritoVeggie BurritoChicken Salad BowlBarbacoa Crispy TacosChips and GuacamoleChicken BowlCanned Soft DrinkCarnitas BurritoChicken Crispy TacosCanned Soft DrinkChips and GuacamoleVeggie BurritoChicken BowlChicken BowlSteak Crispy TacosChicken BowlChipsCanned Soft DrinkChicken BurritoCanned SodaBottled WaterVeggie Soft TacosChips and Tomatillo Green Chili SalsaCanned Soft DrinkSteak BowlCanned Soft DrinkChipsChicken BurritoCanned Soft DrinkChips and GuacamoleChicken BurritoCanned Soft DrinkChips and GuacamoleChicken BurritoChicken BowlChicken BowlChicken BurritoVeggie BurritoChicken BowlChips and GuacamoleChicken BurritoChips and GuacamoleSide of ChipsBarbacoa BowlBarbacoa BowlChicken BowlSteak BurritoCanned SodaSteak BurritoChips and Tomatillo Green Chili SalsaChicken BurritoSteak BurritoChips and GuacamoleVeggie BurritoChicken BurritoChicken BowlChicken Salad BowlChicken BowlBottled WaterChips and GuacamoleCarnitas Soft TacosCanned SodaCarnitas BowlChicken BurritoChips and GuacamoleSteak BowlChips and GuacamoleVeggie BurritoChipsBarbacoa Crispy TacosChicken Crispy TacosVeggie BowlVeggie BowlCarnitas BowlChicken BurritoCarnitas BurritoChicken BurritoChicken BowlChips and Tomatillo Red Chili SalsaChips and GuacamoleBarbacoa BowlChips and Roasted Chili Corn SalsaSteak BowlVeggie BowlChicken BowlChips and GuacamoleVeggie BowlVeggie BurritoChips and Fresh Tomato SalsaChicken BowlCanned Soft DrinkCarnitas BowlChips and GuacamoleBarbacoa BurritoBarbacoa BurritoChips and GuacamoleChicken BurritoBarbacoa Soft TacosChicken BurritoBarbacoa BurritoSteak BurritoSteak BurritoSteak BurritoSteak BurritoChicken Salad BowlCarnitas BurritoChicken Crispy TacosCanned Soft DrinkChicken BowlChipsCanned Soft DrinkChicken BowlChicken Soft TacosCanned Soft DrinkVeggie BurritoBottled WaterChicken Soft TacosChicken BowlBarbacoa Burrito6 Pack Soft DrinkChips and GuacamoleChicken BowlChips and GuacamoleChicken Soft TacosCanned Soft DrinkChicken Crispy TacosSteak BurritoVeggie BowlBarbacoa BurritoBottled WaterChicken BowlVeggie BurritoChicken BowlSteak SaladChips and GuacamoleChicken BurritoChips and GuacamoleSteak BurritoSide of ChipsSteak BowlChicken BowlVeggie BowlChips and GuacamoleBarbacoa BurritoCanned Soft DrinkSteak BowlChips and Roasted Chili Corn SalsaSteak BurritoSteak BurritoCanned SodaSteak BowlSteak BurritoChicken BurritoSide of ChipsSteak BurritoChicken BowlChips and Tomatillo Green Chili SalsaCanned Soft DrinkSteak Crispy TacosBarbacoa BowlChicken BowlChipsBottled WaterChicken Soft TacosChicken Soft TacosNantucket NectarSteak BowlChips and GuacamoleChicken BowlChips and GuacamoleChicken BowlVeggie BurritoChipsChicken BowlChicken BowlSide of ChipsVeggie BowlChicken BowlCanned Soft DrinkChicken BurritoSteak BurritoSteak BurritoSteak BurritoBottled WaterChicken BowlChips and GuacamoleChicken Crispy TacosChips and Fresh Tomato SalsaChicken BowlChipsChips and GuacamoleChicken BurritoSteak BowlChips and GuacamoleChicken BurritoSide of ChipsCanned SodaSteak BurritoCanned SodaCarnitas BurritoVeggie Salad BowlSteak Soft TacosChips and Fresh Tomato SalsaCanned Soft DrinkCanned Soft DrinkChicken BurritoChicken Soft TacosSteak BurritoSteak Soft TacosChicken Soft TacosBottled WaterChips and GuacamoleVeggie BurritoVeggie BurritoCarnitas BurritoChicken BowlChicken BowlChicken BowlChips and GuacamoleChicken BowlChicken BowlBarbacoa BurritoChips and Tomatillo-Green Chili SalsaChicken BurritoCarnitas BowlChipsChicken BurritoCanned Soft DrinkBarbacoa Soft TacosCanned Soft DrinkChicken BurritoSteak BurritoCanned Soft DrinkChicken BowlChicken BowlChicken BowlChicken BowlChicken BurritoCanned Soft DrinkChicken Soft TacosChicken BowlChicken BowlBottled WaterBottled WaterChicken BowlChips and GuacamoleChicken Crispy TacosCanned Soft DrinkCarnitas Crispy TacosChicken BurritoChips and Tomatillo-Green Chili SalsaSteak BowlChips and GuacamoleSteak BurritoChicken BowlSteak BurritoSide of ChipsChicken BowlChips and Tomatillo-Green Chili SalsaBarbacoa Crispy TacosSteak Crispy TacosChicken BurritoChips and GuacamoleChicken BowlChips and GuacamoleSteak Burrito6 Pack Soft DrinkChicken Crispy TacosChicken BurritoChicken BurritoCanned SodaSide of ChipsBarbacoa BowlChips and GuacamoleChicken BowlCanned Soft DrinkChips and Fresh Tomato SalsaChips and GuacamoleVeggie BurritoSteak BowlSteak BowlChipsSteak BowlChicken BowlChipsCanned Soft DrinkChicken BurritoChipsCanned Soft DrinkChicken BurritoChicken Burrito6 Pack Soft DrinkSide of ChipsSteak BowlChicken BurritoBarbacoa BurritoChicken BurritoCanned SodaChicken BowlIzzeChicken BowlChipsCanned Soft DrinkCarnitas BurritoChicken BurritoChicken SaladChicken BowlChips and Roasted Chili Corn SalsaBarbacoa BowlSteak BurritoSteak BurritoChips and GuacamoleSteak BurritoChicken BowlVeggie BurritoChips and GuacamoleSide of ChipsSteak BowlChicken BowlChips and GuacamoleBottled WaterSteak BowlChipsSteak BurritoChips and Tomatillo-Green Chili SalsaChicken BurritoChips and Fresh Tomato SalsaCanned Soft DrinkChicken BowlChipsCanned Soft DrinkCanned SodaCanned SodaSteak BurritoChicken Soft TacosChips and Fresh Tomato SalsaSteak BowlCarnitas BurritoCanned Soft DrinkChicken BurritoBarbacoa BurritoChips and Tomatillo-Red Chili SalsaSteak BurritoChips and GuacamoleChicken BowlVeggie BurritoChicken BowlChicken BurritoChicken BowlChicken Salad BowlChicken Salad BowlSteak BowlChicken BowlChips and GuacamoleSteak BurritoCanned Soft DrinkChicken BurritoChicken BurritoChips and Fresh Tomato SalsaBarbacoa BurritoSide of ChipsChicken BurritoChips and GuacamoleChicken Bowl6 Pack Soft DrinkChicken BurritoChips and GuacamoleCarnitas BurritoChips and GuacamoleBarbacoa Soft TacosSteak BurritoChips and GuacamoleCarnitas Salad BowlSteak BowlChicken BowlChips and Fresh Tomato SalsaBottled WaterChips and GuacamoleChicken BurritoSteak BurritoBottled WaterSteak BurritoCanned SodaChips and GuacamoleSteak BurritoVeggie BurritoSteak BurritoChips and GuacamoleSteak BowlBarbacoa Soft TacosChips and Roasted Chili Corn SalsaBarbacoa BurritoChicken BurritoSteak BurritoSteak BurritoChicken BurritoChicken BowlChips and Tomatillo Green Chili SalsaChips and GuacamoleSteak Salad BowlChicken BurritoChicken BurritoSide of ChipsChicken BowlChipsCanned Soft DrinkChicken Burrito6 Pack Soft DrinkSteak Crispy TacosChipsChicken BurritoChips and GuacamoleChicken BowlCanned Soft DrinkBarbacoa BowlBarbacoa BowlSteak BowlBottled WaterChicken BowlBarbacoa BowlChips and Roasted Chili-Corn SalsaChips and Tomatillo-Red Chili SalsaBottled WaterChicken BowlChips and GuacamoleChicken BurritoCarnitas Soft TacosBarbacoa BurritoChicken BowlChicken Salad BowlChips and GuacamoleChips and Tomatillo Red Chili SalsaSteak BowlVeggie BurritoChicken Soft TacosCarnitas Crispy TacosSide of ChipsCarnitas BurritoChicken BowlSteak BurritoCarnitas BowlChicken BurritoBarbacoa BurritoChicken BurritoChicken BowlChicken BowlChicken BowlChicken BowlChicken BurritoChips and GuacamoleChicken BowlChicken BurritoCarnitas BowlIzzeChips and GuacamoleSteak BurritoCanned SodaCanned SodaChips and Tomatillo-Green Chili SalsaChicken BurritoChips and GuacamoleChicken BowlChicken BowlChips and GuacamoleSteak BowlChips and GuacamoleChicken BowlChipsCanned Soft DrinkBarbacoa Salad BowlChips and Fresh Tomato SalsaSteak BurritoCanned Soft DrinkChicken BurritoChips and GuacamoleBarbacoa BowlBarbacoa BowlChips and Fresh Tomato SalsaCarnitas BurritoChicken BurritoBarbacoa Soft TacosChips and Fresh Tomato SalsaVeggie BowlCanned Soft DrinkCarnitas BowlCanned Soft DrinkSteak BowlChips and Fresh Tomato SalsaCanned Soft DrinkChicken Soft TacosCanned Soft DrinkChicken BurritoVeggie BurritoChips and GuacamoleChicken BurritoSteak BurritoVeggie BurritoChips and Fresh Tomato SalsaChips and GuacamoleChips and Tomatillo Green Chili Salsa6 Pack Soft DrinkVeggie BurritoSteak BurritoChips and Tomatillo-Green Chili SalsaBarbacoa BowlChicken BowlChipsChicken Soft TacosChips and GuacamoleChicken BurritoSide of ChipsChicken BurritoSteak BurritoChicken BurritoChips and GuacamoleSteak BurritoSteak BurritoChips and GuacamoleChicken Soft Tacos6 Pack Soft DrinkChicken BurritoChicken BowlSteak BurritoCanned Soft DrinkChips and GuacamoleChicken BurritoSide of ChipsCarnitas BurritoChips and GuacamoleSteak BurritoCanned SodaChicken BowlChips and Roasted Chili Corn SalsaSteak BowlCarnitas BowlChips and GuacamoleChicken BowlVeggie BowlChicken BowlChicken BowlBarbacoa BurritoChipsChicken BowlChicken BowlChips and GuacamoleSide of ChipsSteak BowlChicken BowlSide of ChipsSteak BurritoChicken BurritoSteak Salad BowlSteak BowlChips and Tomatillo Red Chili SalsaSteak BowlChips and Fresh Tomato SalsaVeggie Salad BowlChips and GuacamoleChips and GuacamoleVeggie BowlChicken BurritoSteak BurritoChicken BurritoSteak BurritoChips and GuacamoleSteak BurritoBarbacoa Salad BowlSteak Crispy TacosChicken BurritoChicken BowlSteak BowlChicken BurritoChicken BowlSteak BurritoBarbacoa Soft TacosChips and GuacamoleChicken BurritoCarnitas BurritoCanned Soft DrinkSteak BurritoSide of ChipsCarnitas BowlChipsCanned Soft DrinkCarnitas BowlChicken Crispy TacosChips and GuacamoleBarbacoa BowlChips and Tomatillo Red Chili SalsaVeggie BurritoChicken BurritoChips and GuacamoleChicken Salad BowlSteak Soft TacosSteak BowlSide of ChipsNantucket NectarBarbacoa BowlChips and Roasted Chili Corn SalsaCarnitas BowlSide of ChipsChicken Soft TacosChicken BurritoVeggie BowlChips and Fresh Tomato SalsaSteak Soft TacosSide of ChipsChicken BowlChipsCanned Soft DrinkChicken BowlChips and Roasted Chili Corn SalsaSteak BurritoCanned Soft DrinkVeggie BowlCanned Soft DrinkCarnitas BowlCanned Soft DrinkChicken BowlBottled WaterChicken Soft TacosCanned Soft DrinkChips and Tomatillo Red Chili SalsaBarbacoa BowlSteak BurritoChicken BowlChicken BowlChipsSteak BurritoCanned Soft DrinkCarnitas Soft TacosBarbacoa Soft Tacos6 Pack Soft DrinkCarnitas BowlVeggie BurritoVeggie Soft TacosCanned SodaChicken BowlChicken BurritoCanned Soft DrinkChipsChicken BowlBottled WaterChicken BurritoVeggie BowlChicken BowlChicken BurritoChicken BowlBottled WaterCanned Soft DrinkBottled WaterChicken BowlCanned Soft DrinkChipsSaladSaladChips and GuacamoleBarbacoa BowlBarbacoa Salad BowlBarbacoa BowlBarbacoa BowlBarbacoa Salad BowlChicken Salad BowlChips and GuacamoleChicken BurritoBottled WaterChicken Soft TacosChicken BowlVeggie BowlChicken BowlCarnitas BowlCanned SodaChicken BowlVeggie BowlChicken BurritoChicken BurritoBottled WaterCarnitas Soft TacosChicken Soft TacosChips and GuacamoleVeggie BurritoVeggie BowlChicken BowlChicken BurritoChicken BurritoChicken BurritoSteak BowlBottled WaterChicken BurritoChicken BowlChips and Roasted Chili Corn SalsaSteak Crispy TacosChicken BurritoSteak BurritoVeggie BowlChips and GuacamoleChicken BowlCanned SodaChips and Roasted Chili-Corn SalsaVeggie BurritoChicken Salad BowlSteak BowlCarnitas BurritoChicken BurritoChicken BurritoChips and Fresh Tomato SalsaChicken BurritoChicken Soft TacosChips and GuacamoleSteak BurritoChips and GuacamoleChicken Salad BowlChipsCanned Soft DrinkChicken BowlSteak BowlChicken Soft TacosBottled WaterChicken BowlChipsCanned Soft DrinkChicken BurritoSteak BowlChicken Salad BowlChicken BowlBottled WaterChicken BurritoCanned Soft DrinkChips and GuacamoleChicken Soft TacosChicken BowlChips and Tomatillo Red Chili SalsaCanned Soft DrinkChicken BurritoChips and Fresh Tomato SalsaCanned Soft DrinkChicken Soft TacosVeggie BurritoChips and Fresh Tomato SalsaChicken BowlCanned Soft DrinkChicken BurritoChicken BurritoSteak BowlChicken BowlSteak Salad BowlCanned Soft DrinkChicken BowlChipsCanned Soft DrinkSteak BurritoCanned SodaChicken BowlChips and GuacamoleChicken BowlChicken BowlChips and GuacamoleSteak BurritoChips and Tomatillo Green Chili SalsaChicken BowlChicken BurritoSteak BurritoChicken BurritoChicken BowlChicken Salad BowlChicken BowlChips and GuacamoleCanned Soft DrinkChicken BowlChicken BowlChicken BowlBarbacoa BurritoBarbacoa BurritoChips and Tomatillo-Red Chili SalsaChips and Tomatillo-Red Chili SalsaChips and GuacamoleChicken BowlChips and GuacamoleChipsSteak BowlCanned Soft DrinkChicken BurritoSteak Soft TacosChicken BowlChips and GuacamoleChicken BowlChipsChicken Salad BowlChips and GuacamoleChicken BurritoChicken BurritoCanned Soft DrinkChicken BowlChipsChicken BowlChips and Roasted Chili Corn SalsaSteak BowlCanned Soft DrinkSteak BurritoCanned Soft DrinkChicken Soft TacosCanned Soft DrinkChips and GuacamoleSteak BowlChips and GuacamoleChicken BurritoSteak BowlChicken BurritoChips and Tomatillo Green Chili SalsaChicken BurritoChicken BowlSteak Salad BowlChips and GuacamoleChips and Tomatillo Green Chili SalsaCanned Soft DrinkChicken BowlChips and GuacamoleChips and Tomatillo Green Chili SalsaCanned Soft DrinkChicken BowlChipsCanned Soft DrinkSteak BurritoChips and Tomatillo Green Chili SalsaBarbacoa BurritoNantucket NectarSteak BurritoCarnitas Soft TacosChicken BowlChips and Tomatillo Green Chili SalsaSteak Salad BowlBottled WaterChicken BowlChips and Tomatillo Green Chili SalsaCarnitas BowlChicken BurritoChicken BowlChips and Roasted Chili Corn SalsaChicken BowlBarbacoa BurritoChipsChicken Salad BowlChicken BowlChicken BowlChicken BowlChipsChicken BurritoCanned Soft DrinkChipsChicken BowlChicken BowlIzzeIzzeChicken BurritoChicken Soft TacosChips and Tomatillo-Green Chili SalsaChicken BurritoSteak Soft TacosSteak BowlCanned Soft DrinkChips and Tomatillo Red Chili SalsaChicken Salad BowlVeggie BowlSteak BowlChips and GuacamoleBottled WaterNantucket NectarCarnitas BurritoChips and Roasted Chili-Corn SalsaChicken BowlChipsVeggie BurritoCarnitas Crispy TacosSteak BurritoChips and GuacamoleSteak BurritoChips and GuacamoleSteak BurritoChicken BowlChicken BurritoSteak BurritoChicken BurritoBarbacoa Soft TacosBarbacoa BowlVeggie BowlChicken BowlChips and GuacamoleChips and GuacamoleBarbacoa BurritoChicken BowlBarbacoa BowlChicken BowlVeggie BurritoVeggie Crispy TacosChicken BurritoChipsChicken BurritoChicken Soft TacosChips and Roasted Chili Corn SalsaChicken BurritoChicken BowlChicken BurritoCanned SodaChicken BurritoChipsChips and Tomatillo Red Chili SalsaCanned Soft DrinkChicken BurritoCarnitas Soft TacosBarbacoa Soft TacosBarbacoa BowlChips and Tomatillo Red Chili SalsaChicken BowlChipsCanned Soft DrinkSteak BurritoChips and GuacamoleCarnitas BurritoChipsCarnitas BowlIzzeSteak BurritoChicken Soft TacosChicken BowlChicken BowlChips and GuacamoleChicken BowlChipsCanned Soft DrinkSteak BurritoChips and GuacamoleSteak BurritoChips and Fresh Tomato SalsaChicken BowlVeggie SaladVeggie BurritoChicken Soft TacosChips and GuacamoleChicken BurritoVeggie Soft TacosChicken BurritoChicken BowlChips and GuacamoleChicken BowlSide of ChipsChicken BowlNantucket NectarChicken BurritoChicken Salad BowlSteak BurritoChicken BurritoChicken BowlChicken BurritoSteak BurritoChicken BurritoSteak BurritoChicken BowlSteak BurritoChicken BurritoChicken BowlSide of ChipsSteak Soft TacosSteak BowlChicken BurritoSide of ChipsSteak BowlChipsBottled WaterChicken BurritoBottled WaterChicken BowlChicken BowlChips and Tomatillo Red Chili SalsaChicken BowlSide of ChipsChicken BowlChips and Tomatillo Red Chili SalsaCanned Soft DrinkChicken Salad BowlChipsCarnitas BowlChicken BowlChicken BowlChicken BowlSteak BowlCanned Soft DrinkBarbacoa BowlChicken BurritoChicken BurritoVeggie BowlChips and GuacamoleChicken BurritoBottled WaterSteak BurritoBarbacoa Soft Tacos6 Pack Soft DrinkChicken Salad BowlChips and Guacamole6 Pack Soft DrinkChicken BowlCanned Soft DrinkChipsChicken BowlChips and Tomatillo-Red Chili SalsaChicken BurritoSteak BurritoChips and GuacamoleCarnitas BowlVeggie BurritoSteak BurritoChips and Fresh Tomato SalsaSteak BurritoCarnitas Soft TacosSteak BurritoChicken BurritoChicken BurritoChicken BurritoChicken BowlVeggie BurritoSteak BowlChicken BowlChicken Soft TacosChipsChicken BowlChipsChips and GuacamoleSteak BowlChicken BowlChips and Fresh Tomato SalsaCarnitas Soft TacosCanned Soft DrinkCanned Soft DrinkCanned Soft DrinkCanned Soft DrinkChicken BowlChipsChicken BowlSide of ChipsChicken BowlBottled WaterChicken BurritoChicken Soft TacosChicken BowlChips and GuacamoleBarbacoa BowlCanned SodaChicken Salad BowlCanned Soft DrinkChicken BurritoChips and Fresh Tomato SalsaChicken Soft TacosChicken BowlBarbacoa BurritoChicken Salad BowlChips and GuacamoleChicken Salad BowlSteak Salad BowlSteak BurritoChicken Soft TacosChicken BurritoChips and GuacamoleChicken BurritoSteak BowlSteak BowlChips and GuacamoleBarbacoa Salad BowlChips and Fresh Tomato SalsaChicken BurritoChips and GuacamoleChicken BowlChipsCanned Soft DrinkChicken BowlVeggie BowlSide of ChipsChicken BurritoChips and GuacamoleChicken Soft TacosCarnitas Crispy TacosChicken BowlChips and GuacamoleVeggie BowlChicken BurritoChips and Fresh Tomato SalsaChicken Crispy TacosChicken BurritoBarbacoa BurritoChips and Tomatillo Green Chili SalsaChicken Bowl6 Pack Soft DrinkChipsChicken BowlChicken BowlChipsBottled WaterChicken BowlChicken BowlChips and Tomatillo-Red Chili SalsaSteak BurritoChips and Guacamole6 Pack Soft DrinkSteak BurritoChips and GuacamoleVeggie BowlSide of ChipsCarnitas Salad BowlBarbacoa Crispy TacosSteak BowlChips and Fresh Tomato SalsaChicken BurritoChipsCanned Soft DrinkChicken BowlCarnitas BowlChicken Soft TacosVeggie BowlChicken BowlChicken BowlCanned Soft DrinkCanned Soft DrinkBottled WaterChips and GuacamoleChips and Fresh Tomato SalsaChicken Salad BowlVeggie Salad BowlChicken BurritoChicken BurritoChicken BowlChipsBottled WaterSteak BowlCanned Soft DrinkBottled WaterChipsCanned Soft DrinkChicken BowlChips and Tomatillo Red Chili SalsaChicken Soft TacosChips and GuacamoleChicken Salad BowlChipsSteak BowlChipsBarbacoa Crispy TacosChicken BowlChips and Fresh Tomato SalsaChicken BowlChips and GuacamoleCarnitas BowlCarnitas BurritoChips and GuacamoleSteak BurritoSteak Soft TacosBottled WaterChicken BowlChips and Tomatillo Red Chili Salsa6 Pack Soft DrinkCarnitas BowlChicken BurritoSteak BurritoChicken BowlChips and Guacamole6 Pack Soft DrinkChicken Salad BowlSteak BowlChips and Roasted Chili Corn SalsaChicken BowlSide of ChipsChicken BowlChicken BowlChips and GuacamoleChicken BowlChips and Tomatillo Red Chili SalsaSteak BowlChicken BowlChips and Tomatillo-Green Chili SalsaSteak Burrito6 Pack Soft DrinkChicken Soft TacosSteak BurritoChips and Fresh Tomato SalsaSteak BowlSide of ChipsSteak BowlCanned SodaCanned SodaSteak BurritoCarnitas BurritoCanned SodaSteak BurritoSteak BurritoChicken Soft TacosChicken BowlCanned SodaSteak BurritoSteak BowlChicken Salad BowlChicken BurritoChipsVeggie BurritoChicken Soft TacosChips and GuacamoleChips and Roasted Chili Corn SalsaCarnitas Soft TacosBottled WaterSteak BurritoChicken BowlChips and Tomatillo-Green Chili SalsaChicken BurritoChipsBarbacoa BowlBottled WaterChicken BowlChipsChips and GuacamoleSteak Bowl6 Pack Soft DrinkChicken Salad BowlChips and GuacamoleSteak Soft TacosChips and GuacamoleChicken BurritoVeggie BurritoCanned Soft DrinkChicken BowlBarbacoa Soft TacosChips and GuacamoleCanned Soft DrinkBottled WaterChicken BowlChips and GuacamoleChips and GuacamoleChips and Tomatillo Red Chili SalsaSteak BurritoChicken BowlChipsChicken BowlChicken BowlChips and GuacamoleChips and Tomatillo Red Chili SalsaCarnitas Soft TacosChicken BowlCanned Soft DrinkChicken BowlChips and Tomatillo Red Chili SalsaCanned Soft DrinkChicken BowlChips and GuacamoleSteak BurritoSteak BurritoChicken BowlChips and Tomatillo-Red Chili SalsaChicken BowlBarbacoa BowlChipsBottled WaterChipsChicken BowlChicken BowlChips and GuacamoleChicken BowlChicken BowlCanned Soft DrinkChips and GuacamoleSteak BurritoSteak Crispy TacosChicken BurritoCarnitas BowlVeggie BowlChicken BurritoSteak BowlChicken Salad BowlCarnitas BurritoCarnitas BowlVeggie BowlChicken BowlChips and GuacamoleChips and Fresh Tomato SalsaChicken BowlVeggie BowlChicken BurritoChicken BurritoSteak BowlSteak BowlSteak BurritoChicken BurritoSteak BowlChips and GuacamoleChicken Soft TacosChicken BowlSide of ChipsChicken BurritoSteak BurritoChips and Roasted Chili-Corn SalsaSteak BurritoChips and Fresh Tomato SalsaCanned Soft DrinkChicken BowlChips and Tomatillo Red Chili SalsaSteak BurritoChicken Soft TacosChicken BurritoChicken BowlVeggie BowlChips and Fresh Tomato SalsaChicken BowlBottled WaterVeggie BurritoBottled WaterCanned Soft DrinkChicken BowlChips and GuacamoleSteak BowlBarbacoa BowlChips and GuacamoleChicken BowlChicken Soft TacosChips and GuacamoleChicken Soft TacosChicken Soft TacosCarnitas Soft TacosSteak BurritoChips and Fresh Tomato SalsaBarbacoa Soft TacosVeggie BurritoChicken BurritoChicken Soft TacosChips and GuacamoleIzzeSteak BowlBottled WaterChips and GuacamoleCarnitas BurritoChicken BurritoCanned Soft DrinkSteak BowlVeggie BurritoBottled WaterChicken BurritoChicken BowlChipsBottled WaterChicken BurritoChips and Tomatillo Red Chili SalsaChicken BowlChicken BurritoChicken BowlChicken Burrito6 Pack Soft DrinkChips and GuacamoleChicken BurritoChicken Salad BowlChipsChicken Salad BowlChicken BowlChips and GuacamoleSteak BurritoChips and Fresh Tomato SalsaSteak BurritoCarnitas Soft TacosSteak BurritoChips and GuacamoleSteak BurritoVeggie BowlChips and Fresh Tomato SalsaChipsChicken BurritoChicken BurritoChicken BowlChipsBottled WaterBarbacoa BurritoChips and GuacamoleChicken BurritoSteak BurritoCanned SodaChicken BurritoChips and GuacamoleCanned Soft DrinkSteak Soft TacosChips and Roasted Chili-Corn SalsaChips and GuacamoleChicken BurritoChicken BurritoSteak Soft TacosBottled WaterChicken BowlSteak BowlChicken BowlChips and GuacamoleSteak BurritoChicken Soft TacosChips and GuacamoleChicken BurritoChicken BurritoSteak BurritoVeggie Salad BowlChicken BowlChicken BurritoChicken BurritoChicken BurritoChips and Tomatillo-Green Chili SalsaNantucket NectarChicken BowlCanned Soft DrinkChips and Fresh Tomato SalsaSteak BowlBottled WaterChicken BowlSide of ChipsChips and GuacamoleChicken BurritoChicken BowlChicken BowlChicken BowlChips and GuacamoleSteak BurritoVeggie BurritoChicken BowlChicken BowlChips and GuacamoleSteak BowlChicken BurritoChicken BowlChicken BurritoChicken BurritoChips and GuacamoleChicken BowlChips and GuacamoleCanned Soft DrinkChicken BowlChicken BowlBottled WaterChipsCarnitas BowlSteak BurritoSteak BowlSteak BowlSteak BowlBottled WaterChicken BurritoCarnitas Soft TacosCanned Soft DrinkChicken BurritoChipsSteak BurritoCanned SodaChips and GuacamoleChicken BurritoSteak BowlChipsChicken BowlChicken BurritoCanned Soft DrinkSteak BowlChipsSteak BurritoChicken BurritoVeggie BurritoVeggie BurritoChips and GuacamoleChicken BurritoSide of ChipsVeggie Salad BowlChicken Salad BowlSteak BurritoChicken Soft TacosSteak Crispy TacosChicken BowlChips and Tomatillo Red Chili SalsaChips and GuacamoleSteak Crispy Tacos6 Pack Soft DrinkCarnitas BowlSteak BowlCanned SodaSteak BurritoSteak BurritoChicken BurritoCarnitas BurritoChicken BowlChipsBottled WaterBarbacoa BurritoSide of ChipsChicken BowlCanned Soft DrinkCarnitas Soft TacosBarbacoa Soft TacosChicken Soft TacosSteak Soft TacosChips and GuacamoleChipsBarbacoa BowlChicken BurritoChicken BurritoChicken BowlBarbacoa BurritoChipsBarbacoa Soft TacosChicken BowlChicken BurritoChipsCanned Soft DrinkChicken BowlCanned Soft DrinkChicken BowlChips and Fresh Tomato SalsaCarnitas BowlVeggie Salad BowlCarnitas BurritoChips and GuacamoleSteak BowlSteak BowlCanned Soft DrinkSteak BowlChipsSteak BowlBottled WaterCanned Soft DrinkVeggie BurritoChips and Tomatillo Red Chili SalsaChicken BowlChicken Soft TacosChicken Soft TacosChicken BurritoChicken BurritoChicken Soft TacosChicken BurritoChipsCanned Soft DrinkChicken BurritoChicken BowlChipsBottled WaterChicken BowlChips and Tomatillo Green Chili SalsaCanned Soft DrinkCarnitas Soft TacosCarnitas Soft TacosChicken BurritoChips and Roasted Chili-Corn SalsaChicken BurritoChips and GuacamoleSteak BurritoChicken BowlChicken BowlChicken BowlSteak BowlChicken BowlSteak BurritoChicken BurritoChicken BowlChicken BowlChicken Salad BowlSteak BowlChicken BurritoSteak BowlChicken BowlSteak BowlChicken BurritoChicken BowlChicken BowlBarbacoa BurritoChicken BurritoSteak BowlVeggie BowlSteak BurritoSteak BurritoChicken BowlChips and Tomatillo Red Chili SalsaCanned Soft DrinkSteak BowlBottled WaterChicken BowlChicken BowlChicken BowlBottled WaterChipsChicken BowlSteak BowlBottled WaterChicken BowlChipsBottled WaterChicken BurritoChips and Roasted Chili Corn SalsaCanned Soft DrinkCanned Soft DrinkSteak BurritoChips and GuacamoleChicken BowlChicken BurritoChips and GuacamoleChicken BowlChipsCanned Soft DrinkChicken BowlSide of ChipsChicken BurritoCanned Soft DrinkChicken BowlCanned Soft DrinkChicken BowlChicken BurritoChicken BowlChicken BurritoSide of ChipsCarnitas BowlSteak BurritoChicken BowlChips and Roasted Chili-Corn SalsaBarbacoa BowlChips and Roasted Chili Corn Salsa6 Pack Soft DrinkChicken Crispy TacosVeggie BowlSteak BurritoChicken BowlNantucket NectarSteak BurritoNantucket NectarCarnitas BurritoChicken BowlVeggie Soft TacosChips and GuacamoleSteak BowlSteak BowlChicken Burrito6 Pack Soft DrinkSteak BurritoChips and Fresh Tomato SalsaVeggie BowlChicken BurritoSteak BurritoChips and GuacamoleChicken BowlChipsBarbacoa BurritoBarbacoa BowlBarbacoa BurritoSteak Salad BowlSteak BowlChicken Salad BowlCarnitas BowlSteak BurritoChicken BowlChicken BowlChicken BowlSide of ChipsBottled WaterChicken BowlBottled WaterChicken BurritoChicken BurritoSteak BowlBottled WaterChicken BurritoSteak Crispy TacosChicken Salad BowlChicken BurritoChipsChicken Crispy TacosChicken Salad BowlChipsVeggie BurritoChips and Tomatillo Red Chili SalsaChips and GuacamoleChicken BowlChicken BowlNantucket NectarChips and Fresh Tomato SalsaSteak BowlChipsBarbacoa Soft TacosSteak BurritoChips and Fresh Tomato SalsaChicken BowlSteak BurritoSteak Salad BowlCanned Soft DrinkBottled WaterBarbacoa Salad BowlCanned SodaVeggie BowlChips and Fresh Tomato SalsaChicken BowlChicken BurritoChicken BowlChicken BowlSteak Soft TacosChicken BowlChicken BowlChips and GuacamoleCarnitas BurritoChicken Soft TacosChicken BurritoSteak BowlBottled WaterBottled WaterChicken BowlSteak Crispy TacosBarbacoa BurritoChicken BurritoChips and GuacamoleChicken Soft TacosChipsSteak BurritoChicken BurritoChips and GuacamoleSide of ChipsVeggie BowlSteak BowlSteak BowlSteak BurritoChips and GuacamoleChicken BowlChips and GuacamoleChicken BowlCanned Soft DrinkSteak BurritoChips and GuacamoleVeggie BurritoChicken BowlChicken BowlSteak BurritoChicken BurritoChicken BowlCarnitas BowlChips and GuacamoleCanned Soft DrinkChicken BurritoSteak BurritoCanned SodaChips and Fresh Tomato SalsaChicken BowlChipsChicken BowlChips and GuacamoleChicken BurritoSide of ChipsChicken BurritoSide of ChipsSteak BurritoChips and GuacamoleChicken BowlChicken Soft TacosChicken Crispy TacosSteak BurritoChicken Soft TacosChicken BowlChicken BowlChips and Fresh Tomato SalsaCanned Soft DrinkChicken Soft TacosChicken Crispy TacosSteak BurritoBarbacoa BowlChicken BowlSteak BurritoCanned SodaBarbacoa BurritoSide of ChipsCarnitas BurritoCanned Soft DrinkChicken BowlChicken BurritoChipsCanned Soft DrinkChicken Soft TacosVeggie BowlSteak BowlChicken BurritoChicken BowlChicken BurritoChicken BurritoChipsCarnitas BowlCanned SodaSide of ChipsChicken BowlChipsCanned Soft DrinkChicken BowlCanned SodaBottled WaterSide of ChipsCarnitas BowlChicken BowlChicken Crispy TacosChips and Tomatillo-Red Chili SalsaCarnitas Soft TacosCanned Soft DrinkCanned Soft DrinkCanned Soft DrinkChicken BowlChicken Crispy TacosCarnitas BowlChips and GuacamoleChicken BowlChips and GuacamoleSteak BurritoCanned SodaChicken Salad BowlChipsVeggie BowlSteak BowlCarnitas BowlVeggie BowlChicken BowlSteak BowlChips and Fresh Tomato SalsaChicken BurritoChips and GuacamoleChicken BowlChips and Tomatillo Red Chili SalsaChips and Tomatillo Red Chili SalsaChicken BowlBottled WaterChicken BurritoChicken BowlCarnitas BurritoChicken BowlChips and GuacamoleCanned SodaBarbacoa BurritoCarnitas BurritoChicken BurritoChips and GuacamoleChicken BurritoChicken BowlChips and GuacamoleChicken BowlCanned Soft DrinkChips and GuacamoleSteak BurritoChicken BurritoChicken BowlChicken BurritoChips and GuacamoleSteak Salad BowlCanned Soft DrinkChips and Roasted Chili Corn SalsaChicken BowlChicken Crispy TacosVeggie BurritoChicken BowlChipsChips and GuacamoleChicken BowlCarnitas Salad BowlChicken BowlChicken BurritoChips and GuacamoleChicken BowlChicken Salad BowlChicken BowlChicken BurritoChicken BurritoIzzeBarbacoa BowlChicken BowlChips and Tomatillo Red Chili SalsaBottled WaterSteak Salad BowlSteak BurritoChips and Fresh Tomato SalsaBottled WaterChicken BowlSteak Crispy TacosChicken BowlChipsBottled WaterChicken BurritoIzzeSteak BowlCanned Soft DrinkChicken BurritoVeggie BurritoCanned Soft DrinkChicken BurritoChips and Tomatillo Green Chili SalsaCanned Soft DrinkChicken BurritoSteak BowlChips and GuacamoleChicken BowlCarnitas BowlChicken BurritoChicken BurritoChips and GuacamoleChicken Crispy TacosChicken BurritoNantucket NectarSteak Soft TacosChips and Tomatillo Green Chili SalsaChips and Tomatillo-Green Chili SalsaChips and Fresh Tomato SalsaChips and GuacamoleSteak BurritoBarbacoa BurritoChicken Soft TacosChicken Soft TacosChicken BowlChicken BowlChips and Tomatillo Red Chili SalsaChips and GuacamoleBarbacoa BowlChicken Crispy TacosChips and GuacamoleChicken BurritoChicken Soft TacosChicken BowlVeggie BowlChips and GuacamoleSteak BurritoChicken BurritoSteak BowlChips and GuacamoleBottled WaterCanned Soft DrinkChicken BurritoChicken BurritoVeggie Salad BowlChicken BowlVeggie BurritoCarnitas BurritoChicken BurritoChips and Fresh Tomato SalsaCanned Soft DrinkChicken BurritoBottled WaterChicken BurritoChips and GuacamoleSteak BurritoChicken Soft TacosChicken BurritoCarnitas BurritoChicken BurritoChips and GuacamoleBottled WaterChicken BowlChicken BowlChicken BurritoSide of ChipsChicken BowlChipsBarbacoa BurritoChipsBottled WaterChicken BowlSteak BowlChips6 Pack Soft DrinkSteak BurritoCarnitas Soft TacosChicken BowlChicken BowlBarbacoa BurritoCarnitas BowlSteak BurritoChicken BurritoChicken BurritoChipsCanned Soft DrinkCarnitas BowlSteak BowlChicken BurritoChicken Salad BowlChips and Fresh Tomato SalsaChicken BurritoChips and GuacamoleSteak Soft TacosCarnitas BowlChips and GuacamoleChicken BurritoChips and GuacamoleChicken BurritoChicken BowlChipsSteak Salad BowlChicken BowlChicken BowlChips and Tomatillo Red Chili SalsaBottled WaterChicken BurritoChipsChicken BowlChicken BowlBarbacoa BowlSteak BowlChipsChicken BurritoSteak BowlBottled WaterVeggie BurritoVeggie SaladChicken BurritoIzzeSteak BurritoChicken BowlChips and GuacamoleBarbacoa BowlChipsChicken Soft TacosChips and GuacamoleCanned Soft DrinkSteak BurritoCanned SodaChicken BurritoChicken BurritoChicken BowlChips and GuacamoleVeggie BowlCanned SodaChicken BurritoChips and Fresh Tomato SalsaChicken BowlChicken BurritoChips and Fresh Tomato SalsaBarbacoa Soft TacosChicken BowlChipsSteak BurritoChips and GuacamoleChips and GuacamoleBarbacoa BurritoBarbacoa Crispy TacosSteak BowlChipsCarnitas BurritoChicken BurritoChicken Burrito6 Pack Soft DrinkChicken BowlVeggie BowlChips and Fresh Tomato SalsaChicken BurritoChips and GuacamoleBottled WaterBarbacoa BowlChipsChicken Soft TacosVeggie BowlSteak Salad BowlChips and GuacamoleBottled WaterCanned Soft DrinkChicken BowlChicken BowlChips and GuacamoleChicken BowlSteak Crispy TacosChicken BowlCanned SodaBottled WaterSide of ChipsSteak BurritoNantucket NectarSteak BurritoSide of ChipsChicken BurritoSteak BurritoBottled WaterSteak BurritoSteak BurritoCanned SodaChicken BowlSide of ChipsChips and GuacamoleChicken Soft TacosCanned SodaChicken BurritoChicken BurritoSteak BurritoChicken BurritoSteak BurritoChicken BowlNantucket NectarSteak BurritoSteak Soft TacosChips and Fresh Tomato SalsaSteak Crispy TacosChicken BowlSteak Soft TacosSteak BurritoSteak BurritoChips and GuacamoleChips and Tomatillo-Green Chili SalsaVeggie BurritoCanned SodaVeggie Soft TacosSteak BurritoNantucket NectarChicken Soft TacosCanned Soft DrinkSteak BowlChips and GuacamoleChicken Salad BowlChips and Guacamole6 Pack Soft DrinkChicken BurritoSteak Crispy TacosChicken Salad BowlChicken BowlChicken BurritoCanned Soft DrinkChicken BowlSteak BowlChips and GuacamoleCanned Soft DrinkChicken BurritoCanned Soft DrinkChipsSteak Crispy TacosSteak BurritoChicken BowlChips and Tomatillo Red Chili SalsaCanned Soft DrinkSteak Soft TacosBottled WaterBottled WaterChicken BurritoChicken Salad BowlCarnitas BurritoSteak BurritoSide of ChipsCarnitas BowlSide of ChipsChicken BurritoChips and GuacamoleIzzeSteak BowlChipsSteak BurritoChips and Fresh Tomato SalsaChicken BowlChicken Salad BowlCarnitas Soft TacosChicken BowlSteak BurritoChicken BurritoChips and GuacamoleVeggie BowlCanned Soft DrinkCanned SodaCanned SodaChips and Roasted Chili-Corn SalsaChicken Crispy TacosSteak BurritoChips and Fresh Tomato SalsaVeggie BurritoChicken Crispy TacosCarnitas BowlCarnitas BowlChicken BowlChips and GuacamoleChipsChicken BowlChicken BowlChips and GuacamoleSteak BowlBottled WaterSteak BowlChicken BurritoBottled WaterCarnitas BowlChips and GuacamoleChips and GuacamoleSteak BowlChipsChicken BowlChicken Soft TacosChips and GuacamoleChicken BurritoBarbacoa BurritoChipsChicken BowlChicken Salad BowlVeggie BowlChicken BowlSteak BowlChicken BowlSteak BurritoSide of ChipsChicken BowlSteak BurritoChicken BurritoChips and GuacamoleNantucket NectarChicken BurritoCarnitas BurritoChicken BowlChicken BurritoSteak BurritoChicken BowlChicken BowlSteak Salad BowlChicken BowlChicken BowlSide of ChipsCanned SodaBarbacoa BurritoSteak Crispy TacosSteak BurritoChicken Crispy TacosBarbacoa BurritoChips and Roasted Chili Corn SalsaChicken SaladChips and GuacamoleSteak BowlChicken BowlChips and Tomatillo-Red Chili SalsaChicken BowlSteak BowlChicken BurritoSteak BowlSteak BowlChicken BurritoCanned Soft DrinkCarnitas BowlBottled WaterChicken BowlChips and GuacamoleChicken BowlChipsBarbacoa BurritoChicken BowlChicken Salad BowlChicken Salad BowlChicken BurritoChips and GuacamoleCanned Soft DrinkSteak BurritoSteak BurritoCanned Soft DrinkVeggie SaladSteak BurritoBottled WaterChicken BowlChips and GuacamoleChicken Salad BowlSteak BowlChicken BowlCarnitas BowlSide of ChipsCanned SodaSteak BowlBarbacoa BurritoChicken Bowl6 Pack Soft DrinkChicken BowlChicken BowlChips and GuacamoleSteak BurritoSide of ChipsSteak BowlBarbacoa BowlCanned Soft DrinkChicken BowlCanned SodaBottled WaterSide of ChipsChicken BowlChips and Roasted Chili-Corn SalsaBarbacoa BowlCanned Soft DrinkChicken BurritoSide of ChipsVeggie BurritoSide of ChipsBarbacoa BurritoChips and GuacamoleChicken Salad BowlChicken BowlChips and GuacamoleVeggie BurritoVeggie BurritoChicken BowlChicken BowlChips and GuacamoleChicken Crispy TacosBottled WaterChicken Soft TacosChips and GuacamoleChicken SaladChips and GuacamoleSteak BowlChips and GuacamoleChicken BurritoChips and GuacamoleChicken BowlChips and Tomatillo-Red Chili SalsaChicken BowlChips and Roasted Chili-Corn SalsaChips and GuacamoleVeggie BurritoCanned Soft DrinkChicken BowlChips and GuacamoleBarbacoa BurritoChips and GuacamoleCanned SodaSteak BurritoChips and GuacamoleChicken BowlChips and GuacamoleCarnitas Soft TacosChicken BowlChicken Salad BowlChicken BowlChicken Soft TacosChicken Crispy TacosChicken BowlChicken BowlSteak Crispy TacosChicken BowlChicken Crispy TacosChicken Crispy TacosChips and GuacamoleChicken BowlSteak BowlVeggie BowlSteak BowlChips and GuacamoleSteak Crispy TacosChips and Fresh Tomato SalsaChicken BowlSide of ChipsCanned Soft DrinkChips and GuacamoleSteak BowlBottled WaterChicken BowlSteak BurritoVeggie BowlChipsChicken BurritoSteak Salad BowlChicken Crispy TacosChips and GuacamoleChicken BowlChips and Fresh Tomato SalsaCarnitas BowlSide of ChipsSteak Soft TacosChips and GuacamoleChicken BowlSide of ChipsSteak BurritoChips and Fresh Tomato SalsaChicken BurritoSide of ChipsVeggie BurritoChips and GuacamoleCarnitas Salad BowlSteak BurritoChicken Salad BowlChicken BurritoChips and GuacamoleSteak Salad BowlChips and GuacamoleChips and GuacamoleChicken BurritoChicken BowlChicken BurritoChipsChicken BurritoCanned Soft DrinkSteak BurritoChicken BurritoChips and Guacamole6 Pack Soft DrinkChicken BowlSteak BurritoCanned Soft DrinkChips and Tomatillo Red Chili SalsaChips and GuacamoleChicken BurritoChicken BurritoSteak Burrito6 Pack Soft DrinkSteak BowlChips and Tomatillo-Green Chili SalsaSteak BowlCanned SodaVeggie BowlChips and GuacamoleVeggie BowlBarbacoa BurritoSide of ChipsChicken BowlCanned SodaSteak BurritoSteak BowlChips and Fresh Tomato SalsaBarbacoa BurritoSide of ChipsChips and GuacamoleCanned Soft DrinkChicken Soft TacosSteak BurritoCanned SodaVeggie SaladVeggie BurritoVeggie BowlChips and GuacamoleChicken Salad BowlChicken BurritoSteak BurritoChicken BurritoChips and Tomatillo-Red Chili SalsaChicken BowlChips and GuacamoleChicken BowlChicken Salad BowlSteak BurritoChicken BowlChicken BowlChicken BowlChicken BowlSteak BurritoChicken BowlChips and GuacamoleBarbacoa Soft TacosChicken BowlCanned Soft DrinkChipsSteak BurritoChips and GuacamoleSteak BowlChipsChicken Crispy TacosSteak BurritoChips and Roasted Chili-Corn SalsaBarbacoa BowlSteak BowlSteak BurritoChips and Fresh Tomato SalsaSteak BurritoBottled WaterSteak BowlChips and GuacamoleBottled WaterSteak BurritoSteak Soft TacosChips and Roasted Chili-Corn SalsaChicken BowlBarbacoa Salad BowlChipsCanned Soft DrinkBarbacoa Soft TacosChips and GuacamoleChicken BowlChicken BowlChicken BowlChips and GuacamoleChicken BowlChipsChips and GuacamoleChicken BowlCanned SodaChips and GuacamoleVeggie Salad BowlChicken BowlChicken BowlChips and Fresh Tomato SalsaSteak BurritoChips and Fresh Tomato SalsaChicken BowlChipsChicken BurritoChips and Fresh Tomato SalsaCanned Soft DrinkVeggie BurritoVeggie BurritoChicken BurritoSteak BurritoSteak BowlChicken BowlChicken Crispy TacosChips and GuacamoleCanned Soft DrinkChicken Soft TacosCarnitas BowlBarbacoa BowlSide of ChipsSteak BurritoSide of ChipsChicken BowlCanned Soft DrinkSteak BurritoCarnitas BurritoBarbacoa BowlCanned SodaChicken BurritoChicken BurritoChips and Tomatillo Green Chili SalsaCanned Soft DrinkChicken Salad BowlCanned Soft DrinkChicken Salad BowlChicken BowlChipsCanned Soft DrinkChicken BowlChips and GuacamoleChicken BurritoChips and Roasted Chili-Corn SalsaChicken BowlChips and Tomatillo-Red Chili SalsaChicken BurritoChips and GuacamoleSteak BurritoVeggie BurritoVeggie BowlBarbacoa BurritoChicken BowlSteak BowlChicken Soft TacosChips and GuacamoleBottled WaterChicken BowlChicken BowlChicken BowlChicken BowlChips and GuacamoleSteak BowlChips and GuacamoleChicken BurritoChicken Soft TacosChipsChips and Tomatillo Red Chili SalsaVeggie Salad BowlBottled WaterSteak BurritoChicken BurritoChips and GuacamoleChicken BowlChicken BowlChicken BurritoBarbacoa BurritoChicken BowlChipsCanned Soft DrinkChicken BowlChipsCanned Soft DrinkCarnitas Soft TacosChicken Crispy TacosChicken Salad BowlChicken BowlCanned Soft DrinkSteak BurritoBottled WaterChicken Salad BowlChicken BurritoChips and GuacamoleNantucket NectarChicken BurritoChips and Tomatillo-Green Chili SalsaBarbacoa Crispy TacosBottled WaterChicken BowlChicken Crispy TacosChicken BowlChicken BowlChipsChicken BowlChipsCanned Soft DrinkChicken BurritoChicken BurritoSide of ChipsSteak BowlSteak BowlBottled WaterSteak BowlCarnitas BowlSteak BurritoCarnitas Soft TacosCarnitas Soft TacosChicken BurritoChicken BowlChicken BurritoBarbacoa BurritoChicken BowlChicken BurritoChipsCanned Soft DrinkSteak Salad BowlVeggie BurritoSteak BurritoChips and GuacamoleSteak BowlSteak BowlBarbacoa Salad BowlChicken BowlChips and Tomatillo-Red Chili SalsaChicken BowlSide of ChipsBottled WaterSteak BurritoChicken SaladCanned SodaChicken BowlCanned Soft DrinkVeggie BurritoNantucket NectarChicken BurritoChips and GuacamoleChicken BurritoChicken Crispy TacosChicken BurritoSide of ChipsChicken BurritoBarbacoa BowlSteak BurritoSteak BurritoCanned Soft DrinkChicken Salad BowlChicken Salad BowlChicken BurritoChicken BowlChicken BowlCanned Soft DrinkCanned Soft DrinkCanned Soft DrinkChicken Burrito6 Pack Soft DrinkSteak BurritoBarbacoa BurritoChips and GuacamoleChicken BowlBarbacoa BowlChicken BowlChicken BowlVeggie BowlChips and Roasted Chili-Corn SalsaSteak BurritoChicken BurritoChicken BurritoChips and Tomatillo Green Chili SalsaBottled WaterVeggie BurritoChips and Fresh Tomato SalsaSteak Crispy TacosChips and Fresh Tomato SalsaSteak BowlChicken BowlChicken Salad BowlChicken Salad BowlVeggie BowlChips and GuacamoleChicken BurritoCanned Soft DrinkChicken BurritoChips and Fresh Tomato SalsaCanned Soft DrinkSteak BurritoBarbacoa BurritoCarnitas Burrito6 Pack Soft DrinkChicken BowlChicken BowlSide of ChipsChicken BurritoChips and GuacamoleChicken BowlChips and Tomatillo Red Chili SalsaChips and Tomatillo Red Chili SalsaChicken BurritoSteak BowlSteak BurritoCanned SodaChicken BurritoChips and GuacamoleCanned Soft DrinkChicken BowlSteak Crispy TacosChicken BowlCarnitas BurritoChicken Salad BowlBottled WaterChicken BowlChipsChicken BurritoChicken BurritoSteak BowlChips and Roasted Chili Corn SalsaChicken BurritoChicken BowlSteak Soft TacosChicken BurritoSteak BurritoChicken Soft TacosChicken BowlChicken BowlCanned Soft DrinkChicken BowlBottled WaterChipsChicken BurritoChicken BurritoChicken BowlChicken BurritoChicken BurritoChicken BowlChips and GuacamoleVeggie BurritoVeggie BurritoVeggie SaladChicken Crispy TacosSteak Soft TacosSide of ChipsChips and Fresh Tomato SalsaCanned SodaCanned SodaVeggie BurritoChips and Tomatillo Green Chili SalsaCarnitas BowlChicken BowlChips and Tomatillo Red Chili SalsaCanned Soft DrinkChicken BowlChipsSteak BowlChips and GuacamoleChicken BurritoChicken BowlChicken BurritoChips and GuacamoleCanned Soft DrinkSteak Salad BowlChicken BowlChipsCanned Soft DrinkChicken BowlCanned SodaBottled WaterSide of ChipsSteak BurritoSteak SaladSteak Crispy TacosChips and Fresh Tomato SalsaChicken BowlChips and Fresh Tomato SalsaChicken Salad BowlChicken BowlChicken BowlChicken BowlSide of ChipsBarbacoa BurritoChips and Tomatillo Green Chili SalsaChicken BowlChicken BowlChicken BurritoSteak BurritoChicken Soft TacosChicken BurritoChicken BurritoChicken BurritoChips and Tomatillo Green Chili SalsaBottled WaterCanned Soft DrinkCarnitas BowlChips and GuacamoleSteak BurritoChicken BurritoCarnitas BurritoSteak BurritoChips and GuacamoleSteak BurritoSide of ChipsChips and GuacamoleSteak BurritoChicken BowlChips and GuacamoleChipsChicken BurritoSteak BurritoChips and GuacamoleVeggie BurritoCanned Soft DrinkChicken BurritoChicken BowlBarbacoa Salad BowlBarbacoa BowlBarbacoa Soft TacosBarbacoa BowlChicken BowlChipsBottled WaterSteak BurritoChips and GuacamoleChips and GuacamoleSteak BurritoChicken BurritoChips and Tomatillo-Red Chili SalsaCanned Soft DrinkChips and Tomatillo Green Chili SalsaChicken BowlChips and Tomatillo Green Chili SalsaSteak BurritoSteak BurritoSteak BurritoChicken BurritoChipsSteak BurritoSteak Soft TacosNantucket NectarChicken BurritoChicken Soft TacosChips and Tomatillo-Green Chili SalsaChicken BurritoCanned SodaCanned SodaChicken BurritoChicken Salad BowlCanned Soft DrinkSteak BowlBottled WaterChicken BowlChipsBottled WaterChips and GuacamoleChicken BowlChicken BowlChipsBottled WaterChicken BurritoChicken BowlCanned SodaChicken Crispy TacosChipsBottled WaterChips and GuacamoleSteak Soft TacosChips and Fresh Tomato SalsaBottled Water6 Pack Soft DrinkVeggie BurritoChicken BurritoSteak BurritoBottled WaterChicken BowlSteak Crispy TacosChicken BowlChips and Fresh Tomato SalsaCanned Soft DrinkChicken Soft TacosChips and GuacamoleChicken BowlChicken Burrito6 Pack Soft DrinkChicken BurritoSteak BurritoVeggie BowlChicken BowlCarnitas BurritoCarnitas Soft TacosChicken Soft TacosSteak BurritoChicken Salad BowlChips and Tomatillo Green Chili SalsaSteak Soft TacosChips and Tomatillo-Green Chili SalsaSteak BurritoChips and Roasted Chili-Corn SalsaChicken BurritoChips and GuacamoleChicken Crispy TacosBarbacoa Burrito6 Pack Soft DrinkChicken BurritoChicken Soft TacosChicken BurritoChicken Soft TacosChicken Crispy TacosChicken BowlChicken Salad BowlChipsCanned Soft DrinkSteak BurritoChicken BurritoChipsBottled WaterChicken BowlChipsSteak BurritoChips and Tomatillo-Red Chili SalsaChicken BowlChicken BowlChipsChicken BowlChicken BowlChicken Salad BowlChips and Tomatillo-Green Chili SalsaChicken Soft TacosVeggie BowlChips and Tomatillo-Red Chili SalsaSteak BurritoChips and Fresh Tomato SalsaChicken BowlChicken BowlChips and GuacamoleSteak BowlBottled WaterSteak BurritoIzzeSteak BurritoChips and GuacamoleChicken BowlChicken BowlChicken BurritoChicken BowlCanned Soft DrinkVeggie BowlSteak BurritoChips and GuacamoleChicken BowlChicken Salad BowlSteak BurritoCanned SodaChicken BowlChicken BowlSide of ChipsChicken Salad BowlCarnitas Soft TacosChicken BurritoChicken BowlChips and GuacamoleChicken Burrito6 Pack Soft DrinkSteak Crispy TacosCarnitas Soft TacosBarbacoa BurritoChicken BurritoChips and GuacamoleCanned Soft DrinkChicken BowlSteak BowlChicken BurritoSteak BowlSteak BurritoSteak Soft TacosChicken Salad BowlSteak BowlChicken BowlChicken BowlSteak Soft TacosCarnitas BowlChicken Salad BowlSteak BowlChicken BurritoCanned SodaCanned SodaChicken BowlCanned SodaSide of ChipsChicken BowlCanned Soft DrinkChicken BowlChipsBottled WaterChicken BowlSide of ChipsCanned Soft DrinkChicken BowlChips and Tomatillo Red Chili SalsaChicken SaladChips and GuacamoleChicken BurritoChicken SaladChicken BurritoVeggie BowlChipsBottled WaterSteak BowlSteak BurritoCanned SodaChicken BowlChicken BowlChicken BowlCanned Soft DrinkVeggie BowlChips and GuacamoleChips and GuacamoleCanned Soft DrinkCarnitas Salad BowlCarnitas SaladSteak BurritoChicken BurritoChips and GuacamoleSteak BowlVeggie BurritoChips and GuacamoleCarnitas BurritoChips and GuacamoleChips and GuacamoleSteak BurritoChicken BurritoChips and GuacamoleChicken BurritoChicken BurritoSteak Burrito6 Pack Soft DrinkChicken BurritoChips and GuacamoleChicken BurritoChips and Fresh Tomato SalsaBottled WaterChicken BurritoChicken BowlChicken BurritoChips and GuacamoleVeggie BurritoChicken BowlSteak Crispy TacosChicken BurritoChips and Roasted Chili Corn SalsaChicken BowlChips and GuacamoleBottled WaterCanned Soft DrinkChips and Fresh Tomato SalsaBarbacoa BurritoSteak BowlChips and Tomatillo-Green Chili Salsa6 Pack Soft DrinkChicken Salad BowlChips and GuacamoleCarnitas BowlCanned SodaChicken BurritoBarbacoa BurritoSteak Soft TacosChicken Salad BowlChicken Salad BowlSteak BurritoChicken Salad BowlChicken BowlCanned Soft DrinkCarnitas BurritoChips and GuacamoleSteak Burrito6 Pack Soft DrinkSteak BurritoSteak BowlBarbacoa BurritoChips and Tomatillo-Green Chili SalsaChicken BowlChicken BowlBarbacoa BurritoCarnitas Soft TacosCanned Soft DrinkChicken Crispy TacosChips and Tomatillo Green Chili SalsaSteak BurritoChipsVeggie BowlVeggie BurritoBarbacoa BowlChicken BurritoChicken BurritoChips and GuacamoleChips and Fresh Tomato SalsaBarbacoa BurritoChicken BurritoChicken BurritoChicken BowlChips and GuacamoleChicken BurritoChicken Soft TacosSteak BurritoChicken Burrito6 Pack Soft DrinkChips and Fresh Tomato SalsaChicken BowlChicken BowlChipsSteak BurritoSteak BurritoChicken BowlChicken BurritoNantucket NectarSide of ChipsVeggie BurritoChicken BowlChips and GuacamoleChicken BowlChips and GuacamoleChicken BurritoChicken BowlChicken BurritoChipsSteak BowlChips and GuacamoleChicken BurritoSteak BurritoChicken Soft TacosSteak BurritoBottled WaterChicken BowlChipsSteak BowlCanned SodaChips and GuacamoleChicken BowlBottled WaterSteak Soft TacosChips and Tomatillo-Green Chili SalsaSteak BurritoBottled WaterChicken Bowl6 Pack Soft DrinkChips and GuacamoleVeggie BowlChicken BurritoChips and GuacamoleCanned Soft DrinkChicken BurritoCarnitas BurritoChips and GuacamoleSteak BurritoChicken Bowl6 Pack Soft DrinkSide of ChipsChicken Soft TacosVeggie Soft TacosCarnitas Crispy TacosChicken Crispy TacosChicken BowlChicken BowlChicken BowlChicken BowlChicken BurritoCanned SodaSide of ChipsCanned Soft DrinkSteak Soft TacosChips and Tomatillo Green Chili SalsaBarbacoa BurritoChicken BurritoChicken BurritoChips and Roasted Chili-Corn SalsaChicken BurritoChips and Fresh Tomato SalsaChicken BowlSteak BurritoSteak Soft TacosSide of ChipsVeggie BurritoChicken BowlChicken BurritoChicken BowlChips and GuacamoleChips and GuacamoleChicken BurritoChicken BurritoChips and GuacamoleChicken BowlChipsBottled WaterBottled WaterSteak BowlCanned SodaChicken BowlChips and GuacamoleChicken BowlChicken BowlChicken BowlChipsChicken BowlSide of ChipsBottled WaterCanned SodaChicken BowlChipsBottled WaterCarnitas Soft TacosChicken BurritoChips and GuacamoleChicken BowlChipsCanned Soft DrinkSteak Crispy TacosChips and Fresh Tomato SalsaChicken BurritoChips and GuacamoleSteak Crispy TacosChips and Fresh Tomato SalsaChips and GuacamoleSteak BurritoVeggie BurritoChicken BurritoChicken BurritoChicken BurritoSteak BurritoChicken BurritoChips and GuacamoleChicken BurritoCanned Soft DrinkSteak BurritoChicken BurritoChips and GuacamoleChips and Fresh Tomato SalsaChicken BurritoChicken BowlChicken BurritoSteak BurritoSteak BowlSteak BurritoCanned Soft DrinkChicken Salad BowlChips and Tomatillo Green Chili SalsaChicken BowlChicken BowlChips and Fresh Tomato SalsaChicken BowlChipsBottled WaterChicken SaladChips and Fresh Tomato SalsaSteak BowlChipsCanned Soft DrinkChicken BurritoSteak BurritoChicken SaladChicken BurritoChicken BurritoChips and Tomatillo Green Chili SalsaCanned Soft DrinkSteak Crispy TacosChips and Tomatillo Green Chili SalsaChicken BowlChicken Salad BowlChicken BowlChicken BowlSteak BurritoBottled WaterBarbacoa BurritoSteak BurritoChips and GuacamoleChicken BowlChips and GuacamoleChips and Tomatillo-Green Chili SalsaCanned SodaSteak BurritoChicken BowlChicken BowlChicken Salad BowlChicken BowlSteak Crispy TacosChips and GuacamoleCanned Soft DrinkChicken Soft TacosVeggie BurritoNantucket NectarChicken BurritoSteak BowlChips and GuacamoleCanned Soft DrinkChicken BowlChipsChips and GuacamoleCanned Soft DrinkSteak BowlChips and GuacamoleChicken Soft TacosChipsSteak BowlSteak BurritoCanned Soft DrinkChicken Salad BowlSteak Salad BowlChicken BurritoSteak Soft TacosBarbacoa BurritoChips and Tomatillo Red Chili SalsaCarnitas BurritoChips and GuacamoleCanned Soft DrinkCarnitas BowlChicken BowlBarbacoa BowlBottled WaterChicken BowlChips and GuacamoleSteak BowlCanned SodaSteak Soft TacosChips and Fresh Tomato SalsaSteak BowlSide of ChipsBarbacoa BowlSide of ChipsChicken BowlChips and GuacamoleChicken BowlChicken BurritoChips and GuacamoleChicken BowlChicken Salad BowlChips and Fresh Tomato SalsaBottled WaterChicken BurritoSteak BurritoBottled WaterSide of ChipsChicken BowlChicken BurritoChips and Fresh Tomato SalsaCanned Soft DrinkChicken BowlChips and GuacamoleChicken BowlNantucket NectarChicken Salad BowlVeggie BowlChipsSteak BowlVeggie BurritoVeggie SaladChicken Salad BowlBottled WaterChicken BowlChips and Tomatillo-Red Chili SalsaSteak BurritoChips and Fresh Tomato SalsaSteak BurritoChips and GuacamoleChicken BurritoSteak BurritoCarnitas Soft TacosChicken BowlChips and GuacamoleCanned Soft DrinkChicken BowlChips and GuacamoleSteak BurritoChips and Fresh Tomato SalsaCanned Soft DrinkChips and GuacamoleChicken BowlCanned Soft DrinkBottled WaterSteak BurritoVeggie Salad BowlChicken BowlChicken BowlChicken BowlSteak BurritoChicken BurritoChips and GuacamoleChicken Crispy TacosSteak BurritoChicken Soft TacosChicken Soft TacosChips and GuacamoleChicken BowlCanned Soft DrinkChipsChicken BowlChicken BurritoChipsChicken BowlCanned Soft DrinkChips and Tomatillo Green Chili SalsaSteak Soft TacosChips and Tomatillo Red Chili SalsaChips and GuacamoleChicken BowlVeggie BurritoBarbacoa BowlCarnitas Soft TacosBottled WaterSteak BurritoCanned Soft DrinkBarbacoa BowlCarnitas BurritoCanned Soft DrinkCanned Soft DrinkSteak BowlChips and GuacamoleChicken BurritoCarnitas Soft TacosChicken BurritoChipsCanned Soft DrinkChicken BowlBottled WaterVeggie BowlChips and GuacamoleChips and GuacamoleChips and Tomatillo Red Chili SalsaChicken BowlChipsCanned Soft DrinkBottled WaterChicken BurritoChicken Soft TacosChips and Fresh Tomato SalsaChicken BurritoCanned Soft DrinkChipsChicken BowlCarnitas Bowl6 Pack Soft DrinkCanned Soft DrinkChicken BurritoChipsChicken Bowl6 Pack Soft DrinkChicken BurritoBottled WaterVeggie BowlChips and GuacamoleChicken BurritoChips and GuacamoleSteak Soft TacosBarbacoa Soft TacosCanned Soft DrinkCanned Soft DrinkChicken BowlBottled WaterChicken BowlCanned Soft DrinkBottled WaterSteak BowlChipsChicken BowlChips and GuacamoleChicken BowlChips and GuacamoleChicken BowlChips and GuacamoleSteak BurritoChips and GuacamoleCanned Soft DrinkVeggie Salad BowlChips and GuacamoleChicken BowlChips and GuacamoleChicken Salad BowlChipsChicken Salad BowlChips and GuacamoleChicken BowlSteak BowlBottled WaterChicken BurritoChips and GuacamoleChicken BowlChipsBottled WaterChicken BowlChips and GuacamoleChicken BurritoSteak BowlChicken BowlChicken BurritoChicken Salad BowlVeggie BowlBottled WaterChicken BowlChipsSteak BowlChipsSteak Soft TacosChips and Fresh Tomato SalsaSteak BowlCanned Soft DrinkChips and GuacamoleChicken BowlChicken BowlChips and GuacamoleChicken Salad BowlCarnitas Salad BowlCanned Soft DrinkSteak Salad BowlChips and GuacamoleChicken BowlChipsBottled WaterSteak BurritoChicken Soft TacosSteak BurritoCarnitas BurritoChips and GuacamoleCanned Soft DrinkChicken BurritoSteak BowlChips and Tomatillo Green Chili SalsaChicken BowlChicken BurritoChipsChicken BurritoChicken BowlChicken BowlVeggie Salad BowlSteak BurritoChicken BurritoChipsVeggie BowlChipsSteak BowlSteak BurritoChicken BurritoSteak BurritoBarbacoa Soft TacosChicken BurritoChicken BowlChips and GuacamoleChicken BurritoCanned Soft DrinkChips and GuacamoleVeggie BurritoCanned Soft DrinkChicken BurritoChicken BurritoVeggie BowlChicken BowlCanned Soft DrinkCanned Soft DrinkCanned Soft DrinkSteak Soft TacosBarbacoa BurritoChipsChicken Soft TacosChips and GuacamoleChicken BowlChips and GuacamoleChicken BowlSteak BowlChicken BurritoSteak Soft TacosChips and GuacamoleSteak BurritoChips and GuacamoleCanned Soft DrinkChips and GuacamoleSteak BowlSteak BowlChicken BowlChipsSteak BowlSteak BowlChipsSteak BurritoChicken Soft TacosChips and Tomatillo Red Chili SalsaSteak Salad BowlChips and GuacamoleVeggie BowlChips and GuacamoleSteak BurritoChips and Fresh Tomato SalsaVeggie BurritoChips and Tomatillo Red Chili SalsaChicken BurritoChicken Crispy TacosChicken BowlChips and Fresh Tomato SalsaSteak BurritoCarnitas Soft TacosSteak BurritoChips and Tomatillo Green Chili SalsaChicken BowlChipsSteak BurritoChips and GuacamoleChicken Salad BowlChicken BurritoChicken Salad BowlVeggie BowlChicken BowlChipsCanned Soft DrinkChicken BowlCanned Soft DrinkChicken BowlChips and GuacamoleCanned Soft DrinkChicken BowlChicken Crispy TacosBarbacoa BurritoCanned Soft DrinkChicken Salad BowlChicken BurritoChicken BowlChicken Salad BowlChicken BurritoSteak Soft TacosBarbacoa BurritoCanned Soft DrinkChips and GuacamoleBarbacoa Burrito6 Pack Soft DrinkChips and GuacamoleChicken BurritoChicken Bowl6 Pack Soft DrinkSteak BowlChicken BurritoSteak BowlChicken BowlChipsChicken BowlChips and GuacamoleChicken Crispy TacosChips and GuacamoleChicken BurritoCarnitas BowlChips and GuacamoleCanned Soft DrinkCanned Soft DrinkChicken BowlChicken BurritoBarbacoa BowlChipsSteak BurritoChips and GuacamoleSteak BurritoCanned Soft DrinkCarnitas BurritoSteak BowlChicken Salad BowlChipsBarbacoa Salad BowlSteak Salad BowlChicken BowlCanned Soft DrinkSteak BurritoChips and GuacamoleChicken BowlCanned Soft DrinkChicken BowlCanned Soft DrinkChips and Tomatillo Green Chili SalsaChicken BowlChips and GuacamoleChicken BurritoBottled WaterChips and GuacamoleChips and GuacamoleSteak BurritoChicken BowlChips and Tomatillo Red Chili SalsaCanned Soft DrinkChicken BowlChips and Tomatillo Red Chili SalsaChicken BowlChicken BurritoChicken BurritoChicken BurritoChipsSteak BurritoSteak Salad BowlChips and GuacamoleCarnitas BurritoCanned Soft DrinkChicken BowlChips and GuacamoleChips and Fresh Tomato SalsaChipsSteak BowlCarnitas BowlChipsCanned Soft DrinkSteak BurritoChips and GuacamoleChicken BowlSteak BurritoChicken BowlChicken BowlCarnitas BurritoChicken Soft TacosChicken Salad BowlChips and GuacamoleBarbacoa BowlBottled WaterChicken BowlChicken BowlSteak BurritoSteak BurritoChicken BurritoChips and GuacamoleSteak BowlCarnitas Crispy TacosChips and GuacamoleVeggie BowlChicken Crispy TacosChicken BurritoChipsBottled WaterChicken BurritoChips and GuacamoleSteak BowlChicken BurritoBottled WaterCanned Soft DrinkCanned Soft DrinkCanned Soft DrinkChicken BowlChips and Tomatillo Red Chili SalsaChicken Salad BowlVeggie BowlBottled WaterSteak BowlVeggie BurritoChipsSteak BurritoChicken Soft TacosCarnitas BowlChips and Tomatillo Green Chili SalsaBottled WaterChicken BurritoBottled WaterCanned Soft DrinkChicken BowlCarnitas BurritoChicken BowlChicken BowlBarbacoa BowlChicken BowlCarnitas BurritoChicken BowlChips and GuacamoleCanned Soft DrinkCanned Soft DrinkChicken BurritoChips and Tomatillo Green Chili SalsaCanned Soft DrinkChicken BowlCanned Soft DrinkChipsChicken BowlCanned Soft DrinkCarnitas BowlCanned Soft DrinkChicken Soft TacosChips and Fresh Tomato SalsaCarnitas BowlChipsChicken BowlBottled WaterSteak BurritoChipsBarbacoa BowlChicken BowlChips and GuacamoleCanned Soft DrinkChicken Soft TacosChips and GuacamoleCanned Soft DrinkBottled WaterSteak BowlVeggie BurritoChicken Salad BowlChicken Burrito6 Pack Soft DrinkSteak Crispy TacosChicken BurritoChipsCanned Soft Drink6 Pack Soft DrinkChicken BurritoChips and GuacamoleChicken BurritoChips and GuacamoleChicken BowlChicken BurritoChips and Guacamole6 Pack Soft DrinkSteak BurritoChicken BowlCanned Soft DrinkChips and GuacamoleChicken BowlVeggie Salad BowlBottled WaterChicken BurritoBottled WaterCanned Soft DrinkSteak BurritoSteak Salad BowlChips and GuacamoleSteak Soft TacosChicken Soft TacosChips and GuacamoleCanned Soft DrinkChicken BowlSteak Crispy TacosChicken BowlChicken BurritoCarnitas Soft TacosChicken BurritoChicken BurritoCanned Soft DrinkChicken Salad BowlCarnitas BowlChips and GuacamoleChicken BowlCanned Soft DrinkChicken BurritoChips and GuacamoleBottled WaterChicken BurritoBottled WaterCanned Soft DrinkSteak Salad BowlVeggie Salad BowlChicken BowlChips and GuacamoleChicken BowlCanned Soft DrinkCarnitas BurritoChips and GuacamoleChicken Salad BowlChicken BowlBottled WaterChicken BowlChipsCanned Soft DrinkChicken BowlChicken BowlChips and GuacamoleChicken BowlChicken BowlChicken BowlBarbacoa BurritoCarnitas BowlBarbacoa BowlChicken BowlChips and GuacamoleCanned Soft DrinkBottled WaterChicken BowlChips and GuacamoleCanned Soft DrinkBarbacoa BurritoBarbacoa BurritoChicken BowlChips and GuacamoleCanned Soft DrinkSteak BurritoVeggie BurritoCanned Soft DrinkSteak BurritoVeggie BurritoCarnitas BowlChipsBottled WaterChicken Soft TacosChips and GuacamoleSteak BurritoSteak BurritoChicken Salad BowlChicken Salad BowlChicken Salad Bowl'] to numeric",
          "traceback": [
            "\u001b[0;31m---------------------------------------------------------------------------\u001b[0m",
            "\u001b[0;31mTypeError\u001b[0m                                 Traceback (most recent call last)",
            "\u001b[0;32m<ipython-input-24-58a3da97e38f>\u001b[0m in \u001b[0;36m<cell line: 0>\u001b[0;34m()\u001b[0m\n\u001b[1;32m      1\u001b[0m \u001b[0;31m# Solution 2\u001b[0m\u001b[0;34m\u001b[0m\u001b[0;34m\u001b[0m\u001b[0m\n\u001b[1;32m      2\u001b[0m \u001b[0;34m\u001b[0m\u001b[0m\n\u001b[0;32m----> 3\u001b[0;31m \u001b[0mchipo\u001b[0m\u001b[0;34m.\u001b[0m\u001b[0mgroupby\u001b[0m\u001b[0;34m(\u001b[0m\u001b[0mby\u001b[0m\u001b[0;34m=\u001b[0m\u001b[0;34m[\u001b[0m\u001b[0;34m'order_id'\u001b[0m\u001b[0;34m]\u001b[0m\u001b[0;34m)\u001b[0m\u001b[0;34m.\u001b[0m\u001b[0msum\u001b[0m\u001b[0;34m(\u001b[0m\u001b[0;34m)\u001b[0m\u001b[0;34m.\u001b[0m\u001b[0mmean\u001b[0m\u001b[0;34m(\u001b[0m\u001b[0;34m)\u001b[0m\u001b[0;34m[\u001b[0m\u001b[0;34m'revenue'\u001b[0m\u001b[0;34m]\u001b[0m\u001b[0;34m\u001b[0m\u001b[0;34m\u001b[0m\u001b[0m\n\u001b[0m",
            "\u001b[0;32m/usr/local/lib/python3.11/dist-packages/pandas/core/frame.py\u001b[0m in \u001b[0;36mmean\u001b[0;34m(self, axis, skipna, numeric_only, **kwargs)\u001b[0m\n\u001b[1;32m  11691\u001b[0m         \u001b[0;34m**\u001b[0m\u001b[0mkwargs\u001b[0m\u001b[0;34m,\u001b[0m\u001b[0;34m\u001b[0m\u001b[0;34m\u001b[0m\u001b[0m\n\u001b[1;32m  11692\u001b[0m     ):\n\u001b[0;32m> 11693\u001b[0;31m         \u001b[0mresult\u001b[0m \u001b[0;34m=\u001b[0m \u001b[0msuper\u001b[0m\u001b[0;34m(\u001b[0m\u001b[0;34m)\u001b[0m\u001b[0;34m.\u001b[0m\u001b[0mmean\u001b[0m\u001b[0;34m(\u001b[0m\u001b[0maxis\u001b[0m\u001b[0;34m,\u001b[0m \u001b[0mskipna\u001b[0m\u001b[0;34m,\u001b[0m \u001b[0mnumeric_only\u001b[0m\u001b[0;34m,\u001b[0m \u001b[0;34m**\u001b[0m\u001b[0mkwargs\u001b[0m\u001b[0;34m)\u001b[0m\u001b[0;34m\u001b[0m\u001b[0;34m\u001b[0m\u001b[0m\n\u001b[0m\u001b[1;32m  11694\u001b[0m         \u001b[0;32mif\u001b[0m \u001b[0misinstance\u001b[0m\u001b[0;34m(\u001b[0m\u001b[0mresult\u001b[0m\u001b[0;34m,\u001b[0m \u001b[0mSeries\u001b[0m\u001b[0;34m)\u001b[0m\u001b[0;34m:\u001b[0m\u001b[0;34m\u001b[0m\u001b[0;34m\u001b[0m\u001b[0m\n\u001b[1;32m  11695\u001b[0m             \u001b[0mresult\u001b[0m \u001b[0;34m=\u001b[0m \u001b[0mresult\u001b[0m\u001b[0;34m.\u001b[0m\u001b[0m__finalize__\u001b[0m\u001b[0;34m(\u001b[0m\u001b[0mself\u001b[0m\u001b[0;34m,\u001b[0m \u001b[0mmethod\u001b[0m\u001b[0;34m=\u001b[0m\u001b[0;34m\"mean\"\u001b[0m\u001b[0;34m)\u001b[0m\u001b[0;34m\u001b[0m\u001b[0;34m\u001b[0m\u001b[0m\n",
            "\u001b[0;32m/usr/local/lib/python3.11/dist-packages/pandas/core/generic.py\u001b[0m in \u001b[0;36mmean\u001b[0;34m(self, axis, skipna, numeric_only, **kwargs)\u001b[0m\n\u001b[1;32m  12418\u001b[0m         \u001b[0;34m**\u001b[0m\u001b[0mkwargs\u001b[0m\u001b[0;34m,\u001b[0m\u001b[0;34m\u001b[0m\u001b[0;34m\u001b[0m\u001b[0m\n\u001b[1;32m  12419\u001b[0m     ) -> Series | float:\n\u001b[0;32m> 12420\u001b[0;31m         return self._stat_function(\n\u001b[0m\u001b[1;32m  12421\u001b[0m             \u001b[0;34m\"mean\"\u001b[0m\u001b[0;34m,\u001b[0m \u001b[0mnanops\u001b[0m\u001b[0;34m.\u001b[0m\u001b[0mnanmean\u001b[0m\u001b[0;34m,\u001b[0m \u001b[0maxis\u001b[0m\u001b[0;34m,\u001b[0m \u001b[0mskipna\u001b[0m\u001b[0;34m,\u001b[0m \u001b[0mnumeric_only\u001b[0m\u001b[0;34m,\u001b[0m \u001b[0;34m**\u001b[0m\u001b[0mkwargs\u001b[0m\u001b[0;34m\u001b[0m\u001b[0;34m\u001b[0m\u001b[0m\n\u001b[1;32m  12422\u001b[0m         )\n",
            "\u001b[0;32m/usr/local/lib/python3.11/dist-packages/pandas/core/generic.py\u001b[0m in \u001b[0;36m_stat_function\u001b[0;34m(self, name, func, axis, skipna, numeric_only, **kwargs)\u001b[0m\n\u001b[1;32m  12375\u001b[0m         \u001b[0mvalidate_bool_kwarg\u001b[0m\u001b[0;34m(\u001b[0m\u001b[0mskipna\u001b[0m\u001b[0;34m,\u001b[0m \u001b[0;34m\"skipna\"\u001b[0m\u001b[0;34m,\u001b[0m \u001b[0mnone_allowed\u001b[0m\u001b[0;34m=\u001b[0m\u001b[0;32mFalse\u001b[0m\u001b[0;34m)\u001b[0m\u001b[0;34m\u001b[0m\u001b[0;34m\u001b[0m\u001b[0m\n\u001b[1;32m  12376\u001b[0m \u001b[0;34m\u001b[0m\u001b[0m\n\u001b[0;32m> 12377\u001b[0;31m         return self._reduce(\n\u001b[0m\u001b[1;32m  12378\u001b[0m             \u001b[0mfunc\u001b[0m\u001b[0;34m,\u001b[0m \u001b[0mname\u001b[0m\u001b[0;34m=\u001b[0m\u001b[0mname\u001b[0m\u001b[0;34m,\u001b[0m \u001b[0maxis\u001b[0m\u001b[0;34m=\u001b[0m\u001b[0maxis\u001b[0m\u001b[0;34m,\u001b[0m \u001b[0mskipna\u001b[0m\u001b[0;34m=\u001b[0m\u001b[0mskipna\u001b[0m\u001b[0;34m,\u001b[0m \u001b[0mnumeric_only\u001b[0m\u001b[0;34m=\u001b[0m\u001b[0mnumeric_only\u001b[0m\u001b[0;34m\u001b[0m\u001b[0;34m\u001b[0m\u001b[0m\n\u001b[1;32m  12379\u001b[0m         )\n",
            "\u001b[0;32m/usr/local/lib/python3.11/dist-packages/pandas/core/frame.py\u001b[0m in \u001b[0;36m_reduce\u001b[0;34m(self, op, name, axis, skipna, numeric_only, filter_type, **kwds)\u001b[0m\n\u001b[1;32m  11560\u001b[0m         \u001b[0;31m# After possibly _get_data and transposing, we are now in the\u001b[0m\u001b[0;34m\u001b[0m\u001b[0;34m\u001b[0m\u001b[0m\n\u001b[1;32m  11561\u001b[0m         \u001b[0;31m#  simple case where we can use BlockManager.reduce\u001b[0m\u001b[0;34m\u001b[0m\u001b[0;34m\u001b[0m\u001b[0m\n\u001b[0;32m> 11562\u001b[0;31m         \u001b[0mres\u001b[0m \u001b[0;34m=\u001b[0m \u001b[0mdf\u001b[0m\u001b[0;34m.\u001b[0m\u001b[0m_mgr\u001b[0m\u001b[0;34m.\u001b[0m\u001b[0mreduce\u001b[0m\u001b[0;34m(\u001b[0m\u001b[0mblk_func\u001b[0m\u001b[0;34m)\u001b[0m\u001b[0;34m\u001b[0m\u001b[0;34m\u001b[0m\u001b[0m\n\u001b[0m\u001b[1;32m  11563\u001b[0m         \u001b[0mout\u001b[0m \u001b[0;34m=\u001b[0m \u001b[0mdf\u001b[0m\u001b[0;34m.\u001b[0m\u001b[0m_constructor_from_mgr\u001b[0m\u001b[0;34m(\u001b[0m\u001b[0mres\u001b[0m\u001b[0;34m,\u001b[0m \u001b[0maxes\u001b[0m\u001b[0;34m=\u001b[0m\u001b[0mres\u001b[0m\u001b[0;34m.\u001b[0m\u001b[0maxes\u001b[0m\u001b[0;34m)\u001b[0m\u001b[0;34m.\u001b[0m\u001b[0miloc\u001b[0m\u001b[0;34m[\u001b[0m\u001b[0;36m0\u001b[0m\u001b[0;34m]\u001b[0m\u001b[0;34m\u001b[0m\u001b[0;34m\u001b[0m\u001b[0m\n\u001b[1;32m  11564\u001b[0m         \u001b[0;32mif\u001b[0m \u001b[0mout_dtype\u001b[0m \u001b[0;32mis\u001b[0m \u001b[0;32mnot\u001b[0m \u001b[0;32mNone\u001b[0m \u001b[0;32mand\u001b[0m \u001b[0mout\u001b[0m\u001b[0;34m.\u001b[0m\u001b[0mdtype\u001b[0m \u001b[0;34m!=\u001b[0m \u001b[0;34m\"boolean\"\u001b[0m\u001b[0;34m:\u001b[0m\u001b[0;34m\u001b[0m\u001b[0;34m\u001b[0m\u001b[0m\n",
            "\u001b[0;32m/usr/local/lib/python3.11/dist-packages/pandas/core/internals/managers.py\u001b[0m in \u001b[0;36mreduce\u001b[0;34m(self, func)\u001b[0m\n\u001b[1;32m   1498\u001b[0m         \u001b[0mres_blocks\u001b[0m\u001b[0;34m:\u001b[0m \u001b[0mlist\u001b[0m\u001b[0;34m[\u001b[0m\u001b[0mBlock\u001b[0m\u001b[0;34m]\u001b[0m \u001b[0;34m=\u001b[0m \u001b[0;34m[\u001b[0m\u001b[0;34m]\u001b[0m\u001b[0;34m\u001b[0m\u001b[0;34m\u001b[0m\u001b[0m\n\u001b[1;32m   1499\u001b[0m         \u001b[0;32mfor\u001b[0m \u001b[0mblk\u001b[0m \u001b[0;32min\u001b[0m \u001b[0mself\u001b[0m\u001b[0;34m.\u001b[0m\u001b[0mblocks\u001b[0m\u001b[0;34m:\u001b[0m\u001b[0;34m\u001b[0m\u001b[0;34m\u001b[0m\u001b[0m\n\u001b[0;32m-> 1500\u001b[0;31m             \u001b[0mnbs\u001b[0m \u001b[0;34m=\u001b[0m \u001b[0mblk\u001b[0m\u001b[0;34m.\u001b[0m\u001b[0mreduce\u001b[0m\u001b[0;34m(\u001b[0m\u001b[0mfunc\u001b[0m\u001b[0;34m)\u001b[0m\u001b[0;34m\u001b[0m\u001b[0;34m\u001b[0m\u001b[0m\n\u001b[0m\u001b[1;32m   1501\u001b[0m             \u001b[0mres_blocks\u001b[0m\u001b[0;34m.\u001b[0m\u001b[0mextend\u001b[0m\u001b[0;34m(\u001b[0m\u001b[0mnbs\u001b[0m\u001b[0;34m)\u001b[0m\u001b[0;34m\u001b[0m\u001b[0;34m\u001b[0m\u001b[0m\n\u001b[1;32m   1502\u001b[0m \u001b[0;34m\u001b[0m\u001b[0m\n",
            "\u001b[0;32m/usr/local/lib/python3.11/dist-packages/pandas/core/internals/blocks.py\u001b[0m in \u001b[0;36mreduce\u001b[0;34m(self, func)\u001b[0m\n\u001b[1;32m    402\u001b[0m         \u001b[0;32massert\u001b[0m \u001b[0mself\u001b[0m\u001b[0;34m.\u001b[0m\u001b[0mndim\u001b[0m \u001b[0;34m==\u001b[0m \u001b[0;36m2\u001b[0m\u001b[0;34m\u001b[0m\u001b[0;34m\u001b[0m\u001b[0m\n\u001b[1;32m    403\u001b[0m \u001b[0;34m\u001b[0m\u001b[0m\n\u001b[0;32m--> 404\u001b[0;31m         \u001b[0mresult\u001b[0m \u001b[0;34m=\u001b[0m \u001b[0mfunc\u001b[0m\u001b[0;34m(\u001b[0m\u001b[0mself\u001b[0m\u001b[0;34m.\u001b[0m\u001b[0mvalues\u001b[0m\u001b[0;34m)\u001b[0m\u001b[0;34m\u001b[0m\u001b[0;34m\u001b[0m\u001b[0m\n\u001b[0m\u001b[1;32m    405\u001b[0m \u001b[0;34m\u001b[0m\u001b[0m\n\u001b[1;32m    406\u001b[0m         \u001b[0;32mif\u001b[0m \u001b[0mself\u001b[0m\u001b[0;34m.\u001b[0m\u001b[0mvalues\u001b[0m\u001b[0;34m.\u001b[0m\u001b[0mndim\u001b[0m \u001b[0;34m==\u001b[0m \u001b[0;36m1\u001b[0m\u001b[0;34m:\u001b[0m\u001b[0;34m\u001b[0m\u001b[0;34m\u001b[0m\u001b[0m\n",
            "\u001b[0;32m/usr/local/lib/python3.11/dist-packages/pandas/core/frame.py\u001b[0m in \u001b[0;36mblk_func\u001b[0;34m(values, axis)\u001b[0m\n\u001b[1;32m  11479\u001b[0m                     \u001b[0;32mreturn\u001b[0m \u001b[0mnp\u001b[0m\u001b[0;34m.\u001b[0m\u001b[0marray\u001b[0m\u001b[0;34m(\u001b[0m\u001b[0;34m[\u001b[0m\u001b[0mresult\u001b[0m\u001b[0;34m]\u001b[0m\u001b[0;34m)\u001b[0m\u001b[0;34m\u001b[0m\u001b[0;34m\u001b[0m\u001b[0m\n\u001b[1;32m  11480\u001b[0m             \u001b[0;32melse\u001b[0m\u001b[0;34m:\u001b[0m\u001b[0;34m\u001b[0m\u001b[0;34m\u001b[0m\u001b[0m\n\u001b[0;32m> 11481\u001b[0;31m                 \u001b[0;32mreturn\u001b[0m \u001b[0mop\u001b[0m\u001b[0;34m(\u001b[0m\u001b[0mvalues\u001b[0m\u001b[0;34m,\u001b[0m \u001b[0maxis\u001b[0m\u001b[0;34m=\u001b[0m\u001b[0maxis\u001b[0m\u001b[0;34m,\u001b[0m \u001b[0mskipna\u001b[0m\u001b[0;34m=\u001b[0m\u001b[0mskipna\u001b[0m\u001b[0;34m,\u001b[0m \u001b[0;34m**\u001b[0m\u001b[0mkwds\u001b[0m\u001b[0;34m)\u001b[0m\u001b[0;34m\u001b[0m\u001b[0;34m\u001b[0m\u001b[0m\n\u001b[0m\u001b[1;32m  11482\u001b[0m \u001b[0;34m\u001b[0m\u001b[0m\n\u001b[1;32m  11483\u001b[0m         \u001b[0;32mdef\u001b[0m \u001b[0m_get_data\u001b[0m\u001b[0;34m(\u001b[0m\u001b[0;34m)\u001b[0m \u001b[0;34m->\u001b[0m \u001b[0mDataFrame\u001b[0m\u001b[0;34m:\u001b[0m\u001b[0;34m\u001b[0m\u001b[0;34m\u001b[0m\u001b[0m\n",
            "\u001b[0;32m/usr/local/lib/python3.11/dist-packages/pandas/core/nanops.py\u001b[0m in \u001b[0;36mf\u001b[0;34m(values, axis, skipna, **kwds)\u001b[0m\n\u001b[1;32m    145\u001b[0m                     \u001b[0mresult\u001b[0m \u001b[0;34m=\u001b[0m \u001b[0malt\u001b[0m\u001b[0;34m(\u001b[0m\u001b[0mvalues\u001b[0m\u001b[0;34m,\u001b[0m \u001b[0maxis\u001b[0m\u001b[0;34m=\u001b[0m\u001b[0maxis\u001b[0m\u001b[0;34m,\u001b[0m \u001b[0mskipna\u001b[0m\u001b[0;34m=\u001b[0m\u001b[0mskipna\u001b[0m\u001b[0;34m,\u001b[0m \u001b[0;34m**\u001b[0m\u001b[0mkwds\u001b[0m\u001b[0;34m)\u001b[0m\u001b[0;34m\u001b[0m\u001b[0;34m\u001b[0m\u001b[0m\n\u001b[1;32m    146\u001b[0m             \u001b[0;32melse\u001b[0m\u001b[0;34m:\u001b[0m\u001b[0;34m\u001b[0m\u001b[0;34m\u001b[0m\u001b[0m\n\u001b[0;32m--> 147\u001b[0;31m                 \u001b[0mresult\u001b[0m \u001b[0;34m=\u001b[0m \u001b[0malt\u001b[0m\u001b[0;34m(\u001b[0m\u001b[0mvalues\u001b[0m\u001b[0;34m,\u001b[0m \u001b[0maxis\u001b[0m\u001b[0;34m=\u001b[0m\u001b[0maxis\u001b[0m\u001b[0;34m,\u001b[0m \u001b[0mskipna\u001b[0m\u001b[0;34m=\u001b[0m\u001b[0mskipna\u001b[0m\u001b[0;34m,\u001b[0m \u001b[0;34m**\u001b[0m\u001b[0mkwds\u001b[0m\u001b[0;34m)\u001b[0m\u001b[0;34m\u001b[0m\u001b[0;34m\u001b[0m\u001b[0m\n\u001b[0m\u001b[1;32m    148\u001b[0m \u001b[0;34m\u001b[0m\u001b[0m\n\u001b[1;32m    149\u001b[0m             \u001b[0;32mreturn\u001b[0m \u001b[0mresult\u001b[0m\u001b[0;34m\u001b[0m\u001b[0;34m\u001b[0m\u001b[0m\n",
            "\u001b[0;32m/usr/local/lib/python3.11/dist-packages/pandas/core/nanops.py\u001b[0m in \u001b[0;36mnew_func\u001b[0;34m(values, axis, skipna, mask, **kwargs)\u001b[0m\n\u001b[1;32m    402\u001b[0m             \u001b[0mmask\u001b[0m \u001b[0;34m=\u001b[0m \u001b[0misna\u001b[0m\u001b[0;34m(\u001b[0m\u001b[0mvalues\u001b[0m\u001b[0;34m)\u001b[0m\u001b[0;34m\u001b[0m\u001b[0;34m\u001b[0m\u001b[0m\n\u001b[1;32m    403\u001b[0m \u001b[0;34m\u001b[0m\u001b[0m\n\u001b[0;32m--> 404\u001b[0;31m         \u001b[0mresult\u001b[0m \u001b[0;34m=\u001b[0m \u001b[0mfunc\u001b[0m\u001b[0;34m(\u001b[0m\u001b[0mvalues\u001b[0m\u001b[0;34m,\u001b[0m \u001b[0maxis\u001b[0m\u001b[0;34m=\u001b[0m\u001b[0maxis\u001b[0m\u001b[0;34m,\u001b[0m \u001b[0mskipna\u001b[0m\u001b[0;34m=\u001b[0m\u001b[0mskipna\u001b[0m\u001b[0;34m,\u001b[0m \u001b[0mmask\u001b[0m\u001b[0;34m=\u001b[0m\u001b[0mmask\u001b[0m\u001b[0;34m,\u001b[0m \u001b[0;34m**\u001b[0m\u001b[0mkwargs\u001b[0m\u001b[0;34m)\u001b[0m\u001b[0;34m\u001b[0m\u001b[0;34m\u001b[0m\u001b[0m\n\u001b[0m\u001b[1;32m    405\u001b[0m \u001b[0;34m\u001b[0m\u001b[0m\n\u001b[1;32m    406\u001b[0m         \u001b[0;32mif\u001b[0m \u001b[0mdatetimelike\u001b[0m\u001b[0;34m:\u001b[0m\u001b[0;34m\u001b[0m\u001b[0;34m\u001b[0m\u001b[0m\n",
            "\u001b[0;32m/usr/local/lib/python3.11/dist-packages/pandas/core/nanops.py\u001b[0m in \u001b[0;36mnanmean\u001b[0;34m(values, axis, skipna, mask)\u001b[0m\n\u001b[1;32m    718\u001b[0m     \u001b[0mcount\u001b[0m \u001b[0;34m=\u001b[0m \u001b[0m_get_counts\u001b[0m\u001b[0;34m(\u001b[0m\u001b[0mvalues\u001b[0m\u001b[0;34m.\u001b[0m\u001b[0mshape\u001b[0m\u001b[0;34m,\u001b[0m \u001b[0mmask\u001b[0m\u001b[0;34m,\u001b[0m \u001b[0maxis\u001b[0m\u001b[0;34m,\u001b[0m \u001b[0mdtype\u001b[0m\u001b[0;34m=\u001b[0m\u001b[0mdtype_count\u001b[0m\u001b[0;34m)\u001b[0m\u001b[0;34m\u001b[0m\u001b[0;34m\u001b[0m\u001b[0m\n\u001b[1;32m    719\u001b[0m     \u001b[0mthe_sum\u001b[0m \u001b[0;34m=\u001b[0m \u001b[0mvalues\u001b[0m\u001b[0;34m.\u001b[0m\u001b[0msum\u001b[0m\u001b[0;34m(\u001b[0m\u001b[0maxis\u001b[0m\u001b[0;34m,\u001b[0m \u001b[0mdtype\u001b[0m\u001b[0;34m=\u001b[0m\u001b[0mdtype_sum\u001b[0m\u001b[0;34m)\u001b[0m\u001b[0;34m\u001b[0m\u001b[0;34m\u001b[0m\u001b[0m\n\u001b[0;32m--> 720\u001b[0;31m     \u001b[0mthe_sum\u001b[0m \u001b[0;34m=\u001b[0m \u001b[0m_ensure_numeric\u001b[0m\u001b[0;34m(\u001b[0m\u001b[0mthe_sum\u001b[0m\u001b[0;34m)\u001b[0m\u001b[0;34m\u001b[0m\u001b[0;34m\u001b[0m\u001b[0m\n\u001b[0m\u001b[1;32m    721\u001b[0m \u001b[0;34m\u001b[0m\u001b[0m\n\u001b[1;32m    722\u001b[0m     \u001b[0;32mif\u001b[0m \u001b[0maxis\u001b[0m \u001b[0;32mis\u001b[0m \u001b[0;32mnot\u001b[0m \u001b[0;32mNone\u001b[0m \u001b[0;32mand\u001b[0m \u001b[0mgetattr\u001b[0m\u001b[0;34m(\u001b[0m\u001b[0mthe_sum\u001b[0m\u001b[0;34m,\u001b[0m \u001b[0;34m\"ndim\"\u001b[0m\u001b[0;34m,\u001b[0m \u001b[0;32mFalse\u001b[0m\u001b[0;34m)\u001b[0m\u001b[0;34m:\u001b[0m\u001b[0;34m\u001b[0m\u001b[0;34m\u001b[0m\u001b[0m\n",
            "\u001b[0;32m/usr/local/lib/python3.11/dist-packages/pandas/core/nanops.py\u001b[0m in \u001b[0;36m_ensure_numeric\u001b[0;34m(x)\u001b[0m\n\u001b[1;32m   1684\u001b[0m             \u001b[0;32mif\u001b[0m \u001b[0minferred\u001b[0m \u001b[0;32min\u001b[0m \u001b[0;34m[\u001b[0m\u001b[0;34m\"string\"\u001b[0m\u001b[0;34m,\u001b[0m \u001b[0;34m\"mixed\"\u001b[0m\u001b[0;34m]\u001b[0m\u001b[0;34m:\u001b[0m\u001b[0;34m\u001b[0m\u001b[0;34m\u001b[0m\u001b[0m\n\u001b[1;32m   1685\u001b[0m                 \u001b[0;31m# GH#44008, GH#36703 avoid casting e.g. strings to numeric\u001b[0m\u001b[0;34m\u001b[0m\u001b[0;34m\u001b[0m\u001b[0m\n\u001b[0;32m-> 1686\u001b[0;31m                 \u001b[0;32mraise\u001b[0m \u001b[0mTypeError\u001b[0m\u001b[0;34m(\u001b[0m\u001b[0;34mf\"Could not convert {x} to numeric\"\u001b[0m\u001b[0;34m)\u001b[0m\u001b[0;34m\u001b[0m\u001b[0;34m\u001b[0m\u001b[0m\n\u001b[0m\u001b[1;32m   1687\u001b[0m             \u001b[0;32mtry\u001b[0m\u001b[0;34m:\u001b[0m\u001b[0;34m\u001b[0m\u001b[0;34m\u001b[0m\u001b[0m\n\u001b[1;32m   1688\u001b[0m                 \u001b[0mx\u001b[0m \u001b[0;34m=\u001b[0m \u001b[0mx\u001b[0m\u001b[0;34m.\u001b[0m\u001b[0mastype\u001b[0m\u001b[0;34m(\u001b[0m\u001b[0mnp\u001b[0m\u001b[0;34m.\u001b[0m\u001b[0mcomplex128\u001b[0m\u001b[0;34m)\u001b[0m\u001b[0;34m\u001b[0m\u001b[0;34m\u001b[0m\u001b[0m\n",
            "\u001b[0;31mTypeError\u001b[0m: Could not convert ['Chips and Fresh Tomato SalsaIzzeNantucket NectarChips and Tomatillo-Green Chili SalsaChicken BowlChicken BowlSide of ChipsSteak BurritoSteak Soft TacosSteak BurritoChips and GuacamoleChicken Crispy TacosChicken Soft TacosChicken BowlChips and GuacamoleChips and Tomatillo-Green Chili SalsaChicken BurritoChicken BurritoCanned SodaChicken BowlChips and GuacamoleBarbacoa BurritoNantucket NectarChicken BurritoIzzeChips and Fresh Tomato SalsaChicken BowlCarnitas BurritoCanned SodaChicken BurritoChips and Tomatillo-Green Chili SalsaSteak BurritoSide of ChipsCarnitas BowlBottled WaterChicken Soft TacosChicken Soft TacosChips and GuacamoleChips and Tomatillo Green Chili SalsaBarbacoa BowlChipsChips and GuacamoleChicken BowlSteak BurritoChicken Salad BowlChicken BurritoSteak BurritoIzzeSteak BurritoChips and GuacamoleSteak BurritoCanned SodaChicken BurritoCanned SodaSteak BowlChips and Fresh Tomato SalsaBarbacoa Soft TacosVeggie BurritoBarbacoa BowlChipsChips and GuacamoleSteak Soft TacosVeggie BowlChicken BurritoSteak BurritoSteak Soft TacosIzzeSteak BurritoChicken BurritoSteak BurritoSide of ChipsSteak BurritoChips and GuacamoleChicken BurritoChips and GuacamoleChicken Soft TacosChicken BowlChipsChicken BowlChicken Soft TacosChipsBarbacoa BurritoChicken BurritoChicken BurritoSteak Soft TacosVeggie BowlSteak BowlBottled WaterCarnitas BurritoChips and Fresh Tomato SalsaSteak BowlSteak BowlSteak Crispy TacosCarnitas BurritoChips and Guacamole..."
          ]
        }
      ],
      "source": [
        "# Solution 2\n",
        "\n",
        "chipo.groupby(by=['order_id']).sum().mean()['revenue']"
      ]
    },
    {
      "source": [
        "# Solution 2 - Corrected\n",
        "\n",
        "# Calculate total revenue for each order\n",
        "order_grouped = chipo.groupby(by=['order_id'])['revenue'].sum()\n",
        "\n",
        "# Calculate the average revenue per order\n",
        "avg_"
      ],
      "cell_type": "code",
      "metadata": {
        "id": "J415JtpbONrb",
        "outputId": "409225a2-81e0-424d-fe21-6309c31ffc27",
        "colab": {
          "base_uri": "https://localhost:8080/",
          "height": 180
        }
      },
      "execution_count": 25,
      "outputs": [
        {
          "output_type": "error",
          "ename": "NameError",
          "evalue": "name 'avg_' is not defined",
          "traceback": [
            "\u001b[0;31m---------------------------------------------------------------------------\u001b[0m",
            "\u001b[0;31mNameError\u001b[0m                                 Traceback (most recent call last)",
            "\u001b[0;32m<ipython-input-25-b7d8a551f5bb>\u001b[0m in \u001b[0;36m<cell line: 0>\u001b[0;34m()\u001b[0m\n\u001b[1;32m      5\u001b[0m \u001b[0;34m\u001b[0m\u001b[0m\n\u001b[1;32m      6\u001b[0m \u001b[0;31m# Calculate the average revenue per order\u001b[0m\u001b[0;34m\u001b[0m\u001b[0;34m\u001b[0m\u001b[0m\n\u001b[0;32m----> 7\u001b[0;31m \u001b[0mavg_\u001b[0m\u001b[0;34m\u001b[0m\u001b[0;34m\u001b[0m\u001b[0m\n\u001b[0m",
            "\u001b[0;31mNameError\u001b[0m: name 'avg_' is not defined"
          ]
        }
      ]
    },
    {
      "source": [
        "# Solution 2 - Corrected\n",
        "\n",
        "# Calculate total revenue for each order\n",
        "order_grouped = chipo.groupby(by=['order_id'])['revenue'].sum()\n",
        "\n",
        "# Calculate the average revenue per order\n",
        "avg_revenue_per_order = order_grouped.mean()\n",
        "\n",
        "# Print or display the result (optional)\n",
        "print(avg_revenue_per_order)"
      ],
      "cell_type": "code",
      "metadata": {
        "id": "x69u5ybCORdd",
        "outputId": "75b25e93-26a8-4714-b76b-f9388f4de064",
        "colab": {
          "base_uri": "https://localhost:8080/"
        }
      },
      "execution_count": 26,
      "outputs": [
        {
          "output_type": "stream",
          "name": "stdout",
          "text": [
            "21.39423118865867\n"
          ]
        }
      ]
    },
    {
      "cell_type": "markdown",
      "metadata": {
        "id": "BgXJQmDjNKsZ"
      },
      "source": [
        "### Step 17. How many different items are sold?"
      ]
    },
    {
      "cell_type": "code",
      "execution_count": 30,
      "metadata": {
        "id": "e7o5vcWvNKsZ",
        "outputId": "ac0b446a-f643-421b-e607-a37be949f60c",
        "colab": {
          "base_uri": "https://localhost:8080/"
        }
      },
      "outputs": [
        {
          "output_type": "execute_result",
          "data": {
            "text/plain": [
              "50"
            ]
          },
          "metadata": {},
          "execution_count": 30
        }
      ],
      "source": [
        "chipo.item_name.value_counts().count()"
      ]
    }
  ],
  "metadata": {
    "anaconda-cloud": {},
    "kernelspec": {
      "display_name": "Python [default]",
      "language": "python",
      "name": "python2"
    },
    "language_info": {
      "codemirror_mode": {
        "name": "ipython",
        "version": 2
      },
      "file_extension": ".py",
      "mimetype": "text/x-python",
      "name": "python",
      "nbconvert_exporter": "python",
      "pygments_lexer": "ipython2",
      "version": "2.7.12"
    },
    "colab": {
      "provenance": [],
      "include_colab_link": true
    }
  },
  "nbformat": 4,
  "nbformat_minor": 0
}